{
 "cells": [
  {
   "cell_type": "code",
   "execution_count": 64,
   "id": "95254aae-d886-464e-99cf-6155b981ab1e",
   "metadata": {},
   "outputs": [
    {
     "data": {
      "text/plain": [
       "0    1\n",
       "1    2\n",
       "2    3\n",
       "3    4\n",
       "4    5\n",
       "5    6\n",
       "6    7\n",
       "dtype: int32"
      ]
     },
     "execution_count": 64,
     "metadata": {},
     "output_type": "execute_result"
    }
   ],
   "source": [
    "import numpy as np\n",
    "import pandas as pd\n",
    "# Create series from numpy array\n",
    "v = np.array([1,2,3,4,5,6,7]) # Creating a NumPy array\n",
    "s1 = pd.Series(v) # Converting the NumPy array to a Pandas Series\n",
    "s1"
   ]
  },
  {
   "cell_type": "code",
   "execution_count": 65,
   "id": "128191dd-d023-4c42-8f2d-9156847072cd",
   "metadata": {},
   "outputs": [
    {
     "data": {
      "text/plain": [
       "dtype('int32')"
      ]
     },
     "execution_count": 65,
     "metadata": {},
     "output_type": "execute_result"
    }
   ],
   "source": [
    "#Datatype of Series\n",
    "s1.dtype"
   ]
  },
  {
   "cell_type": "code",
   "execution_count": null,
   "id": "45c6fa94-3129-4a4a-aeea-36c78b37e1f1",
   "metadata": {},
   "outputs": [],
   "source": []
  },
  {
   "cell_type": "code",
   "execution_count": 66,
   "id": "34b71012-db57-4545-a2e8-397e86787bc4",
   "metadata": {},
   "outputs": [
    {
     "data": {
      "text/plain": [
       "(7,)"
      ]
     },
     "execution_count": 66,
     "metadata": {},
     "output_type": "execute_result"
    }
   ],
   "source": [
    "# shape of series\n",
    "s1.shape"
   ]
  },
  {
   "cell_type": "code",
   "execution_count": 67,
   "id": "dbb69c78-1c36-49ba-b526-a9d7612cfdfb",
   "metadata": {},
   "outputs": [
    {
     "data": {
      "text/plain": [
       "1"
      ]
     },
     "execution_count": 67,
     "metadata": {},
     "output_type": "execute_result"
    }
   ],
   "source": [
    "# number of dimensions\n",
    "s1.ndim"
   ]
  },
  {
   "cell_type": "code",
   "execution_count": 68,
   "id": "2f98c64e-d676-451a-a0d9-19865d0cc630",
   "metadata": {},
   "outputs": [
    {
     "data": {
      "text/plain": [
       "7"
      ]
     },
     "execution_count": 68,
     "metadata": {},
     "output_type": "execute_result"
    }
   ],
   "source": [
    "# len of series\n",
    "len(s1)"
   ]
  },
  {
   "cell_type": "code",
   "execution_count": 69,
   "id": "898cdcc3-e7ae-4c48-976f-e67d92d7e630",
   "metadata": {},
   "outputs": [
    {
     "data": {
      "text/plain": [
       "7"
      ]
     },
     "execution_count": 69,
     "metadata": {},
     "output_type": "execute_result"
    }
   ],
   "source": [
    "s1.count()"
   ]
  },
  {
   "cell_type": "code",
   "execution_count": 70,
   "id": "ab0efbce-f702-4b6e-baf6-9241ebd4c0e8",
   "metadata": {},
   "outputs": [
    {
     "data": {
      "text/plain": [
       "7"
      ]
     },
     "execution_count": 70,
     "metadata": {},
     "output_type": "execute_result"
    }
   ],
   "source": [
    "s1.size"
   ]
  },
  {
   "cell_type": "code",
   "execution_count": 71,
   "id": "2e40cbc1-d699-492c-acf4-3e14a128e173",
   "metadata": {},
   "outputs": [
    {
     "data": {
      "text/plain": [
       "a    1\n",
       "b    2\n",
       "c    3\n",
       "dtype: int64"
      ]
     },
     "execution_count": 71,
     "metadata": {},
     "output_type": "execute_result"
    }
   ],
   "source": [
    "# Create Series from list\n",
    "s0 = pd.Series([1,2,3], index = ['a','b','c'])\n",
    "s0"
   ]
  },
  {
   "cell_type": "code",
   "execution_count": 72,
   "id": "326e3c1f-4c13-4d07-9b0e-421f495c6bf9",
   "metadata": {},
   "outputs": [],
   "source": [
    "# Modifying index in Series\n",
    "X = np.array(['a','b','c','d','e','f','g'])\n",
    "s1.index = X"
   ]
  },
  {
   "cell_type": "code",
   "execution_count": 73,
   "id": "be1af423-c837-40eb-8d85-75f679576554",
   "metadata": {},
   "outputs": [
    {
     "data": {
      "text/plain": [
       "a    1\n",
       "b    2\n",
       "c    3\n",
       "d    4\n",
       "e    5\n",
       "f    6\n",
       "g    7\n",
       "dtype: int32"
      ]
     },
     "execution_count": 73,
     "metadata": {},
     "output_type": "execute_result"
    }
   ],
   "source": [
    "s1"
   ]
  },
  {
   "cell_type": "code",
   "execution_count": 74,
   "id": "04177b4c-8839-4a41-8abb-c8eaac9fc5e9",
   "metadata": {},
   "outputs": [
    {
     "data": {
      "text/plain": [
       "array([0.95627955, 0.36207591, 0.86066913, 0.36250071, 0.80939157,\n",
       "       0.29444965, 0.57991789, 0.99861202, 0.40578251, 0.26050227])"
      ]
     },
     "execution_count": 74,
     "metadata": {},
     "output_type": "execute_result"
    }
   ],
   "source": [
    "# Creating series using Random and Range function\n",
    "v2 = np.random.random(10) #generates an array v2 of 10 random numbers between 0 and 1.\n",
    "ind2 = np.arange(0,10) #creates an array ind2 of integers from 0 to 9\n",
    "s = pd.Series(v2,ind2) # creates a pandas Series s with the random values in v2 as the data and the integers in ind2 as the index\n",
    "v2"
   ]
  },
  {
   "cell_type": "code",
   "execution_count": 75,
   "id": "39e7fb97-a521-48a4-97d3-660c45a7cb57",
   "metadata": {},
   "outputs": [
    {
     "data": {
      "text/plain": [
       "(array([0, 1, 2, 3, 4, 5, 6, 7, 8, 9]),\n",
       " array([0.95627955, 0.36207591, 0.86066913, 0.36250071, 0.80939157,\n",
       "        0.29444965, 0.57991789, 0.99861202, 0.40578251, 0.26050227]))"
      ]
     },
     "execution_count": 75,
     "metadata": {},
     "output_type": "execute_result"
    }
   ],
   "source": [
    "ind2, v2"
   ]
  },
  {
   "cell_type": "code",
   "execution_count": 76,
   "id": "f7ac075c-9065-4561-b7a3-86267bf9ed8f",
   "metadata": {},
   "outputs": [
    {
     "data": {
      "text/plain": [
       "a1    10\n",
       "a2    20\n",
       "a3    30\n",
       "a4    40\n",
       "dtype: int64"
      ]
     },
     "execution_count": 76,
     "metadata": {},
     "output_type": "execute_result"
    }
   ],
   "source": [
    "dict = {'a1':10,'a2':20,'a3':30,'a4':40}\n",
    "s3 = pd.Series(dict)\n",
    "s3"
   ]
  },
  {
   "cell_type": "code",
   "execution_count": 77,
   "id": "4bd9e01a-601d-4258-a6eb-6421a44aa120",
   "metadata": {},
   "outputs": [
    {
     "data": {
      "text/plain": [
       "1    99\n",
       "2    99\n",
       "3    99\n",
       "4    99\n",
       "5    99\n",
       "dtype: int64"
      ]
     },
     "execution_count": 77,
     "metadata": {},
     "output_type": "execute_result"
    }
   ],
   "source": [
    "pd.Series(99, index = [1,2,3,4,5])"
   ]
  },
  {
   "cell_type": "markdown",
   "id": "2abddbd3-7b93-4d2e-9c1e-bc65a8ee37b5",
   "metadata": {},
   "source": [
    "1 Different Things on Series with Pandas\n",
    "1.1 slicing series"
   ]
  },
  {
   "cell_type": "code",
   "execution_count": 78,
   "id": "81bc2bee-1769-4a20-89b6-6d6ff1dfef3a",
   "metadata": {},
   "outputs": [
    {
     "data": {
      "text/plain": [
       "0    0.956280\n",
       "1    0.362076\n",
       "2    0.860669\n",
       "3    0.362501\n",
       "4    0.809392\n",
       "5    0.294450\n",
       "6    0.579918\n",
       "7    0.998612\n",
       "8    0.405783\n",
       "9    0.260502\n",
       "dtype: float64"
      ]
     },
     "execution_count": 78,
     "metadata": {},
     "output_type": "execute_result"
    }
   ],
   "source": [
    "s"
   ]
  },
  {
   "cell_type": "code",
   "execution_count": 79,
   "id": "7a7b98af-bc74-4678-af9f-8022440f0b0f",
   "metadata": {},
   "outputs": [
    {
     "data": {
      "text/plain": [
       "0    0.956280\n",
       "1    0.362076\n",
       "2    0.860669\n",
       "3    0.362501\n",
       "4    0.809392\n",
       "5    0.294450\n",
       "6    0.579918\n",
       "7    0.998612\n",
       "8    0.405783\n",
       "9    0.260502\n",
       "dtype: float64"
      ]
     },
     "execution_count": 79,
     "metadata": {},
     "output_type": "execute_result"
    }
   ],
   "source": [
    "# Return all elements of the series\n",
    "s[:]"
   ]
  },
  {
   "cell_type": "code",
   "execution_count": 80,
   "id": "21d991f1-f73d-43f0-850d-bb3812695039",
   "metadata": {},
   "outputs": [
    {
     "data": {
      "text/plain": [
       "0    0.956280\n",
       "1    0.362076\n",
       "2    0.860669\n",
       "dtype: float64"
      ]
     },
     "execution_count": 80,
     "metadata": {},
     "output_type": "execute_result"
    }
   ],
   "source": [
    "# First three element of the Series\n",
    "s[0:3]"
   ]
  },
  {
   "cell_type": "code",
   "execution_count": 81,
   "id": "233f2795-07d3-4cdc-bfb4-c467c98fe16b",
   "metadata": {},
   "outputs": [
    {
     "data": {
      "text/plain": [
       "9    0.260502\n",
       "dtype: float64"
      ]
     },
     "execution_count": 81,
     "metadata": {},
     "output_type": "execute_result"
    }
   ],
   "source": [
    "# Last element of the Series\n",
    "s[-1:]"
   ]
  },
  {
   "cell_type": "code",
   "execution_count": 82,
   "id": "2c6d9a68-6f49-4170-bab1-81baf0d325af",
   "metadata": {},
   "outputs": [
    {
     "data": {
      "text/plain": [
       "0    0.956280\n",
       "1    0.362076\n",
       "2    0.860669\n",
       "3    0.362501\n",
       "dtype: float64"
      ]
     },
     "execution_count": 82,
     "metadata": {},
     "output_type": "execute_result"
    }
   ],
   "source": [
    "# Fetch first 4 elements in a series\n",
    "s[:4]"
   ]
  },
  {
   "cell_type": "code",
   "execution_count": 83,
   "id": "3ad5bac0-1c8e-4095-9d69-4a2a79842c6f",
   "metadata": {},
   "outputs": [
    {
     "data": {
      "text/plain": [
       "0    0.956280\n",
       "1    0.362076\n",
       "2    0.860669\n",
       "3    0.362501\n",
       "4    0.809392\n",
       "5    0.294450\n",
       "6    0.579918\n",
       "7    0.998612\n",
       "dtype: float64"
      ]
     },
     "execution_count": 83,
     "metadata": {},
     "output_type": "execute_result"
    }
   ],
   "source": [
    "# Return all elements of the series except last two elements.\n",
    "s[:-2]"
   ]
  },
  {
   "cell_type": "code",
   "execution_count": 84,
   "id": "baf14f95-0d73-4eb3-bb26-77fa3c2a6802",
   "metadata": {},
   "outputs": [
    {
     "data": {
      "text/plain": [
       "0    0.956280\n",
       "1    0.362076\n",
       "2    0.860669\n",
       "3    0.362501\n",
       "4    0.809392\n",
       "5    0.294450\n",
       "6    0.579918\n",
       "7    0.998612\n",
       "8    0.405783\n",
       "dtype: float64"
      ]
     },
     "execution_count": 84,
     "metadata": {},
     "output_type": "execute_result"
    }
   ],
   "source": [
    "# Return all elements of the series except last element.\n",
    "s[:-1]"
   ]
  },
  {
   "cell_type": "code",
   "execution_count": 85,
   "id": "fd14c071-d070-48a0-815a-97d573c45224",
   "metadata": {},
   "outputs": [
    {
     "data": {
      "text/plain": [
       "8    0.405783\n",
       "9    0.260502\n",
       "dtype: float64"
      ]
     },
     "execution_count": 85,
     "metadata": {},
     "output_type": "execute_result"
    }
   ],
   "source": [
    "# Return last two elements of the series\n",
    "s[-2:]"
   ]
  },
  {
   "cell_type": "code",
   "execution_count": 86,
   "id": "e4f2c0a4-a2e4-493b-99ec-b7afa8686b41",
   "metadata": {},
   "outputs": [
    {
     "data": {
      "text/plain": [
       "9    0.260502\n",
       "dtype: float64"
      ]
     },
     "execution_count": 86,
     "metadata": {},
     "output_type": "execute_result"
    }
   ],
   "source": [
    "# Return last element of the series\n",
    "s[-1:]"
   ]
  },
  {
   "cell_type": "code",
   "execution_count": 87,
   "id": "0d368fd0-77d1-4335-a3dc-adaa02d16630",
   "metadata": {},
   "outputs": [
    {
     "data": {
      "text/plain": [
       "7    0.998612\n",
       "8    0.405783\n",
       "dtype: float64"
      ]
     },
     "execution_count": 87,
     "metadata": {},
     "output_type": "execute_result"
    }
   ],
   "source": [
    "#third-to-last and second-to-last\n",
    "s[-3:-1]"
   ]
  },
  {
   "cell_type": "markdown",
   "id": "b0db6831-5153-4fac-87d0-539686a7f343",
   "metadata": {},
   "source": [
    "1.2 Append series"
   ]
  },
  {
   "cell_type": "code",
   "execution_count": 88,
   "id": "5050ae7d-0a3c-4442-93b2-dea6bb539afe",
   "metadata": {},
   "outputs": [
    {
     "data": {
      "text/plain": [
       "a    1\n",
       "b    2\n",
       "c    3\n",
       "d    4\n",
       "e    5\n",
       "f    6\n",
       "g    7\n",
       "dtype: int32"
      ]
     },
     "execution_count": 88,
     "metadata": {},
     "output_type": "execute_result"
    }
   ],
   "source": [
    "s2 = s1.copy()\n",
    "s2"
   ]
  },
  {
   "cell_type": "code",
   "execution_count": 89,
   "id": "805c5542-304a-42bf-9201-120bda31ae15",
   "metadata": {},
   "outputs": [
    {
     "data": {
      "text/plain": [
       "a1    10\n",
       "a2    20\n",
       "a3    30\n",
       "a4    40\n",
       "dtype: int64"
      ]
     },
     "execution_count": 89,
     "metadata": {},
     "output_type": "execute_result"
    }
   ],
   "source": [
    "s3"
   ]
  },
  {
   "cell_type": "code",
   "execution_count": null,
   "id": "6f023634-2bbc-41aa-813d-d5f19dd82440",
   "metadata": {},
   "outputs": [],
   "source": []
  },
  {
   "cell_type": "code",
   "execution_count": 90,
   "id": "3d2dec0c-5d7a-45b8-824f-cf1937497cfd",
   "metadata": {},
   "outputs": [
    {
     "data": {
      "text/plain": [
       "a      1\n",
       "b      2\n",
       "c      3\n",
       "d      4\n",
       "e      5\n",
       "f      6\n",
       "g      7\n",
       "a1    10\n",
       "a2    20\n",
       "a3    30\n",
       "a4    40\n",
       "dtype: int64"
      ]
     },
     "execution_count": 90,
     "metadata": {},
     "output_type": "execute_result"
    }
   ],
   "source": [
    "# Append S2 & S3 series\n",
    "#use concat as append\n",
    "s4 = pd.concat([s2, s3])\n",
    "s4"
   ]
  },
  {
   "cell_type": "code",
   "execution_count": 91,
   "id": "cab43bc6-e4be-4cac-81c4-7acdcf629d79",
   "metadata": {},
   "outputs": [
    {
     "data": {
      "text/plain": [
       "a      1\n",
       "b      2\n",
       "c      3\n",
       "d      4\n",
       "e      5\n",
       "f      6\n",
       "g      7\n",
       "a1    10\n",
       "a2    20\n",
       "a3    30\n",
       "dtype: int64"
      ]
     },
     "execution_count": 91,
     "metadata": {},
     "output_type": "execute_result"
    }
   ],
   "source": [
    "#remove the index elemnt a4 use drop but not change in origanl data\n",
    "s4.drop('a4',inplace = False)"
   ]
  },
  {
   "cell_type": "code",
   "execution_count": 92,
   "id": "f65b5dbc-8570-4953-9833-1f90d3c4ea9d",
   "metadata": {},
   "outputs": [
    {
     "data": {
      "text/plain": [
       "a      1\n",
       "b      2\n",
       "c      3\n",
       "d      4\n",
       "e      5\n",
       "f      6\n",
       "g      7\n",
       "a1    10\n",
       "a2    20\n",
       "a3    30\n",
       "a4    40\n",
       "dtype: int64"
      ]
     },
     "execution_count": 92,
     "metadata": {},
     "output_type": "execute_result"
    }
   ],
   "source": [
    "s4"
   ]
  },
  {
   "cell_type": "code",
   "execution_count": 93,
   "id": "ac7c3e82-8ef2-4440-9eae-48bf9eecc74d",
   "metadata": {},
   "outputs": [],
   "source": [
    "# When we use \"inplace=True\" it will affect the dataframe\n",
    "s4.drop('a4',inplace = True)"
   ]
  },
  {
   "cell_type": "code",
   "execution_count": 94,
   "id": "886abd13-fe24-423a-b6f2-a55e0e78148b",
   "metadata": {},
   "outputs": [
    {
     "data": {
      "text/plain": [
       "a      1\n",
       "b      2\n",
       "c      3\n",
       "d      4\n",
       "e      5\n",
       "f      6\n",
       "g      7\n",
       "a1    10\n",
       "a2    20\n",
       "a3    30\n",
       "dtype: int64"
      ]
     },
     "execution_count": 94,
     "metadata": {},
     "output_type": "execute_result"
    }
   ],
   "source": [
    "s4"
   ]
  },
  {
   "cell_type": "code",
   "execution_count": null,
   "id": "7a504326-5ced-4703-aa91-5f65f8c4660f",
   "metadata": {},
   "outputs": [],
   "source": []
  },
  {
   "cell_type": "code",
   "execution_count": 95,
   "id": "2e48da26-8a0c-42b7-b5a5-162d9e82f6d0",
   "metadata": {},
   "outputs": [
    {
     "data": {
      "text/plain": [
       "a      1\n",
       "b      2\n",
       "c      3\n",
       "d      4\n",
       "e      5\n",
       "f      6\n",
       "g      7\n",
       "a1    10\n",
       "a2    20\n",
       "a3    30\n",
       "a4     7\n",
       "dtype: int64"
      ]
     },
     "execution_count": 95,
     "metadata": {},
     "output_type": "execute_result"
    }
   ],
   "source": [
    "# concat insted of append  add a4 value 7\n",
    "s4 = pd.concat([s4, pd.Series({'a4': 7})])\n",
    "s4\n"
   ]
  },
  {
   "cell_type": "code",
   "execution_count": 96,
   "id": "e02bf4c1-5d54-4acd-977d-5fcc9929a938",
   "metadata": {},
   "outputs": [],
   "source": [
    "#operation on series\n",
    "v1 = np.array([10,20,30])\n",
    "v2 = np.array([1,2,3])\n",
    "s1 = pd.Series(v1)\n",
    "s2 = pd.Series(v2)"
   ]
  },
  {
   "cell_type": "code",
   "execution_count": 97,
   "id": "c13376e2-cf56-4d45-930d-7c3675635d4c",
   "metadata": {},
   "outputs": [
    {
     "data": {
      "text/plain": [
       "(0    10\n",
       " 1    20\n",
       " 2    30\n",
       " dtype: int32,\n",
       " 0    1\n",
       " 1    2\n",
       " 2    3\n",
       " dtype: int32)"
      ]
     },
     "execution_count": 97,
     "metadata": {},
     "output_type": "execute_result"
    }
   ],
   "source": [
    "s1,s2"
   ]
  },
  {
   "cell_type": "code",
   "execution_count": 98,
   "id": "0035e8f8-cde6-4b0d-b731-3a36de420a39",
   "metadata": {},
   "outputs": [
    {
     "data": {
      "text/plain": [
       "0    11\n",
       "1    22\n",
       "2    33\n",
       "dtype: int32"
      ]
     },
     "execution_count": 98,
     "metadata": {},
     "output_type": "execute_result"
    }
   ],
   "source": [
    "# Addition of two series\n",
    "s1.add(s2)"
   ]
  },
  {
   "cell_type": "code",
   "execution_count": 99,
   "id": "f59e5c29-7296-41fe-a942-755fdb7e4527",
   "metadata": {},
   "outputs": [
    {
     "data": {
      "text/plain": [
       "0     9\n",
       "1    18\n",
       "2    27\n",
       "dtype: int32"
      ]
     },
     "execution_count": 99,
     "metadata": {},
     "output_type": "execute_result"
    }
   ],
   "source": [
    "# Subtraction of two series\n",
    "s1.sub(s2)"
   ]
  },
  {
   "cell_type": "code",
   "execution_count": 100,
   "id": "ead73432-1bf1-4d27-b2a8-cea96666162d",
   "metadata": {},
   "outputs": [
    {
     "data": {
      "text/plain": [
       "0     9\n",
       "1    18\n",
       "2    27\n",
       "dtype: int32"
      ]
     },
     "execution_count": 100,
     "metadata": {},
     "output_type": "execute_result"
    }
   ],
   "source": [
    "# Subtraction of two series\n",
    "s1.subtract(s2)"
   ]
  },
  {
   "cell_type": "code",
   "execution_count": 101,
   "id": "05cfe24b-36ff-4c51-98e1-9692823b11bc",
   "metadata": {},
   "outputs": [
    {
     "data": {
      "text/plain": [
       "0    19\n",
       "1    29\n",
       "2    39\n",
       "dtype: int32"
      ]
     },
     "execution_count": 101,
     "metadata": {},
     "output_type": "execute_result"
    }
   ],
   "source": [
    "# Increment all numbers in a series by 9\n",
    "s1.add(9)"
   ]
  },
  {
   "cell_type": "code",
   "execution_count": 102,
   "id": "f735db29-8b80-4f7c-871c-0e30525b869a",
   "metadata": {},
   "outputs": [
    {
     "data": {
      "text/plain": [
       "0    10\n",
       "1    40\n",
       "2    90\n",
       "dtype: int32"
      ]
     },
     "execution_count": 102,
     "metadata": {},
     "output_type": "execute_result"
    }
   ],
   "source": [
    "# Multiplication of two series\n",
    "s1.mul(s2)"
   ]
  },
  {
   "cell_type": "code",
   "execution_count": 103,
   "id": "eb024cb9-0b91-4ad6-8d65-27c7eaf8b654",
   "metadata": {},
   "outputs": [
    {
     "data": {
      "text/plain": [
       "0    10\n",
       "1    40\n",
       "2    90\n",
       "dtype: int32"
      ]
     },
     "execution_count": 103,
     "metadata": {},
     "output_type": "execute_result"
    }
   ],
   "source": [
    "# Multiplication of two series\n",
    "s1.multiply(s2)"
   ]
  },
  {
   "cell_type": "code",
   "execution_count": 104,
   "id": "33561cf4-1111-49c0-b94f-44e5cf069a50",
   "metadata": {},
   "outputs": [
    {
     "data": {
      "text/plain": [
       "0    10000\n",
       "1    20000\n",
       "2    30000\n",
       "dtype: int32"
      ]
     },
     "execution_count": 104,
     "metadata": {},
     "output_type": "execute_result"
    }
   ],
   "source": [
    "# Multiply each element by 1000\n",
    "s1.mul(1000)"
   ]
  },
  {
   "cell_type": "code",
   "execution_count": 105,
   "id": "7d572c1f-b13f-48df-97ce-e03b6804b4dd",
   "metadata": {},
   "outputs": [
    {
     "data": {
      "text/plain": [
       "0    10.0\n",
       "1    10.0\n",
       "2    10.0\n",
       "dtype: float64"
      ]
     },
     "execution_count": 105,
     "metadata": {},
     "output_type": "execute_result"
    }
   ],
   "source": [
    "# Division\n",
    "s1.divide(s2)"
   ]
  },
  {
   "cell_type": "code",
   "execution_count": 106,
   "id": "34a664cf-c500-4c3b-aa64-d0ed5b07b34b",
   "metadata": {},
   "outputs": [
    {
     "data": {
      "text/plain": [
       "0    10.0\n",
       "1    10.0\n",
       "2    10.0\n",
       "dtype: float64"
      ]
     },
     "execution_count": 106,
     "metadata": {},
     "output_type": "execute_result"
    }
   ],
   "source": [
    "# Division\n",
    "s1.div(s2)"
   ]
  },
  {
   "cell_type": "code",
   "execution_count": 107,
   "id": "da82ec13-5b6f-4303-9d92-79f04e35fe40",
   "metadata": {},
   "outputs": [
    {
     "data": {
      "text/plain": [
       "30"
      ]
     },
     "execution_count": 107,
     "metadata": {},
     "output_type": "execute_result"
    }
   ],
   "source": [
    "# MAX number in a series\n",
    "s1.max()"
   ]
  },
  {
   "cell_type": "code",
   "execution_count": 108,
   "id": "89dfa1eb-1bb9-43de-9724-595cae07dbe3",
   "metadata": {},
   "outputs": [
    {
     "data": {
      "text/plain": [
       "10"
      ]
     },
     "execution_count": 108,
     "metadata": {},
     "output_type": "execute_result"
    }
   ],
   "source": [
    "# Min number in a series\n",
    "s1.min()"
   ]
  },
  {
   "cell_type": "code",
   "execution_count": 109,
   "id": "42e73d76-9ef5-4b44-8118-511e1d85c2ba",
   "metadata": {},
   "outputs": [
    {
     "data": {
      "text/plain": [
       "20.0"
      ]
     },
     "execution_count": 109,
     "metadata": {},
     "output_type": "execute_result"
    }
   ],
   "source": [
    "#Avg\n",
    "s1.mean()"
   ]
  },
  {
   "cell_type": "code",
   "execution_count": 110,
   "id": "b71be564-8d41-4e19-b2c0-31b59abd803e",
   "metadata": {},
   "outputs": [
    {
     "data": {
      "text/plain": [
       "20.0"
      ]
     },
     "execution_count": 110,
     "metadata": {},
     "output_type": "execute_result"
    }
   ],
   "source": [
    "#median\n",
    "s1.median()"
   ]
  },
  {
   "cell_type": "code",
   "execution_count": 111,
   "id": "afd757b9-35c3-4996-809d-c42ff5cfe7d7",
   "metadata": {},
   "outputs": [
    {
     "data": {
      "text/plain": [
       "10.0"
      ]
     },
     "execution_count": 111,
     "metadata": {},
     "output_type": "execute_result"
    }
   ],
   "source": [
    "#standard deviation\n",
    "s1.std()"
   ]
  },
  {
   "cell_type": "code",
   "execution_count": 112,
   "id": "a9270985-f610-40d9-badc-ac4e0a8fc7e1",
   "metadata": {},
   "outputs": [
    {
     "data": {
      "text/plain": [
       "False"
      ]
     },
     "execution_count": 112,
     "metadata": {},
     "output_type": "execute_result"
    }
   ],
   "source": [
    "#Series comparison\n",
    "s1.equals(s2)"
   ]
  },
  {
   "cell_type": "code",
   "execution_count": 113,
   "id": "3d8e7d70-951d-4d31-a2d4-cdb477af7ec2",
   "metadata": {},
   "outputs": [],
   "source": [
    "s4 =s1"
   ]
  },
  {
   "cell_type": "code",
   "execution_count": 114,
   "id": "50da0f99-83cc-4c70-b85c-3dd6f516f35f",
   "metadata": {},
   "outputs": [
    {
     "data": {
      "text/plain": [
       "True"
      ]
     },
     "execution_count": 114,
     "metadata": {},
     "output_type": "execute_result"
    }
   ],
   "source": [
    "#Series comparison\n",
    "s4.equals(s1)"
   ]
  },
  {
   "cell_type": "code",
   "execution_count": 115,
   "id": "d6454eca-b10b-44d6-ad03-ccc4005d6167",
   "metadata": {},
   "outputs": [
    {
     "data": {
      "text/plain": [
       "0    1\n",
       "1    1\n",
       "2    2\n",
       "3    2\n",
       "4    3\n",
       "5    3\n",
       "dtype: int64"
      ]
     },
     "execution_count": 115,
     "metadata": {},
     "output_type": "execute_result"
    }
   ],
   "source": [
    "s5 = pd.Series([1,1,2,2,3,3], index = [0,1,2,3,4,5])\n",
    "s5"
   ]
  },
  {
   "cell_type": "code",
   "execution_count": 116,
   "id": "fad681a4-8bee-47fa-8b71-d50874175518",
   "metadata": {},
   "outputs": [
    {
     "data": {
      "text/plain": [
       "1    2\n",
       "2    2\n",
       "3    2\n",
       "Name: count, dtype: int64"
      ]
     },
     "execution_count": 116,
     "metadata": {},
     "output_type": "execute_result"
    }
   ],
   "source": [
    "# afind frequency or how many time repet samne number\n",
    "s5.value_counts()"
   ]
  },
  {
   "cell_type": "markdown",
   "id": "fe3e0bb7-d2a4-4d5e-898e-97935b470ab4",
   "metadata": {},
   "source": [
    "data frame"
   ]
  },
  {
   "cell_type": "markdown",
   "id": "86c56d4a-dae7-42fd-911f-811670f688b4",
   "metadata": {},
   "source": [
    "2.1 create data frame"
   ]
  },
  {
   "cell_type": "code",
   "execution_count": 117,
   "id": "4c15f232-5ae5-4ce7-ab79-8ca1f8e089fd",
   "metadata": {},
   "outputs": [],
   "source": [
    "df = pd.DataFrame()"
   ]
  },
  {
   "cell_type": "code",
   "execution_count": 118,
   "id": "bd5d97d3-3dda-4e79-b6d0-37508ff788bd",
   "metadata": {},
   "outputs": [
    {
     "data": {
      "text/html": [
       "<div>\n",
       "<style scoped>\n",
       "    .dataframe tbody tr th:only-of-type {\n",
       "        vertical-align: middle;\n",
       "    }\n",
       "\n",
       "    .dataframe tbody tr th {\n",
       "        vertical-align: top;\n",
       "    }\n",
       "\n",
       "    .dataframe thead th {\n",
       "        text-align: right;\n",
       "    }\n",
       "</style>\n",
       "<table border=\"1\" class=\"dataframe\">\n",
       "  <thead>\n",
       "    <tr style=\"text-align: right;\">\n",
       "      <th></th>\n",
       "    </tr>\n",
       "  </thead>\n",
       "  <tbody>\n",
       "  </tbody>\n",
       "</table>\n",
       "</div>"
      ],
      "text/plain": [
       "Empty DataFrame\n",
       "Columns: []\n",
       "Index: []"
      ]
     },
     "execution_count": 118,
     "metadata": {},
     "output_type": "execute_result"
    }
   ],
   "source": [
    "df"
   ]
  },
  {
   "cell_type": "code",
   "execution_count": 119,
   "id": "f5c74c7b-d716-468a-b832-e8658a043f64",
   "metadata": {},
   "outputs": [],
   "source": [
    "#create Data Frame usine list\n",
    "lang = ['Java', 'Python', 'C', 'C++']\n",
    "df = pd.DataFrame(lang)\n"
   ]
  },
  {
   "cell_type": "code",
   "execution_count": 120,
   "id": "b7cac2a6-cb27-403d-9cf5-788f077b1fb6",
   "metadata": {},
   "outputs": [
    {
     "data": {
      "text/html": [
       "<div>\n",
       "<style scoped>\n",
       "    .dataframe tbody tr th:only-of-type {\n",
       "        vertical-align: middle;\n",
       "    }\n",
       "\n",
       "    .dataframe tbody tr th {\n",
       "        vertical-align: top;\n",
       "    }\n",
       "\n",
       "    .dataframe thead th {\n",
       "        text-align: right;\n",
       "    }\n",
       "</style>\n",
       "<table border=\"1\" class=\"dataframe\">\n",
       "  <thead>\n",
       "    <tr style=\"text-align: right;\">\n",
       "      <th></th>\n",
       "      <th>0</th>\n",
       "    </tr>\n",
       "  </thead>\n",
       "  <tbody>\n",
       "    <tr>\n",
       "      <th>0</th>\n",
       "      <td>Java</td>\n",
       "    </tr>\n",
       "    <tr>\n",
       "      <th>1</th>\n",
       "      <td>Python</td>\n",
       "    </tr>\n",
       "    <tr>\n",
       "      <th>2</th>\n",
       "      <td>C</td>\n",
       "    </tr>\n",
       "    <tr>\n",
       "      <th>3</th>\n",
       "      <td>C++</td>\n",
       "    </tr>\n",
       "  </tbody>\n",
       "</table>\n",
       "</div>"
      ],
      "text/plain": [
       "        0\n",
       "0    Java\n",
       "1  Python\n",
       "2       C\n",
       "3     C++"
      ]
     },
     "execution_count": 120,
     "metadata": {},
     "output_type": "execute_result"
    }
   ],
   "source": [
    "df"
   ]
  },
  {
   "cell_type": "code",
   "execution_count": 121,
   "id": "10c30c19-88c0-4a79-95ca-c76259bf7162",
   "metadata": {},
   "outputs": [
    {
     "data": {
      "text/html": [
       "<div>\n",
       "<style scoped>\n",
       "    .dataframe tbody tr th:only-of-type {\n",
       "        vertical-align: middle;\n",
       "    }\n",
       "\n",
       "    .dataframe tbody tr th {\n",
       "        vertical-align: top;\n",
       "    }\n",
       "\n",
       "    .dataframe thead th {\n",
       "        text-align: right;\n",
       "    }\n",
       "</style>\n",
       "<table border=\"1\" class=\"dataframe\">\n",
       "  <thead>\n",
       "    <tr style=\"text-align: right;\">\n",
       "      <th></th>\n",
       "      <th>0</th>\n",
       "      <th>1</th>\n",
       "    </tr>\n",
       "  </thead>\n",
       "  <tbody>\n",
       "    <tr>\n",
       "      <th>0</th>\n",
       "      <td>Java</td>\n",
       "      <td>1</td>\n",
       "    </tr>\n",
       "    <tr>\n",
       "      <th>1</th>\n",
       "      <td>Python</td>\n",
       "      <td>2</td>\n",
       "    </tr>\n",
       "    <tr>\n",
       "      <th>2</th>\n",
       "      <td>C</td>\n",
       "      <td>3</td>\n",
       "    </tr>\n",
       "    <tr>\n",
       "      <th>3</th>\n",
       "      <td>C++</td>\n",
       "      <td>4</td>\n",
       "    </tr>\n",
       "  </tbody>\n",
       "</table>\n",
       "</div>"
      ],
      "text/plain": [
       "        0  1\n",
       "0    Java  1\n",
       "1  Python  2\n",
       "2       C  3\n",
       "3     C++  4"
      ]
     },
     "execution_count": 121,
     "metadata": {},
     "output_type": "execute_result"
    }
   ],
   "source": [
    "#add column using data frame\n",
    "rating = [1,2,3,4]\n",
    "df[1] = rating\n",
    "df"
   ]
  },
  {
   "cell_type": "code",
   "execution_count": 122,
   "id": "b1c10012-929c-44b9-9b5c-f9d19da7edd2",
   "metadata": {},
   "outputs": [
    {
     "data": {
      "text/html": [
       "<div>\n",
       "<style scoped>\n",
       "    .dataframe tbody tr th:only-of-type {\n",
       "        vertical-align: middle;\n",
       "    }\n",
       "\n",
       "    .dataframe tbody tr th {\n",
       "        vertical-align: top;\n",
       "    }\n",
       "\n",
       "    .dataframe thead th {\n",
       "        text-align: right;\n",
       "    }\n",
       "</style>\n",
       "<table border=\"1\" class=\"dataframe\">\n",
       "  <thead>\n",
       "    <tr style=\"text-align: right;\">\n",
       "      <th></th>\n",
       "      <th>language</th>\n",
       "      <th>Rating</th>\n",
       "    </tr>\n",
       "  </thead>\n",
       "  <tbody>\n",
       "    <tr>\n",
       "      <th>0</th>\n",
       "      <td>Java</td>\n",
       "      <td>1</td>\n",
       "    </tr>\n",
       "    <tr>\n",
       "      <th>1</th>\n",
       "      <td>Python</td>\n",
       "      <td>2</td>\n",
       "    </tr>\n",
       "    <tr>\n",
       "      <th>2</th>\n",
       "      <td>C</td>\n",
       "      <td>3</td>\n",
       "    </tr>\n",
       "    <tr>\n",
       "      <th>3</th>\n",
       "      <td>C++</td>\n",
       "      <td>4</td>\n",
       "    </tr>\n",
       "  </tbody>\n",
       "</table>\n",
       "</div>"
      ],
      "text/plain": [
       "  language  Rating\n",
       "0     Java       1\n",
       "1   Python       2\n",
       "2        C       3\n",
       "3      C++       4"
      ]
     },
     "execution_count": 122,
     "metadata": {},
     "output_type": "execute_result"
    }
   ],
   "source": [
    "#replace the columns name 0 and 1 \n",
    "df.columns = ['language', 'Rating']\n",
    "df"
   ]
  },
  {
   "cell_type": "code",
   "execution_count": 123,
   "id": "0ada203c-2d7d-48e8-ac76-d488ee02233d",
   "metadata": {},
   "outputs": [
    {
     "data": {
      "text/html": [
       "<div>\n",
       "<style scoped>\n",
       "    .dataframe tbody tr th:only-of-type {\n",
       "        vertical-align: middle;\n",
       "    }\n",
       "\n",
       "    .dataframe tbody tr th {\n",
       "        vertical-align: top;\n",
       "    }\n",
       "\n",
       "    .dataframe thead th {\n",
       "        text-align: right;\n",
       "    }\n",
       "</style>\n",
       "<table border=\"1\" class=\"dataframe\">\n",
       "  <thead>\n",
       "    <tr style=\"text-align: right;\">\n",
       "      <th></th>\n",
       "      <th>a</th>\n",
       "      <th>b</th>\n",
       "      <th>c</th>\n",
       "    </tr>\n",
       "  </thead>\n",
       "  <tbody>\n",
       "    <tr>\n",
       "      <th>0</th>\n",
       "      <td>1</td>\n",
       "      <td>2</td>\n",
       "      <td>NaN</td>\n",
       "    </tr>\n",
       "    <tr>\n",
       "      <th>1</th>\n",
       "      <td>5</td>\n",
       "      <td>10</td>\n",
       "      <td>20.0</td>\n",
       "    </tr>\n",
       "  </tbody>\n",
       "</table>\n",
       "</div>"
      ],
      "text/plain": [
       "   a   b     c\n",
       "0  1   2   NaN\n",
       "1  5  10  20.0"
      ]
     },
     "execution_count": 123,
     "metadata": {},
     "output_type": "execute_result"
    }
   ],
   "source": [
    "# Create Dataframe from Dictionary\n",
    "data =  [{'a':1,'b':2},{'a':5, 'b':10, 'c':20}]\n",
    "df2 =pd.DataFrame(data)\n",
    "df2"
   ]
  },
  {
   "cell_type": "code",
   "execution_count": 124,
   "id": "7748e245-d473-4616-ab04-0880fe73b5de",
   "metadata": {},
   "outputs": [
    {
     "data": {
      "text/html": [
       "<div>\n",
       "<style scoped>\n",
       "    .dataframe tbody tr th:only-of-type {\n",
       "        vertical-align: middle;\n",
       "    }\n",
       "\n",
       "    .dataframe tbody tr th {\n",
       "        vertical-align: top;\n",
       "    }\n",
       "\n",
       "    .dataframe thead th {\n",
       "        text-align: right;\n",
       "    }\n",
       "</style>\n",
       "<table border=\"1\" class=\"dataframe\">\n",
       "  <thead>\n",
       "    <tr style=\"text-align: right;\">\n",
       "      <th></th>\n",
       "      <th>a</th>\n",
       "      <th>b</th>\n",
       "    </tr>\n",
       "  </thead>\n",
       "  <tbody>\n",
       "    <tr>\n",
       "      <th>row1</th>\n",
       "      <td>1</td>\n",
       "      <td>2</td>\n",
       "    </tr>\n",
       "    <tr>\n",
       "      <th>row2</th>\n",
       "      <td>5</td>\n",
       "      <td>10</td>\n",
       "    </tr>\n",
       "  </tbody>\n",
       "</table>\n",
       "</div>"
      ],
      "text/plain": [
       "      a   b\n",
       "row1  1   2\n",
       "row2  5  10"
      ]
     },
     "execution_count": 124,
     "metadata": {},
     "output_type": "execute_result"
    }
   ],
   "source": [
    "df3 = pd.DataFrame(data, index=['row1', 'row2'], columns = ['a','b'])\n",
    "df4 = pd.DataFrame(data, index=['row1', 'row2'], columns = ['a','b','c'])\n",
    "df5 = pd.DataFrame(data, index=['row1', 'row2'], columns = ['a','b','c','d'])\n",
    "df3"
   ]
  },
  {
   "cell_type": "code",
   "execution_count": 125,
   "id": "745ad177-c2a4-45bd-915b-b7f6acf002e0",
   "metadata": {},
   "outputs": [
    {
     "data": {
      "text/html": [
       "<div>\n",
       "<style scoped>\n",
       "    .dataframe tbody tr th:only-of-type {\n",
       "        vertical-align: middle;\n",
       "    }\n",
       "\n",
       "    .dataframe tbody tr th {\n",
       "        vertical-align: top;\n",
       "    }\n",
       "\n",
       "    .dataframe thead th {\n",
       "        text-align: right;\n",
       "    }\n",
       "</style>\n",
       "<table border=\"1\" class=\"dataframe\">\n",
       "  <thead>\n",
       "    <tr style=\"text-align: right;\">\n",
       "      <th></th>\n",
       "      <th>a</th>\n",
       "      <th>b</th>\n",
       "      <th>c</th>\n",
       "    </tr>\n",
       "  </thead>\n",
       "  <tbody>\n",
       "    <tr>\n",
       "      <th>row1</th>\n",
       "      <td>1</td>\n",
       "      <td>2</td>\n",
       "      <td>NaN</td>\n",
       "    </tr>\n",
       "    <tr>\n",
       "      <th>row2</th>\n",
       "      <td>5</td>\n",
       "      <td>10</td>\n",
       "      <td>20.0</td>\n",
       "    </tr>\n",
       "  </tbody>\n",
       "</table>\n",
       "</div>"
      ],
      "text/plain": [
       "      a   b     c\n",
       "row1  1   2   NaN\n",
       "row2  5  10  20.0"
      ]
     },
     "execution_count": 125,
     "metadata": {},
     "output_type": "execute_result"
    }
   ],
   "source": [
    "df4"
   ]
  },
  {
   "cell_type": "code",
   "execution_count": 126,
   "id": "3b11853e-76ac-4b5f-a006-d08fa6ce94af",
   "metadata": {},
   "outputs": [
    {
     "data": {
      "text/html": [
       "<div>\n",
       "<style scoped>\n",
       "    .dataframe tbody tr th:only-of-type {\n",
       "        vertical-align: middle;\n",
       "    }\n",
       "\n",
       "    .dataframe tbody tr th {\n",
       "        vertical-align: top;\n",
       "    }\n",
       "\n",
       "    .dataframe thead th {\n",
       "        text-align: right;\n",
       "    }\n",
       "</style>\n",
       "<table border=\"1\" class=\"dataframe\">\n",
       "  <thead>\n",
       "    <tr style=\"text-align: right;\">\n",
       "      <th></th>\n",
       "      <th>a</th>\n",
       "      <th>b</th>\n",
       "      <th>c</th>\n",
       "      <th>d</th>\n",
       "    </tr>\n",
       "  </thead>\n",
       "  <tbody>\n",
       "    <tr>\n",
       "      <th>row1</th>\n",
       "      <td>1</td>\n",
       "      <td>2</td>\n",
       "      <td>NaN</td>\n",
       "      <td>NaN</td>\n",
       "    </tr>\n",
       "    <tr>\n",
       "      <th>row2</th>\n",
       "      <td>5</td>\n",
       "      <td>10</td>\n",
       "      <td>20.0</td>\n",
       "      <td>NaN</td>\n",
       "    </tr>\n",
       "  </tbody>\n",
       "</table>\n",
       "</div>"
      ],
      "text/plain": [
       "      a   b     c   d\n",
       "row1  1   2   NaN NaN\n",
       "row2  5  10  20.0 NaN"
      ]
     },
     "execution_count": 126,
     "metadata": {},
     "output_type": "execute_result"
    }
   ],
   "source": [
    "df5"
   ]
  },
  {
   "cell_type": "code",
   "execution_count": 127,
   "id": "a0875d23-39e6-4102-b84d-79bdb72efa9e",
   "metadata": {},
   "outputs": [
    {
     "data": {
      "text/html": [
       "<div>\n",
       "<style scoped>\n",
       "    .dataframe tbody tr th:only-of-type {\n",
       "        vertical-align: middle;\n",
       "    }\n",
       "\n",
       "    .dataframe tbody tr th {\n",
       "        vertical-align: top;\n",
       "    }\n",
       "\n",
       "    .dataframe thead th {\n",
       "        text-align: right;\n",
       "    }\n",
       "</style>\n",
       "<table border=\"1\" class=\"dataframe\">\n",
       "  <thead>\n",
       "    <tr style=\"text-align: right;\">\n",
       "      <th></th>\n",
       "      <th>ID</th>\n",
       "      <th>Name</th>\n",
       "    </tr>\n",
       "  </thead>\n",
       "  <tbody>\n",
       "    <tr>\n",
       "      <th>0</th>\n",
       "      <td>1</td>\n",
       "      <td>Aryan</td>\n",
       "    </tr>\n",
       "    <tr>\n",
       "      <th>1</th>\n",
       "      <td>2</td>\n",
       "      <td>Nayan</td>\n",
       "    </tr>\n",
       "    <tr>\n",
       "      <th>2</th>\n",
       "      <td>3</td>\n",
       "      <td>John</td>\n",
       "    </tr>\n",
       "    <tr>\n",
       "      <th>3</th>\n",
       "      <td>4</td>\n",
       "      <td>Rose</td>\n",
       "    </tr>\n",
       "  </tbody>\n",
       "</table>\n",
       "</div>"
      ],
      "text/plain": [
       "   ID   Name\n",
       "0   1  Aryan\n",
       "1   2  Nayan\n",
       "2   3   John\n",
       "3   4   Rose"
      ]
     },
     "execution_count": 127,
     "metadata": {},
     "output_type": "execute_result"
    }
   ],
   "source": [
    "#create DataFrame from Dictionary\n",
    "df0 = pd.DataFrame({'ID' : [1,2,3,4], 'Name':['Aryan','Nayan','John','Rose']})\n",
    "df0"
   ]
  },
  {
   "cell_type": "code",
   "execution_count": 128,
   "id": "09597d0d-e8e2-496a-8720-d6eec13670b1",
   "metadata": {},
   "outputs": [
    {
     "data": {
      "text/html": [
       "<div>\n",
       "<style scoped>\n",
       "    .dataframe tbody tr th:only-of-type {\n",
       "        vertical-align: middle;\n",
       "    }\n",
       "\n",
       "    .dataframe tbody tr th {\n",
       "        vertical-align: top;\n",
       "    }\n",
       "\n",
       "    .dataframe thead th {\n",
       "        text-align: right;\n",
       "    }\n",
       "</style>\n",
       "<table border=\"1\" class=\"dataframe\">\n",
       "  <thead>\n",
       "    <tr style=\"text-align: right;\">\n",
       "      <th></th>\n",
       "      <th>A</th>\n",
       "      <th>B</th>\n",
       "    </tr>\n",
       "  </thead>\n",
       "  <tbody>\n",
       "    <tr>\n",
       "      <th>a</th>\n",
       "      <td>1.0</td>\n",
       "      <td>1</td>\n",
       "    </tr>\n",
       "    <tr>\n",
       "      <th>b</th>\n",
       "      <td>2.0</td>\n",
       "      <td>2</td>\n",
       "    </tr>\n",
       "    <tr>\n",
       "      <th>c</th>\n",
       "      <td>3.0</td>\n",
       "      <td>3</td>\n",
       "    </tr>\n",
       "    <tr>\n",
       "      <th>d</th>\n",
       "      <td>NaN</td>\n",
       "      <td>4</td>\n",
       "    </tr>\n",
       "  </tbody>\n",
       "</table>\n",
       "</div>"
      ],
      "text/plain": [
       "     A  B\n",
       "a  1.0  1\n",
       "b  2.0  2\n",
       "c  3.0  3\n",
       "d  NaN  4"
      ]
     },
     "execution_count": 128,
     "metadata": {},
     "output_type": "execute_result"
    }
   ],
   "source": [
    "# Create a DataFrame from Dictionary of Series\n",
    "dict = {'A': pd.Series([1,2,3,], index = ['a','b','c']),\n",
    "'B': pd.Series([1,2,3,4], index = ['a','b','c','d'])}\n",
    "df1 = pd.DataFrame(dict)\n",
    "df1"
   ]
  },
  {
   "cell_type": "markdown",
   "id": "fe3dd315-c06f-47f5-9006-00c81a4c5a58",
   "metadata": {},
   "source": [
    "2.2 Dataframe of Random Numbers with Date\r\n",
    "Indices"
   ]
  },
  {
   "cell_type": "code",
   "execution_count": 129,
   "id": "f6535667-727a-42ab-a0a2-5c138cbdb79a",
   "metadata": {},
   "outputs": [
    {
     "data": {
      "text/plain": [
       "DatetimeIndex(['2020-01-20', '2020-01-21', '2020-01-22', '2020-01-23',\n",
       "               '2020-01-24', '2020-01-25', '2020-01-26'],\n",
       "              dtype='datetime64[ns]', freq='D')"
      ]
     },
     "execution_count": 129,
     "metadata": {},
     "output_type": "execute_result"
    }
   ],
   "source": [
    "dates = pd.date_range(start = '2020-01-20', end = '2020-01-26')\n",
    "dates"
   ]
  },
  {
   "cell_type": "code",
   "execution_count": 130,
   "id": "bb29a364-6505-43db-94f3-cec9718f2d3f",
   "metadata": {},
   "outputs": [
    {
     "data": {
      "text/plain": [
       "DatetimeIndex(['2024-11-26 18:55:08.445464', '2024-11-27 18:55:08.445464',\n",
       "               '2024-11-28 18:55:08.445464', '2024-11-29 18:55:08.445464',\n",
       "               '2024-11-30 18:55:08.445464', '2024-12-01 18:55:08.445464',\n",
       "               '2024-12-02 18:55:08.445464'],\n",
       "              dtype='datetime64[ns]', freq='D')"
      ]
     },
     "execution_count": 130,
     "metadata": {},
     "output_type": "execute_result"
    }
   ],
   "source": [
    "#starting from today and continuing for the next 6 days.\n",
    "dates = pd.date_range('today',periods = 7)\n",
    "dates"
   ]
  },
  {
   "cell_type": "code",
   "execution_count": 131,
   "id": "b7dff1bb-4c0e-40d0-a7aa-340b7420dbe1",
   "metadata": {},
   "outputs": [
    {
     "data": {
      "text/plain": [
       "DatetimeIndex(['2020-01-20', '2020-01-21', '2020-01-22', '2020-01-23',\n",
       "               '2020-01-24', '2020-01-25', '2020-01-26'],\n",
       "              dtype='datetime64[ns]', freq='D')"
      ]
     },
     "execution_count": 131,
     "metadata": {},
     "output_type": "execute_result"
    }
   ],
   "source": [
    "dates = pd.date_range( start = '2020-01-20', periods = 7)\n",
    "dates"
   ]
  },
  {
   "cell_type": "code",
   "execution_count": 132,
   "id": "4e82968c-37d7-4c4a-ba5e-d66e65caa5e8",
   "metadata": {},
   "outputs": [
    {
     "data": {
      "text/plain": [
       "array([[0.76801088, 0.30734263, 0.48214433, 0.1193339 , 0.68490247,\n",
       "        0.68525156, 0.70176878],\n",
       "       [0.12130583, 0.26294906, 0.47192921, 0.18092463, 0.0282254 ,\n",
       "        0.12355277, 0.40201436],\n",
       "       [0.21788595, 0.54638552, 0.01483619, 0.183047  , 0.71017761,\n",
       "        0.42629093, 0.91327042],\n",
       "       [0.29286613, 0.02617526, 0.9550665 , 0.91941193, 0.0280737 ,\n",
       "        0.20769084, 0.49828601],\n",
       "       [0.84416943, 0.92847872, 0.84041897, 0.07916251, 0.49048336,\n",
       "        0.64309182, 0.24857068],\n",
       "       [0.37763387, 0.8118972 , 0.78404233, 0.32608382, 0.36990674,\n",
       "        0.45858485, 0.71942518],\n",
       "       [0.52573626, 0.63295864, 0.40944813, 0.34048082, 0.12530746,\n",
       "        0.37256743, 0.57559363]])"
      ]
     },
     "execution_count": 132,
     "metadata": {},
     "output_type": "execute_result"
    }
   ],
   "source": [
    "M = np.random.random((7,7))\n",
    "M"
   ]
  },
  {
   "cell_type": "code",
   "execution_count": 133,
   "id": "d1c826c6-a02a-4621-9acc-2bc533cc35af",
   "metadata": {},
   "outputs": [
    {
     "data": {
      "text/html": [
       "<div>\n",
       "<style scoped>\n",
       "    .dataframe tbody tr th:only-of-type {\n",
       "        vertical-align: middle;\n",
       "    }\n",
       "\n",
       "    .dataframe tbody tr th {\n",
       "        vertical-align: top;\n",
       "    }\n",
       "\n",
       "    .dataframe thead th {\n",
       "        text-align: right;\n",
       "    }\n",
       "</style>\n",
       "<table border=\"1\" class=\"dataframe\">\n",
       "  <thead>\n",
       "    <tr style=\"text-align: right;\">\n",
       "      <th></th>\n",
       "      <th>0</th>\n",
       "      <th>1</th>\n",
       "      <th>2</th>\n",
       "      <th>3</th>\n",
       "      <th>4</th>\n",
       "      <th>5</th>\n",
       "      <th>6</th>\n",
       "    </tr>\n",
       "  </thead>\n",
       "  <tbody>\n",
       "    <tr>\n",
       "      <th>2020-01-20</th>\n",
       "      <td>0.768011</td>\n",
       "      <td>0.307343</td>\n",
       "      <td>0.482144</td>\n",
       "      <td>0.119334</td>\n",
       "      <td>0.684902</td>\n",
       "      <td>0.685252</td>\n",
       "      <td>0.701769</td>\n",
       "    </tr>\n",
       "    <tr>\n",
       "      <th>2020-01-21</th>\n",
       "      <td>0.121306</td>\n",
       "      <td>0.262949</td>\n",
       "      <td>0.471929</td>\n",
       "      <td>0.180925</td>\n",
       "      <td>0.028225</td>\n",
       "      <td>0.123553</td>\n",
       "      <td>0.402014</td>\n",
       "    </tr>\n",
       "    <tr>\n",
       "      <th>2020-01-22</th>\n",
       "      <td>0.217886</td>\n",
       "      <td>0.546386</td>\n",
       "      <td>0.014836</td>\n",
       "      <td>0.183047</td>\n",
       "      <td>0.710178</td>\n",
       "      <td>0.426291</td>\n",
       "      <td>0.913270</td>\n",
       "    </tr>\n",
       "    <tr>\n",
       "      <th>2020-01-23</th>\n",
       "      <td>0.292866</td>\n",
       "      <td>0.026175</td>\n",
       "      <td>0.955067</td>\n",
       "      <td>0.919412</td>\n",
       "      <td>0.028074</td>\n",
       "      <td>0.207691</td>\n",
       "      <td>0.498286</td>\n",
       "    </tr>\n",
       "    <tr>\n",
       "      <th>2020-01-24</th>\n",
       "      <td>0.844169</td>\n",
       "      <td>0.928479</td>\n",
       "      <td>0.840419</td>\n",
       "      <td>0.079163</td>\n",
       "      <td>0.490483</td>\n",
       "      <td>0.643092</td>\n",
       "      <td>0.248571</td>\n",
       "    </tr>\n",
       "    <tr>\n",
       "      <th>2020-01-25</th>\n",
       "      <td>0.377634</td>\n",
       "      <td>0.811897</td>\n",
       "      <td>0.784042</td>\n",
       "      <td>0.326084</td>\n",
       "      <td>0.369907</td>\n",
       "      <td>0.458585</td>\n",
       "      <td>0.719425</td>\n",
       "    </tr>\n",
       "    <tr>\n",
       "      <th>2020-01-26</th>\n",
       "      <td>0.525736</td>\n",
       "      <td>0.632959</td>\n",
       "      <td>0.409448</td>\n",
       "      <td>0.340481</td>\n",
       "      <td>0.125307</td>\n",
       "      <td>0.372567</td>\n",
       "      <td>0.575594</td>\n",
       "    </tr>\n",
       "  </tbody>\n",
       "</table>\n",
       "</div>"
      ],
      "text/plain": [
       "                   0         1         2         3         4         5  \\\n",
       "2020-01-20  0.768011  0.307343  0.482144  0.119334  0.684902  0.685252   \n",
       "2020-01-21  0.121306  0.262949  0.471929  0.180925  0.028225  0.123553   \n",
       "2020-01-22  0.217886  0.546386  0.014836  0.183047  0.710178  0.426291   \n",
       "2020-01-23  0.292866  0.026175  0.955067  0.919412  0.028074  0.207691   \n",
       "2020-01-24  0.844169  0.928479  0.840419  0.079163  0.490483  0.643092   \n",
       "2020-01-25  0.377634  0.811897  0.784042  0.326084  0.369907  0.458585   \n",
       "2020-01-26  0.525736  0.632959  0.409448  0.340481  0.125307  0.372567   \n",
       "\n",
       "                   6  \n",
       "2020-01-20  0.701769  \n",
       "2020-01-21  0.402014  \n",
       "2020-01-22  0.913270  \n",
       "2020-01-23  0.498286  \n",
       "2020-01-24  0.248571  \n",
       "2020-01-25  0.719425  \n",
       "2020-01-26  0.575594  "
      ]
     },
     "execution_count": 133,
     "metadata": {},
     "output_type": "execute_result"
    }
   ],
   "source": [
    "dframe = pd.DataFrame(M, index = dates)\n",
    "dframe"
   ]
  },
  {
   "cell_type": "code",
   "execution_count": 134,
   "id": "8914fce9-6632-423d-ac76-09a93dfa9c3c",
   "metadata": {},
   "outputs": [
    {
     "data": {
      "text/html": [
       "<div>\n",
       "<style scoped>\n",
       "    .dataframe tbody tr th:only-of-type {\n",
       "        vertical-align: middle;\n",
       "    }\n",
       "\n",
       "    .dataframe tbody tr th {\n",
       "        vertical-align: top;\n",
       "    }\n",
       "\n",
       "    .dataframe thead th {\n",
       "        text-align: right;\n",
       "    }\n",
       "</style>\n",
       "<table border=\"1\" class=\"dataframe\">\n",
       "  <thead>\n",
       "    <tr style=\"text-align: right;\">\n",
       "      <th></th>\n",
       "      <th>c1</th>\n",
       "      <th>c2</th>\n",
       "      <th>c3</th>\n",
       "      <th>c4</th>\n",
       "      <th>c5</th>\n",
       "      <th>c6</th>\n",
       "      <th>c7</th>\n",
       "    </tr>\n",
       "  </thead>\n",
       "  <tbody>\n",
       "    <tr>\n",
       "      <th>2020-01-20</th>\n",
       "      <td>0.768011</td>\n",
       "      <td>0.307343</td>\n",
       "      <td>0.482144</td>\n",
       "      <td>0.119334</td>\n",
       "      <td>0.684902</td>\n",
       "      <td>0.685252</td>\n",
       "      <td>0.701769</td>\n",
       "    </tr>\n",
       "    <tr>\n",
       "      <th>2020-01-21</th>\n",
       "      <td>0.121306</td>\n",
       "      <td>0.262949</td>\n",
       "      <td>0.471929</td>\n",
       "      <td>0.180925</td>\n",
       "      <td>0.028225</td>\n",
       "      <td>0.123553</td>\n",
       "      <td>0.402014</td>\n",
       "    </tr>\n",
       "    <tr>\n",
       "      <th>2020-01-22</th>\n",
       "      <td>0.217886</td>\n",
       "      <td>0.546386</td>\n",
       "      <td>0.014836</td>\n",
       "      <td>0.183047</td>\n",
       "      <td>0.710178</td>\n",
       "      <td>0.426291</td>\n",
       "      <td>0.913270</td>\n",
       "    </tr>\n",
       "    <tr>\n",
       "      <th>2020-01-23</th>\n",
       "      <td>0.292866</td>\n",
       "      <td>0.026175</td>\n",
       "      <td>0.955067</td>\n",
       "      <td>0.919412</td>\n",
       "      <td>0.028074</td>\n",
       "      <td>0.207691</td>\n",
       "      <td>0.498286</td>\n",
       "    </tr>\n",
       "    <tr>\n",
       "      <th>2020-01-24</th>\n",
       "      <td>0.844169</td>\n",
       "      <td>0.928479</td>\n",
       "      <td>0.840419</td>\n",
       "      <td>0.079163</td>\n",
       "      <td>0.490483</td>\n",
       "      <td>0.643092</td>\n",
       "      <td>0.248571</td>\n",
       "    </tr>\n",
       "    <tr>\n",
       "      <th>2020-01-25</th>\n",
       "      <td>0.377634</td>\n",
       "      <td>0.811897</td>\n",
       "      <td>0.784042</td>\n",
       "      <td>0.326084</td>\n",
       "      <td>0.369907</td>\n",
       "      <td>0.458585</td>\n",
       "      <td>0.719425</td>\n",
       "    </tr>\n",
       "    <tr>\n",
       "      <th>2020-01-26</th>\n",
       "      <td>0.525736</td>\n",
       "      <td>0.632959</td>\n",
       "      <td>0.409448</td>\n",
       "      <td>0.340481</td>\n",
       "      <td>0.125307</td>\n",
       "      <td>0.372567</td>\n",
       "      <td>0.575594</td>\n",
       "    </tr>\n",
       "  </tbody>\n",
       "</table>\n",
       "</div>"
      ],
      "text/plain": [
       "                  c1        c2        c3        c4        c5        c6  \\\n",
       "2020-01-20  0.768011  0.307343  0.482144  0.119334  0.684902  0.685252   \n",
       "2020-01-21  0.121306  0.262949  0.471929  0.180925  0.028225  0.123553   \n",
       "2020-01-22  0.217886  0.546386  0.014836  0.183047  0.710178  0.426291   \n",
       "2020-01-23  0.292866  0.026175  0.955067  0.919412  0.028074  0.207691   \n",
       "2020-01-24  0.844169  0.928479  0.840419  0.079163  0.490483  0.643092   \n",
       "2020-01-25  0.377634  0.811897  0.784042  0.326084  0.369907  0.458585   \n",
       "2020-01-26  0.525736  0.632959  0.409448  0.340481  0.125307  0.372567   \n",
       "\n",
       "                  c7  \n",
       "2020-01-20  0.701769  \n",
       "2020-01-21  0.402014  \n",
       "2020-01-22  0.913270  \n",
       "2020-01-23  0.498286  \n",
       "2020-01-24  0.248571  \n",
       "2020-01-25  0.719425  \n",
       "2020-01-26  0.575594  "
      ]
     },
     "execution_count": 134,
     "metadata": {},
     "output_type": "execute_result"
    }
   ],
   "source": [
    "#Changing Column Names\n",
    "dframe.columns = ['c1','c2','c3','c4','c5','c6','c7']\n",
    "dframe"
   ]
  },
  {
   "cell_type": "code",
   "execution_count": 135,
   "id": "bcb08eb6-5252-45d1-b9dd-5aaf73a9650c",
   "metadata": {},
   "outputs": [
    {
     "data": {
      "text/plain": [
       "DatetimeIndex(['2020-01-20', '2020-01-21', '2020-01-22', '2020-01-23',\n",
       "               '2020-01-24', '2020-01-25', '2020-01-26'],\n",
       "              dtype='datetime64[ns]', freq='D')"
      ]
     },
     "execution_count": 135,
     "metadata": {},
     "output_type": "execute_result"
    }
   ],
   "source": [
    "#list index\n",
    "dframe.index"
   ]
  },
  {
   "cell_type": "code",
   "execution_count": 136,
   "id": "486d1dbb-57bc-4211-88d3-2d8484e2a93e",
   "metadata": {},
   "outputs": [
    {
     "data": {
      "text/plain": [
       "Index(['c1', 'c2', 'c3', 'c4', 'c5', 'c6', 'c7'], dtype='object')"
      ]
     },
     "execution_count": 136,
     "metadata": {},
     "output_type": "execute_result"
    }
   ],
   "source": [
    "#list columns name\n",
    "dframe.columns"
   ]
  },
  {
   "cell_type": "code",
   "execution_count": 137,
   "id": "3a517ff4-82c3-4d91-a634-e897f1adc36c",
   "metadata": {},
   "outputs": [
    {
     "data": {
      "text/plain": [
       "c1    float64\n",
       "c2    float64\n",
       "c3    float64\n",
       "c4    float64\n",
       "c5    float64\n",
       "c6    float64\n",
       "c7    float64\n",
       "dtype: object"
      ]
     },
     "execution_count": 137,
     "metadata": {},
     "output_type": "execute_result"
    }
   ],
   "source": [
    "# Datatype of each column\n",
    "dframe.dtypes"
   ]
  },
  {
   "cell_type": "code",
   "execution_count": 138,
   "id": "55dc4550-4bae-4923-86cc-ce9346bdacc0",
   "metadata": {},
   "outputs": [
    {
     "data": {
      "text/html": [
       "<div>\n",
       "<style scoped>\n",
       "    .dataframe tbody tr th:only-of-type {\n",
       "        vertical-align: middle;\n",
       "    }\n",
       "\n",
       "    .dataframe tbody tr th {\n",
       "        vertical-align: top;\n",
       "    }\n",
       "\n",
       "    .dataframe thead th {\n",
       "        text-align: right;\n",
       "    }\n",
       "</style>\n",
       "<table border=\"1\" class=\"dataframe\">\n",
       "  <thead>\n",
       "    <tr style=\"text-align: right;\">\n",
       "      <th></th>\n",
       "      <th>c1</th>\n",
       "      <th>c2</th>\n",
       "      <th>c3</th>\n",
       "      <th>c4</th>\n",
       "      <th>c5</th>\n",
       "      <th>c6</th>\n",
       "      <th>c7</th>\n",
       "    </tr>\n",
       "  </thead>\n",
       "  <tbody>\n",
       "    <tr>\n",
       "      <th>2020-01-21</th>\n",
       "      <td>0.121306</td>\n",
       "      <td>0.262949</td>\n",
       "      <td>0.471929</td>\n",
       "      <td>0.180925</td>\n",
       "      <td>0.028225</td>\n",
       "      <td>0.123553</td>\n",
       "      <td>0.402014</td>\n",
       "    </tr>\n",
       "    <tr>\n",
       "      <th>2020-01-22</th>\n",
       "      <td>0.217886</td>\n",
       "      <td>0.546386</td>\n",
       "      <td>0.014836</td>\n",
       "      <td>0.183047</td>\n",
       "      <td>0.710178</td>\n",
       "      <td>0.426291</td>\n",
       "      <td>0.913270</td>\n",
       "    </tr>\n",
       "    <tr>\n",
       "      <th>2020-01-23</th>\n",
       "      <td>0.292866</td>\n",
       "      <td>0.026175</td>\n",
       "      <td>0.955067</td>\n",
       "      <td>0.919412</td>\n",
       "      <td>0.028074</td>\n",
       "      <td>0.207691</td>\n",
       "      <td>0.498286</td>\n",
       "    </tr>\n",
       "    <tr>\n",
       "      <th>2020-01-25</th>\n",
       "      <td>0.377634</td>\n",
       "      <td>0.811897</td>\n",
       "      <td>0.784042</td>\n",
       "      <td>0.326084</td>\n",
       "      <td>0.369907</td>\n",
       "      <td>0.458585</td>\n",
       "      <td>0.719425</td>\n",
       "    </tr>\n",
       "    <tr>\n",
       "      <th>2020-01-26</th>\n",
       "      <td>0.525736</td>\n",
       "      <td>0.632959</td>\n",
       "      <td>0.409448</td>\n",
       "      <td>0.340481</td>\n",
       "      <td>0.125307</td>\n",
       "      <td>0.372567</td>\n",
       "      <td>0.575594</td>\n",
       "    </tr>\n",
       "    <tr>\n",
       "      <th>2020-01-20</th>\n",
       "      <td>0.768011</td>\n",
       "      <td>0.307343</td>\n",
       "      <td>0.482144</td>\n",
       "      <td>0.119334</td>\n",
       "      <td>0.684902</td>\n",
       "      <td>0.685252</td>\n",
       "      <td>0.701769</td>\n",
       "    </tr>\n",
       "    <tr>\n",
       "      <th>2020-01-24</th>\n",
       "      <td>0.844169</td>\n",
       "      <td>0.928479</td>\n",
       "      <td>0.840419</td>\n",
       "      <td>0.079163</td>\n",
       "      <td>0.490483</td>\n",
       "      <td>0.643092</td>\n",
       "      <td>0.248571</td>\n",
       "    </tr>\n",
       "  </tbody>\n",
       "</table>\n",
       "</div>"
      ],
      "text/plain": [
       "                  c1        c2        c3        c4        c5        c6  \\\n",
       "2020-01-21  0.121306  0.262949  0.471929  0.180925  0.028225  0.123553   \n",
       "2020-01-22  0.217886  0.546386  0.014836  0.183047  0.710178  0.426291   \n",
       "2020-01-23  0.292866  0.026175  0.955067  0.919412  0.028074  0.207691   \n",
       "2020-01-25  0.377634  0.811897  0.784042  0.326084  0.369907  0.458585   \n",
       "2020-01-26  0.525736  0.632959  0.409448  0.340481  0.125307  0.372567   \n",
       "2020-01-20  0.768011  0.307343  0.482144  0.119334  0.684902  0.685252   \n",
       "2020-01-24  0.844169  0.928479  0.840419  0.079163  0.490483  0.643092   \n",
       "\n",
       "                  c7  \n",
       "2020-01-21  0.402014  \n",
       "2020-01-22  0.913270  \n",
       "2020-01-23  0.498286  \n",
       "2020-01-25  0.719425  \n",
       "2020-01-26  0.575594  \n",
       "2020-01-20  0.701769  \n",
       "2020-01-24  0.248571  "
      ]
     },
     "execution_count": 138,
     "metadata": {},
     "output_type": "execute_result"
    }
   ],
   "source": [
    "# Sort Dataframe by Column 'C1' in Ascending Order\n",
    "dframe.sort_values(by = 'c1')"
   ]
  },
  {
   "cell_type": "code",
   "execution_count": 139,
   "id": "6f972382-ad05-4080-9d87-8d968e17b484",
   "metadata": {},
   "outputs": [
    {
     "data": {
      "text/html": [
       "<div>\n",
       "<style scoped>\n",
       "    .dataframe tbody tr th:only-of-type {\n",
       "        vertical-align: middle;\n",
       "    }\n",
       "\n",
       "    .dataframe tbody tr th {\n",
       "        vertical-align: top;\n",
       "    }\n",
       "\n",
       "    .dataframe thead th {\n",
       "        text-align: right;\n",
       "    }\n",
       "</style>\n",
       "<table border=\"1\" class=\"dataframe\">\n",
       "  <thead>\n",
       "    <tr style=\"text-align: right;\">\n",
       "      <th></th>\n",
       "      <th>c1</th>\n",
       "      <th>c2</th>\n",
       "      <th>c3</th>\n",
       "      <th>c4</th>\n",
       "      <th>c5</th>\n",
       "      <th>c6</th>\n",
       "      <th>c7</th>\n",
       "    </tr>\n",
       "  </thead>\n",
       "  <tbody>\n",
       "    <tr>\n",
       "      <th>2020-01-24</th>\n",
       "      <td>0.844169</td>\n",
       "      <td>0.928479</td>\n",
       "      <td>0.840419</td>\n",
       "      <td>0.079163</td>\n",
       "      <td>0.490483</td>\n",
       "      <td>0.643092</td>\n",
       "      <td>0.248571</td>\n",
       "    </tr>\n",
       "    <tr>\n",
       "      <th>2020-01-20</th>\n",
       "      <td>0.768011</td>\n",
       "      <td>0.307343</td>\n",
       "      <td>0.482144</td>\n",
       "      <td>0.119334</td>\n",
       "      <td>0.684902</td>\n",
       "      <td>0.685252</td>\n",
       "      <td>0.701769</td>\n",
       "    </tr>\n",
       "    <tr>\n",
       "      <th>2020-01-26</th>\n",
       "      <td>0.525736</td>\n",
       "      <td>0.632959</td>\n",
       "      <td>0.409448</td>\n",
       "      <td>0.340481</td>\n",
       "      <td>0.125307</td>\n",
       "      <td>0.372567</td>\n",
       "      <td>0.575594</td>\n",
       "    </tr>\n",
       "    <tr>\n",
       "      <th>2020-01-25</th>\n",
       "      <td>0.377634</td>\n",
       "      <td>0.811897</td>\n",
       "      <td>0.784042</td>\n",
       "      <td>0.326084</td>\n",
       "      <td>0.369907</td>\n",
       "      <td>0.458585</td>\n",
       "      <td>0.719425</td>\n",
       "    </tr>\n",
       "    <tr>\n",
       "      <th>2020-01-23</th>\n",
       "      <td>0.292866</td>\n",
       "      <td>0.026175</td>\n",
       "      <td>0.955067</td>\n",
       "      <td>0.919412</td>\n",
       "      <td>0.028074</td>\n",
       "      <td>0.207691</td>\n",
       "      <td>0.498286</td>\n",
       "    </tr>\n",
       "    <tr>\n",
       "      <th>2020-01-22</th>\n",
       "      <td>0.217886</td>\n",
       "      <td>0.546386</td>\n",
       "      <td>0.014836</td>\n",
       "      <td>0.183047</td>\n",
       "      <td>0.710178</td>\n",
       "      <td>0.426291</td>\n",
       "      <td>0.913270</td>\n",
       "    </tr>\n",
       "    <tr>\n",
       "      <th>2020-01-21</th>\n",
       "      <td>0.121306</td>\n",
       "      <td>0.262949</td>\n",
       "      <td>0.471929</td>\n",
       "      <td>0.180925</td>\n",
       "      <td>0.028225</td>\n",
       "      <td>0.123553</td>\n",
       "      <td>0.402014</td>\n",
       "    </tr>\n",
       "  </tbody>\n",
       "</table>\n",
       "</div>"
      ],
      "text/plain": [
       "                  c1        c2        c3        c4        c5        c6  \\\n",
       "2020-01-24  0.844169  0.928479  0.840419  0.079163  0.490483  0.643092   \n",
       "2020-01-20  0.768011  0.307343  0.482144  0.119334  0.684902  0.685252   \n",
       "2020-01-26  0.525736  0.632959  0.409448  0.340481  0.125307  0.372567   \n",
       "2020-01-25  0.377634  0.811897  0.784042  0.326084  0.369907  0.458585   \n",
       "2020-01-23  0.292866  0.026175  0.955067  0.919412  0.028074  0.207691   \n",
       "2020-01-22  0.217886  0.546386  0.014836  0.183047  0.710178  0.426291   \n",
       "2020-01-21  0.121306  0.262949  0.471929  0.180925  0.028225  0.123553   \n",
       "\n",
       "                  c7  \n",
       "2020-01-24  0.248571  \n",
       "2020-01-20  0.701769  \n",
       "2020-01-26  0.575594  \n",
       "2020-01-25  0.719425  \n",
       "2020-01-23  0.498286  \n",
       "2020-01-22  0.913270  \n",
       "2020-01-21  0.402014  "
      ]
     },
     "execution_count": 139,
     "metadata": {},
     "output_type": "execute_result"
    }
   ],
   "source": [
    "#Sort Data Frame by Column 'c1' in descending Order\n",
    "dframe.sort_values(by = 'c1', ascending = False)"
   ]
  },
  {
   "cell_type": "markdown",
   "id": "f8d209a7-e34e-4695-bae0-c1c24eed3614",
   "metadata": {},
   "source": [
    "Delete column in Data Frame"
   ]
  },
  {
   "cell_type": "code",
   "execution_count": 140,
   "id": "0ab8e3cf-e725-4cd2-ade4-eadf330f0a08",
   "metadata": {},
   "outputs": [
    {
     "data": {
      "text/html": [
       "<div>\n",
       "<style scoped>\n",
       "    .dataframe tbody tr th:only-of-type {\n",
       "        vertical-align: middle;\n",
       "    }\n",
       "\n",
       "    .dataframe tbody tr th {\n",
       "        vertical-align: top;\n",
       "    }\n",
       "\n",
       "    .dataframe thead th {\n",
       "        text-align: right;\n",
       "    }\n",
       "</style>\n",
       "<table border=\"1\" class=\"dataframe\">\n",
       "  <thead>\n",
       "    <tr style=\"text-align: right;\">\n",
       "      <th></th>\n",
       "      <th>A</th>\n",
       "      <th>B</th>\n",
       "    </tr>\n",
       "  </thead>\n",
       "  <tbody>\n",
       "    <tr>\n",
       "      <th>a</th>\n",
       "      <td>1.0</td>\n",
       "      <td>1</td>\n",
       "    </tr>\n",
       "    <tr>\n",
       "      <th>b</th>\n",
       "      <td>2.0</td>\n",
       "      <td>2</td>\n",
       "    </tr>\n",
       "    <tr>\n",
       "      <th>c</th>\n",
       "      <td>3.0</td>\n",
       "      <td>3</td>\n",
       "    </tr>\n",
       "    <tr>\n",
       "      <th>d</th>\n",
       "      <td>NaN</td>\n",
       "      <td>4</td>\n",
       "    </tr>\n",
       "  </tbody>\n",
       "</table>\n",
       "</div>"
      ],
      "text/plain": [
       "     A  B\n",
       "a  1.0  1\n",
       "b  2.0  2\n",
       "c  3.0  3\n",
       "d  NaN  4"
      ]
     },
     "execution_count": 140,
     "metadata": {},
     "output_type": "execute_result"
    }
   ],
   "source": [
    "df1"
   ]
  },
  {
   "cell_type": "code",
   "execution_count": 141,
   "id": "95a86e33-9b0b-44b5-9224-a109c96cad16",
   "metadata": {},
   "outputs": [
    {
     "data": {
      "text/html": [
       "<div>\n",
       "<style scoped>\n",
       "    .dataframe tbody tr th:only-of-type {\n",
       "        vertical-align: middle;\n",
       "    }\n",
       "\n",
       "    .dataframe tbody tr th {\n",
       "        vertical-align: top;\n",
       "    }\n",
       "\n",
       "    .dataframe thead th {\n",
       "        text-align: right;\n",
       "    }\n",
       "</style>\n",
       "<table border=\"1\" class=\"dataframe\">\n",
       "  <thead>\n",
       "    <tr style=\"text-align: right;\">\n",
       "      <th></th>\n",
       "      <th>A</th>\n",
       "      <th>B</th>\n",
       "    </tr>\n",
       "  </thead>\n",
       "  <tbody>\n",
       "    <tr>\n",
       "      <th>a</th>\n",
       "      <td>1.0</td>\n",
       "      <td>1</td>\n",
       "    </tr>\n",
       "    <tr>\n",
       "      <th>b</th>\n",
       "      <td>2.0</td>\n",
       "      <td>2</td>\n",
       "    </tr>\n",
       "    <tr>\n",
       "      <th>c</th>\n",
       "      <td>3.0</td>\n",
       "      <td>3</td>\n",
       "    </tr>\n",
       "    <tr>\n",
       "      <th>d</th>\n",
       "      <td>NaN</td>\n",
       "      <td>4</td>\n",
       "    </tr>\n",
       "  </tbody>\n",
       "</table>\n",
       "</div>"
      ],
      "text/plain": [
       "     A  B\n",
       "a  1.0  1\n",
       "b  2.0  2\n",
       "c  3.0  3\n",
       "d  NaN  4"
      ]
     },
     "execution_count": 141,
     "metadata": {},
     "output_type": "execute_result"
    }
   ],
   "source": [
    "df1"
   ]
  },
  {
   "cell_type": "code",
   "execution_count": 142,
   "id": "4be043ef-b2fa-4012-ae75-79d87246d9a5",
   "metadata": {},
   "outputs": [],
   "source": [
    "# del df1['B']"
   ]
  },
  {
   "cell_type": "code",
   "execution_count": 143,
   "id": "ef46657f-d773-4749-bd0c-8e4621b7a74e",
   "metadata": {},
   "outputs": [
    {
     "data": {
      "text/html": [
       "<div>\n",
       "<style scoped>\n",
       "    .dataframe tbody tr th:only-of-type {\n",
       "        vertical-align: middle;\n",
       "    }\n",
       "\n",
       "    .dataframe tbody tr th {\n",
       "        vertical-align: top;\n",
       "    }\n",
       "\n",
       "    .dataframe thead th {\n",
       "        text-align: right;\n",
       "    }\n",
       "</style>\n",
       "<table border=\"1\" class=\"dataframe\">\n",
       "  <thead>\n",
       "    <tr style=\"text-align: right;\">\n",
       "      <th></th>\n",
       "      <th>a</th>\n",
       "      <th>b</th>\n",
       "      <th>c</th>\n",
       "      <th>d</th>\n",
       "    </tr>\n",
       "  </thead>\n",
       "  <tbody>\n",
       "    <tr>\n",
       "      <th>row1</th>\n",
       "      <td>1</td>\n",
       "      <td>2</td>\n",
       "      <td>NaN</td>\n",
       "      <td>NaN</td>\n",
       "    </tr>\n",
       "    <tr>\n",
       "      <th>row2</th>\n",
       "      <td>5</td>\n",
       "      <td>10</td>\n",
       "      <td>20.0</td>\n",
       "      <td>NaN</td>\n",
       "    </tr>\n",
       "  </tbody>\n",
       "</table>\n",
       "</div>"
      ],
      "text/plain": [
       "      a   b     c   d\n",
       "row1  1   2   NaN NaN\n",
       "row2  5  10  20.0 NaN"
      ]
     },
     "execution_count": 143,
     "metadata": {},
     "output_type": "execute_result"
    }
   ],
   "source": [
    "df5"
   ]
  },
  {
   "cell_type": "code",
   "execution_count": 144,
   "id": "64126cce-9b8a-4d2a-88fb-ba24bb052cf6",
   "metadata": {},
   "outputs": [
    {
     "data": {
      "text/plain": [
       "row1     NaN\n",
       "row2    20.0\n",
       "Name: c, dtype: float64"
      ]
     },
     "execution_count": 144,
     "metadata": {},
     "output_type": "execute_result"
    }
   ],
   "source": [
    "#delete column using pop()\n",
    "df5.pop('c')"
   ]
  },
  {
   "cell_type": "code",
   "execution_count": 145,
   "id": "b240ee81-e335-4d6e-959b-66e0fa43efc7",
   "metadata": {},
   "outputs": [
    {
     "data": {
      "text/html": [
       "<div>\n",
       "<style scoped>\n",
       "    .dataframe tbody tr th:only-of-type {\n",
       "        vertical-align: middle;\n",
       "    }\n",
       "\n",
       "    .dataframe tbody tr th {\n",
       "        vertical-align: top;\n",
       "    }\n",
       "\n",
       "    .dataframe thead th {\n",
       "        text-align: right;\n",
       "    }\n",
       "</style>\n",
       "<table border=\"1\" class=\"dataframe\">\n",
       "  <thead>\n",
       "    <tr style=\"text-align: right;\">\n",
       "      <th></th>\n",
       "      <th>a</th>\n",
       "      <th>b</th>\n",
       "      <th>d</th>\n",
       "    </tr>\n",
       "  </thead>\n",
       "  <tbody>\n",
       "    <tr>\n",
       "      <th>row1</th>\n",
       "      <td>1</td>\n",
       "      <td>2</td>\n",
       "      <td>NaN</td>\n",
       "    </tr>\n",
       "    <tr>\n",
       "      <th>row2</th>\n",
       "      <td>5</td>\n",
       "      <td>10</td>\n",
       "      <td>NaN</td>\n",
       "    </tr>\n",
       "  </tbody>\n",
       "</table>\n",
       "</div>"
      ],
      "text/plain": [
       "      a   b   d\n",
       "row1  1   2 NaN\n",
       "row2  5  10 NaN"
      ]
     },
     "execution_count": 145,
     "metadata": {},
     "output_type": "execute_result"
    }
   ],
   "source": [
    "df5"
   ]
  },
  {
   "cell_type": "markdown",
   "id": "04ad4277-34e1-474c-81c9-3ce99d1c15c7",
   "metadata": {},
   "source": [
    "2.4 data section in dataframe"
   ]
  },
  {
   "cell_type": "code",
   "execution_count": 146,
   "id": "98fe6921-62d0-4a13-b9cc-4a0eb8deca7b",
   "metadata": {},
   "outputs": [
    {
     "data": {
      "text/html": [
       "<div>\n",
       "<style scoped>\n",
       "    .dataframe tbody tr th:only-of-type {\n",
       "        vertical-align: middle;\n",
       "    }\n",
       "\n",
       "    .dataframe tbody tr th {\n",
       "        vertical-align: top;\n",
       "    }\n",
       "\n",
       "    .dataframe thead th {\n",
       "        text-align: right;\n",
       "    }\n",
       "</style>\n",
       "<table border=\"1\" class=\"dataframe\">\n",
       "  <thead>\n",
       "    <tr style=\"text-align: right;\">\n",
       "      <th></th>\n",
       "      <th>language</th>\n",
       "      <th>Rating</th>\n",
       "    </tr>\n",
       "  </thead>\n",
       "  <tbody>\n",
       "    <tr>\n",
       "      <th>0</th>\n",
       "      <td>Java</td>\n",
       "      <td>1</td>\n",
       "    </tr>\n",
       "    <tr>\n",
       "      <th>1</th>\n",
       "      <td>Python</td>\n",
       "      <td>2</td>\n",
       "    </tr>\n",
       "    <tr>\n",
       "      <th>2</th>\n",
       "      <td>C</td>\n",
       "      <td>3</td>\n",
       "    </tr>\n",
       "    <tr>\n",
       "      <th>3</th>\n",
       "      <td>C++</td>\n",
       "      <td>4</td>\n",
       "    </tr>\n",
       "  </tbody>\n",
       "</table>\n",
       "</div>"
      ],
      "text/plain": [
       "  language  Rating\n",
       "0     Java       1\n",
       "1   Python       2\n",
       "2        C       3\n",
       "3      C++       4"
      ]
     },
     "execution_count": 146,
     "metadata": {},
     "output_type": "execute_result"
    }
   ],
   "source": [
    "df"
   ]
  },
  {
   "cell_type": "code",
   "execution_count": 147,
   "id": "195c9874-23d1-412c-bb05-11a97d800718",
   "metadata": {},
   "outputs": [],
   "source": [
    "df.index = [1,2,3,4]"
   ]
  },
  {
   "cell_type": "code",
   "execution_count": 148,
   "id": "ec30c4f9-c10f-4866-9bce-2772bcba80a8",
   "metadata": {},
   "outputs": [
    {
     "data": {
      "text/html": [
       "<div>\n",
       "<style scoped>\n",
       "    .dataframe tbody tr th:only-of-type {\n",
       "        vertical-align: middle;\n",
       "    }\n",
       "\n",
       "    .dataframe tbody tr th {\n",
       "        vertical-align: top;\n",
       "    }\n",
       "\n",
       "    .dataframe thead th {\n",
       "        text-align: right;\n",
       "    }\n",
       "</style>\n",
       "<table border=\"1\" class=\"dataframe\">\n",
       "  <thead>\n",
       "    <tr style=\"text-align: right;\">\n",
       "      <th></th>\n",
       "      <th>language</th>\n",
       "      <th>Rating</th>\n",
       "    </tr>\n",
       "  </thead>\n",
       "  <tbody>\n",
       "    <tr>\n",
       "      <th>1</th>\n",
       "      <td>Java</td>\n",
       "      <td>1</td>\n",
       "    </tr>\n",
       "    <tr>\n",
       "      <th>2</th>\n",
       "      <td>Python</td>\n",
       "      <td>2</td>\n",
       "    </tr>\n",
       "    <tr>\n",
       "      <th>3</th>\n",
       "      <td>C</td>\n",
       "      <td>3</td>\n",
       "    </tr>\n",
       "    <tr>\n",
       "      <th>4</th>\n",
       "      <td>C++</td>\n",
       "      <td>4</td>\n",
       "    </tr>\n",
       "  </tbody>\n",
       "</table>\n",
       "</div>"
      ],
      "text/plain": [
       "  language  Rating\n",
       "1     Java       1\n",
       "2   Python       2\n",
       "3        C       3\n",
       "4      C++       4"
      ]
     },
     "execution_count": 148,
     "metadata": {},
     "output_type": "execute_result"
    }
   ],
   "source": [
    "df"
   ]
  },
  {
   "cell_type": "code",
   "execution_count": 149,
   "id": "2617ba95-46d6-4fb1-b642-693ecd4b57b0",
   "metadata": {},
   "outputs": [
    {
     "data": {
      "text/plain": [
       "language    Java\n",
       "Rating         1\n",
       "Name: 1, dtype: object"
      ]
     },
     "execution_count": 149,
     "metadata": {},
     "output_type": "execute_result"
    }
   ],
   "source": [
    "# Data selection using row label\n",
    "df.loc[1]"
   ]
  },
  {
   "cell_type": "code",
   "execution_count": 151,
   "id": "d8996c05-1d8a-4a49-9e06-614348ac55ed",
   "metadata": {},
   "outputs": [
    {
     "data": {
      "text/plain": [
       "language    Python\n",
       "Rating           2\n",
       "Name: 2, dtype: object"
      ]
     },
     "execution_count": 151,
     "metadata": {},
     "output_type": "execute_result"
    }
   ],
   "source": [
    "df.iloc[1]"
   ]
  },
  {
   "cell_type": "code",
   "execution_count": 152,
   "id": "95698533-a658-4780-ab9e-4dabb6018c7f",
   "metadata": {},
   "outputs": [
    {
     "data": {
      "text/html": [
       "<div>\n",
       "<style scoped>\n",
       "    .dataframe tbody tr th:only-of-type {\n",
       "        vertical-align: middle;\n",
       "    }\n",
       "\n",
       "    .dataframe tbody tr th {\n",
       "        vertical-align: top;\n",
       "    }\n",
       "\n",
       "    .dataframe thead th {\n",
       "        text-align: right;\n",
       "    }\n",
       "</style>\n",
       "<table border=\"1\" class=\"dataframe\">\n",
       "  <thead>\n",
       "    <tr style=\"text-align: right;\">\n",
       "      <th></th>\n",
       "      <th>language</th>\n",
       "      <th>Rating</th>\n",
       "    </tr>\n",
       "  </thead>\n",
       "  <tbody>\n",
       "    <tr>\n",
       "      <th>1</th>\n",
       "      <td>Java</td>\n",
       "      <td>1</td>\n",
       "    </tr>\n",
       "    <tr>\n",
       "      <th>2</th>\n",
       "      <td>Python</td>\n",
       "      <td>2</td>\n",
       "    </tr>\n",
       "  </tbody>\n",
       "</table>\n",
       "</div>"
      ],
      "text/plain": [
       "  language  Rating\n",
       "1     Java       1\n",
       "2   Python       2"
      ]
     },
     "execution_count": 152,
     "metadata": {},
     "output_type": "execute_result"
    }
   ],
   "source": [
    "df.loc[1:2] # Selects rows 1 and 2, and columns 'A', 'B"
   ]
  },
  {
   "cell_type": "code",
   "execution_count": 153,
   "id": "63fcefc7-60bc-4e21-badb-d117936695f5",
   "metadata": {},
   "outputs": [
    {
     "data": {
      "text/html": [
       "<div>\n",
       "<style scoped>\n",
       "    .dataframe tbody tr th:only-of-type {\n",
       "        vertical-align: middle;\n",
       "    }\n",
       "\n",
       "    .dataframe tbody tr th {\n",
       "        vertical-align: top;\n",
       "    }\n",
       "\n",
       "    .dataframe thead th {\n",
       "        text-align: right;\n",
       "    }\n",
       "</style>\n",
       "<table border=\"1\" class=\"dataframe\">\n",
       "  <thead>\n",
       "    <tr style=\"text-align: right;\">\n",
       "      <th></th>\n",
       "      <th>language</th>\n",
       "      <th>Rating</th>\n",
       "    </tr>\n",
       "  </thead>\n",
       "  <tbody>\n",
       "    <tr>\n",
       "      <th>2</th>\n",
       "      <td>Python</td>\n",
       "      <td>2</td>\n",
       "    </tr>\n",
       "  </tbody>\n",
       "</table>\n",
       "</div>"
      ],
      "text/plain": [
       "  language  Rating\n",
       "2   Python       2"
      ]
     },
     "execution_count": 153,
     "metadata": {},
     "output_type": "execute_result"
    }
   ],
   "source": [
    "df.iloc[1:2]  # Selects rows 1 (excludes 2) and columns 0, 1"
   ]
  },
  {
   "cell_type": "code",
   "execution_count": 154,
   "id": "6d520109-4202-4c8a-9253-548006b49f39",
   "metadata": {},
   "outputs": [
    {
     "data": {
      "text/html": [
       "<div>\n",
       "<style scoped>\n",
       "    .dataframe tbody tr th:only-of-type {\n",
       "        vertical-align: middle;\n",
       "    }\n",
       "\n",
       "    .dataframe tbody tr th {\n",
       "        vertical-align: top;\n",
       "    }\n",
       "\n",
       "    .dataframe thead th {\n",
       "        text-align: right;\n",
       "    }\n",
       "</style>\n",
       "<table border=\"1\" class=\"dataframe\">\n",
       "  <thead>\n",
       "    <tr style=\"text-align: right;\">\n",
       "      <th></th>\n",
       "      <th>language</th>\n",
       "      <th>Rating</th>\n",
       "    </tr>\n",
       "  </thead>\n",
       "  <tbody>\n",
       "    <tr>\n",
       "      <th>3</th>\n",
       "      <td>C</td>\n",
       "      <td>3</td>\n",
       "    </tr>\n",
       "    <tr>\n",
       "      <th>4</th>\n",
       "      <td>C++</td>\n",
       "      <td>4</td>\n",
       "    </tr>\n",
       "  </tbody>\n",
       "</table>\n",
       "</div>"
      ],
      "text/plain": [
       "  language  Rating\n",
       "3        C       3\n",
       "4      C++       4"
      ]
     },
     "execution_count": 154,
     "metadata": {},
     "output_type": "execute_result"
    }
   ],
   "source": [
    "# Data selection based on Condition\n",
    "df.loc[df.Rating>2]"
   ]
  },
  {
   "cell_type": "code",
   "execution_count": 155,
   "id": "b1ebca0e-f500-4b8b-a1ef-4f542cb16042",
   "metadata": {},
   "outputs": [
    {
     "data": {
      "text/html": [
       "<div>\n",
       "<style scoped>\n",
       "    .dataframe tbody tr th:only-of-type {\n",
       "        vertical-align: middle;\n",
       "    }\n",
       "\n",
       "    .dataframe tbody tr th {\n",
       "        vertical-align: top;\n",
       "    }\n",
       "\n",
       "    .dataframe thead th {\n",
       "        text-align: right;\n",
       "    }\n",
       "</style>\n",
       "<table border=\"1\" class=\"dataframe\">\n",
       "  <thead>\n",
       "    <tr style=\"text-align: right;\">\n",
       "      <th></th>\n",
       "      <th>A</th>\n",
       "      <th>B</th>\n",
       "    </tr>\n",
       "  </thead>\n",
       "  <tbody>\n",
       "    <tr>\n",
       "      <th>a</th>\n",
       "      <td>1.0</td>\n",
       "      <td>1</td>\n",
       "    </tr>\n",
       "    <tr>\n",
       "      <th>b</th>\n",
       "      <td>2.0</td>\n",
       "      <td>2</td>\n",
       "    </tr>\n",
       "    <tr>\n",
       "      <th>c</th>\n",
       "      <td>3.0</td>\n",
       "      <td>3</td>\n",
       "    </tr>\n",
       "    <tr>\n",
       "      <th>d</th>\n",
       "      <td>NaN</td>\n",
       "      <td>4</td>\n",
       "    </tr>\n",
       "  </tbody>\n",
       "</table>\n",
       "</div>"
      ],
      "text/plain": [
       "     A  B\n",
       "a  1.0  1\n",
       "b  2.0  2\n",
       "c  3.0  3\n",
       "d  NaN  4"
      ]
     },
     "execution_count": 155,
     "metadata": {},
     "output_type": "execute_result"
    }
   ],
   "source": [
    "df1"
   ]
  },
  {
   "cell_type": "code",
   "execution_count": 156,
   "id": "e5ea8955-bde5-4ca1-80a1-54703a56da7f",
   "metadata": {},
   "outputs": [],
   "source": [
    "del df1['B']"
   ]
  },
  {
   "cell_type": "code",
   "execution_count": 157,
   "id": "95d303c5-e5dd-4241-a898-603fae686f28",
   "metadata": {},
   "outputs": [
    {
     "data": {
      "text/html": [
       "<div>\n",
       "<style scoped>\n",
       "    .dataframe tbody tr th:only-of-type {\n",
       "        vertical-align: middle;\n",
       "    }\n",
       "\n",
       "    .dataframe tbody tr th {\n",
       "        vertical-align: top;\n",
       "    }\n",
       "\n",
       "    .dataframe thead th {\n",
       "        text-align: right;\n",
       "    }\n",
       "</style>\n",
       "<table border=\"1\" class=\"dataframe\">\n",
       "  <thead>\n",
       "    <tr style=\"text-align: right;\">\n",
       "      <th></th>\n",
       "      <th>A</th>\n",
       "    </tr>\n",
       "  </thead>\n",
       "  <tbody>\n",
       "    <tr>\n",
       "      <th>a</th>\n",
       "      <td>1.0</td>\n",
       "    </tr>\n",
       "    <tr>\n",
       "      <th>b</th>\n",
       "      <td>2.0</td>\n",
       "    </tr>\n",
       "    <tr>\n",
       "      <th>c</th>\n",
       "      <td>3.0</td>\n",
       "    </tr>\n",
       "    <tr>\n",
       "      <th>d</th>\n",
       "      <td>NaN</td>\n",
       "    </tr>\n",
       "  </tbody>\n",
       "</table>\n",
       "</div>"
      ],
      "text/plain": [
       "     A\n",
       "a  1.0\n",
       "b  2.0\n",
       "c  3.0\n",
       "d  NaN"
      ]
     },
     "execution_count": 157,
     "metadata": {},
     "output_type": "execute_result"
    }
   ],
   "source": [
    "df1"
   ]
  },
  {
   "cell_type": "code",
   "execution_count": 159,
   "id": "b278d8c3-43e4-4aca-a880-fcfa249b8061",
   "metadata": {},
   "outputs": [
    {
     "data": {
      "text/plain": [
       "A    1.0\n",
       "Name: a, dtype: float64"
      ]
     },
     "execution_count": 159,
     "metadata": {},
     "output_type": "execute_result"
    }
   ],
   "source": [
    "# Row & Column label based selection\n",
    "df1.loc['a']"
   ]
  },
  {
   "cell_type": "code",
   "execution_count": 160,
   "id": "1cda8496-ff16-4e4b-8779-b82902141a55",
   "metadata": {},
   "outputs": [],
   "source": [
    "# df1.iloc['a']# This will throw error because iloc will not work on labels"
   ]
  },
  {
   "cell_type": "code",
   "execution_count": 161,
   "id": "7710708f-4773-4874-85c0-fda4cef41bbd",
   "metadata": {},
   "outputs": [
    {
     "data": {
      "text/html": [
       "<div>\n",
       "<style scoped>\n",
       "    .dataframe tbody tr th:only-of-type {\n",
       "        vertical-align: middle;\n",
       "    }\n",
       "\n",
       "    .dataframe tbody tr th {\n",
       "        vertical-align: top;\n",
       "    }\n",
       "\n",
       "    .dataframe thead th {\n",
       "        text-align: right;\n",
       "    }\n",
       "</style>\n",
       "<table border=\"1\" class=\"dataframe\">\n",
       "  <thead>\n",
       "    <tr style=\"text-align: right;\">\n",
       "      <th></th>\n",
       "      <th>c1</th>\n",
       "      <th>c2</th>\n",
       "      <th>c3</th>\n",
       "      <th>c4</th>\n",
       "      <th>c5</th>\n",
       "      <th>c6</th>\n",
       "      <th>c7</th>\n",
       "    </tr>\n",
       "  </thead>\n",
       "  <tbody>\n",
       "    <tr>\n",
       "      <th>2020-01-20</th>\n",
       "      <td>0.768011</td>\n",
       "      <td>0.307343</td>\n",
       "      <td>0.482144</td>\n",
       "      <td>0.119334</td>\n",
       "      <td>0.684902</td>\n",
       "      <td>0.685252</td>\n",
       "      <td>0.701769</td>\n",
       "    </tr>\n",
       "    <tr>\n",
       "      <th>2020-01-21</th>\n",
       "      <td>0.121306</td>\n",
       "      <td>0.262949</td>\n",
       "      <td>0.471929</td>\n",
       "      <td>0.180925</td>\n",
       "      <td>0.028225</td>\n",
       "      <td>0.123553</td>\n",
       "      <td>0.402014</td>\n",
       "    </tr>\n",
       "    <tr>\n",
       "      <th>2020-01-22</th>\n",
       "      <td>0.217886</td>\n",
       "      <td>0.546386</td>\n",
       "      <td>0.014836</td>\n",
       "      <td>0.183047</td>\n",
       "      <td>0.710178</td>\n",
       "      <td>0.426291</td>\n",
       "      <td>0.913270</td>\n",
       "    </tr>\n",
       "    <tr>\n",
       "      <th>2020-01-23</th>\n",
       "      <td>0.292866</td>\n",
       "      <td>0.026175</td>\n",
       "      <td>0.955067</td>\n",
       "      <td>0.919412</td>\n",
       "      <td>0.028074</td>\n",
       "      <td>0.207691</td>\n",
       "      <td>0.498286</td>\n",
       "    </tr>\n",
       "    <tr>\n",
       "      <th>2020-01-24</th>\n",
       "      <td>0.844169</td>\n",
       "      <td>0.928479</td>\n",
       "      <td>0.840419</td>\n",
       "      <td>0.079163</td>\n",
       "      <td>0.490483</td>\n",
       "      <td>0.643092</td>\n",
       "      <td>0.248571</td>\n",
       "    </tr>\n",
       "    <tr>\n",
       "      <th>2020-01-25</th>\n",
       "      <td>0.377634</td>\n",
       "      <td>0.811897</td>\n",
       "      <td>0.784042</td>\n",
       "      <td>0.326084</td>\n",
       "      <td>0.369907</td>\n",
       "      <td>0.458585</td>\n",
       "      <td>0.719425</td>\n",
       "    </tr>\n",
       "    <tr>\n",
       "      <th>2020-01-26</th>\n",
       "      <td>0.525736</td>\n",
       "      <td>0.632959</td>\n",
       "      <td>0.409448</td>\n",
       "      <td>0.340481</td>\n",
       "      <td>0.125307</td>\n",
       "      <td>0.372567</td>\n",
       "      <td>0.575594</td>\n",
       "    </tr>\n",
       "  </tbody>\n",
       "</table>\n",
       "</div>"
      ],
      "text/plain": [
       "                  c1        c2        c3        c4        c5        c6  \\\n",
       "2020-01-20  0.768011  0.307343  0.482144  0.119334  0.684902  0.685252   \n",
       "2020-01-21  0.121306  0.262949  0.471929  0.180925  0.028225  0.123553   \n",
       "2020-01-22  0.217886  0.546386  0.014836  0.183047  0.710178  0.426291   \n",
       "2020-01-23  0.292866  0.026175  0.955067  0.919412  0.028074  0.207691   \n",
       "2020-01-24  0.844169  0.928479  0.840419  0.079163  0.490483  0.643092   \n",
       "2020-01-25  0.377634  0.811897  0.784042  0.326084  0.369907  0.458585   \n",
       "2020-01-26  0.525736  0.632959  0.409448  0.340481  0.125307  0.372567   \n",
       "\n",
       "                  c7  \n",
       "2020-01-20  0.701769  \n",
       "2020-01-21  0.402014  \n",
       "2020-01-22  0.913270  \n",
       "2020-01-23  0.498286  \n",
       "2020-01-24  0.248571  \n",
       "2020-01-25  0.719425  \n",
       "2020-01-26  0.575594  "
      ]
     },
     "execution_count": 161,
     "metadata": {},
     "output_type": "execute_result"
    }
   ],
   "source": [
    "dframe"
   ]
  },
  {
   "cell_type": "code",
   "execution_count": 162,
   "id": "0ade67f2-98b4-4d8a-a78e-8a32d5ffc7ea",
   "metadata": {},
   "outputs": [
    {
     "data": {
      "text/html": [
       "<div>\n",
       "<style scoped>\n",
       "    .dataframe tbody tr th:only-of-type {\n",
       "        vertical-align: middle;\n",
       "    }\n",
       "\n",
       "    .dataframe tbody tr th {\n",
       "        vertical-align: top;\n",
       "    }\n",
       "\n",
       "    .dataframe thead th {\n",
       "        text-align: right;\n",
       "    }\n",
       "</style>\n",
       "<table border=\"1\" class=\"dataframe\">\n",
       "  <thead>\n",
       "    <tr style=\"text-align: right;\">\n",
       "      <th></th>\n",
       "      <th>c1</th>\n",
       "      <th>c2</th>\n",
       "      <th>c3</th>\n",
       "      <th>c4</th>\n",
       "      <th>c5</th>\n",
       "      <th>c6</th>\n",
       "      <th>c7</th>\n",
       "    </tr>\n",
       "  </thead>\n",
       "  <tbody>\n",
       "    <tr>\n",
       "      <th>2020-01-20</th>\n",
       "      <td>0.768011</td>\n",
       "      <td>0.307343</td>\n",
       "      <td>0.482144</td>\n",
       "      <td>0.119334</td>\n",
       "      <td>0.684902</td>\n",
       "      <td>0.685252</td>\n",
       "      <td>0.701769</td>\n",
       "    </tr>\n",
       "    <tr>\n",
       "      <th>2020-01-21</th>\n",
       "      <td>0.121306</td>\n",
       "      <td>0.262949</td>\n",
       "      <td>0.471929</td>\n",
       "      <td>0.180925</td>\n",
       "      <td>0.028225</td>\n",
       "      <td>0.123553</td>\n",
       "      <td>0.402014</td>\n",
       "    </tr>\n",
       "    <tr>\n",
       "      <th>2020-01-22</th>\n",
       "      <td>0.217886</td>\n",
       "      <td>0.546386</td>\n",
       "      <td>0.014836</td>\n",
       "      <td>0.183047</td>\n",
       "      <td>0.710178</td>\n",
       "      <td>0.426291</td>\n",
       "      <td>0.913270</td>\n",
       "    </tr>\n",
       "  </tbody>\n",
       "</table>\n",
       "</div>"
      ],
      "text/plain": [
       "                  c1        c2        c3        c4        c5        c6  \\\n",
       "2020-01-20  0.768011  0.307343  0.482144  0.119334  0.684902  0.685252   \n",
       "2020-01-21  0.121306  0.262949  0.471929  0.180925  0.028225  0.123553   \n",
       "2020-01-22  0.217886  0.546386  0.014836  0.183047  0.710178  0.426291   \n",
       "\n",
       "                  c7  \n",
       "2020-01-20  0.701769  \n",
       "2020-01-21  0.402014  \n",
       "2020-01-22  0.913270  "
      ]
     },
     "execution_count": 162,
     "metadata": {},
     "output_type": "execute_result"
    }
   ],
   "source": [
    "# Data selection using Row Label\n",
    "dframe['2020-01-20' : '2020-01-22']"
   ]
  },
  {
   "cell_type": "code",
   "execution_count": 165,
   "id": "b3519dcf-da6e-427d-af7c-172577ff16c9",
   "metadata": {},
   "outputs": [
    {
     "data": {
      "text/html": [
       "<div>\n",
       "<style scoped>\n",
       "    .dataframe tbody tr th:only-of-type {\n",
       "        vertical-align: middle;\n",
       "    }\n",
       "\n",
       "    .dataframe tbody tr th {\n",
       "        vertical-align: top;\n",
       "    }\n",
       "\n",
       "    .dataframe thead th {\n",
       "        text-align: right;\n",
       "    }\n",
       "</style>\n",
       "<table border=\"1\" class=\"dataframe\">\n",
       "  <thead>\n",
       "    <tr style=\"text-align: right;\">\n",
       "      <th></th>\n",
       "      <th>c1</th>\n",
       "      <th>c7</th>\n",
       "    </tr>\n",
       "  </thead>\n",
       "  <tbody>\n",
       "    <tr>\n",
       "      <th>2020-01-20</th>\n",
       "      <td>0.768011</td>\n",
       "      <td>0.701769</td>\n",
       "    </tr>\n",
       "    <tr>\n",
       "      <th>2020-01-21</th>\n",
       "      <td>0.121306</td>\n",
       "      <td>0.402014</td>\n",
       "    </tr>\n",
       "    <tr>\n",
       "      <th>2020-01-22</th>\n",
       "      <td>0.217886</td>\n",
       "      <td>0.913270</td>\n",
       "    </tr>\n",
       "    <tr>\n",
       "      <th>2020-01-23</th>\n",
       "      <td>0.292866</td>\n",
       "      <td>0.498286</td>\n",
       "    </tr>\n",
       "    <tr>\n",
       "      <th>2020-01-24</th>\n",
       "      <td>0.844169</td>\n",
       "      <td>0.248571</td>\n",
       "    </tr>\n",
       "    <tr>\n",
       "      <th>2020-01-25</th>\n",
       "      <td>0.377634</td>\n",
       "      <td>0.719425</td>\n",
       "    </tr>\n",
       "    <tr>\n",
       "      <th>2020-01-26</th>\n",
       "      <td>0.525736</td>\n",
       "      <td>0.575594</td>\n",
       "    </tr>\n",
       "  </tbody>\n",
       "</table>\n",
       "</div>"
      ],
      "text/plain": [
       "                  c1        c7\n",
       "2020-01-20  0.768011  0.701769\n",
       "2020-01-21  0.121306  0.402014\n",
       "2020-01-22  0.217886  0.913270\n",
       "2020-01-23  0.292866  0.498286\n",
       "2020-01-24  0.844169  0.248571\n",
       "2020-01-25  0.377634  0.719425\n",
       "2020-01-26  0.525736  0.575594"
      ]
     },
     "execution_count": 165,
     "metadata": {},
     "output_type": "execute_result"
    }
   ],
   "source": [
    "#Selecting all rows & selected columns\n",
    "dframe.loc[:,['c1','c7']]"
   ]
  },
  {
   "cell_type": "code",
   "execution_count": 166,
   "id": "9cb660ab-021c-4bdd-80d1-a3dad45f2ae9",
   "metadata": {},
   "outputs": [
    {
     "data": {
      "text/html": [
       "<div>\n",
       "<style scoped>\n",
       "    .dataframe tbody tr th:only-of-type {\n",
       "        vertical-align: middle;\n",
       "    }\n",
       "\n",
       "    .dataframe tbody tr th {\n",
       "        vertical-align: top;\n",
       "    }\n",
       "\n",
       "    .dataframe thead th {\n",
       "        text-align: right;\n",
       "    }\n",
       "</style>\n",
       "<table border=\"1\" class=\"dataframe\">\n",
       "  <thead>\n",
       "    <tr style=\"text-align: right;\">\n",
       "      <th></th>\n",
       "      <th>c1</th>\n",
       "      <th>c7</th>\n",
       "    </tr>\n",
       "  </thead>\n",
       "  <tbody>\n",
       "    <tr>\n",
       "      <th>2020-01-20</th>\n",
       "      <td>0.768011</td>\n",
       "      <td>0.701769</td>\n",
       "    </tr>\n",
       "    <tr>\n",
       "      <th>2020-01-21</th>\n",
       "      <td>0.121306</td>\n",
       "      <td>0.402014</td>\n",
       "    </tr>\n",
       "    <tr>\n",
       "      <th>2020-01-22</th>\n",
       "      <td>0.217886</td>\n",
       "      <td>0.913270</td>\n",
       "    </tr>\n",
       "  </tbody>\n",
       "</table>\n",
       "</div>"
      ],
      "text/plain": [
       "                  c1        c7\n",
       "2020-01-20  0.768011  0.701769\n",
       "2020-01-21  0.121306  0.402014\n",
       "2020-01-22  0.217886  0.913270"
      ]
     },
     "execution_count": 166,
     "metadata": {},
     "output_type": "execute_result"
    }
   ],
   "source": [
    "#row & column label based selection\n",
    "dframe.loc['2020-01-20':'2020-01-22',['c1','c7']]"
   ]
  },
  {
   "cell_type": "code",
   "execution_count": 168,
   "id": "13b85611-6ed8-4d3b-90b6-5c55089ff251",
   "metadata": {},
   "outputs": [
    {
     "data": {
      "text/html": [
       "<div>\n",
       "<style scoped>\n",
       "    .dataframe tbody tr th:only-of-type {\n",
       "        vertical-align: middle;\n",
       "    }\n",
       "\n",
       "    .dataframe tbody tr th {\n",
       "        vertical-align: top;\n",
       "    }\n",
       "\n",
       "    .dataframe thead th {\n",
       "        text-align: right;\n",
       "    }\n",
       "</style>\n",
       "<table border=\"1\" class=\"dataframe\">\n",
       "  <thead>\n",
       "    <tr style=\"text-align: right;\">\n",
       "      <th></th>\n",
       "      <th>c1</th>\n",
       "      <th>c2</th>\n",
       "      <th>c3</th>\n",
       "      <th>c4</th>\n",
       "      <th>c5</th>\n",
       "      <th>c6</th>\n",
       "      <th>c7</th>\n",
       "    </tr>\n",
       "  </thead>\n",
       "  <tbody>\n",
       "    <tr>\n",
       "      <th>2020-01-20</th>\n",
       "      <td>0.768011</td>\n",
       "      <td>0.307343</td>\n",
       "      <td>0.482144</td>\n",
       "      <td>0.119334</td>\n",
       "      <td>0.684902</td>\n",
       "      <td>0.685252</td>\n",
       "      <td>0.701769</td>\n",
       "    </tr>\n",
       "    <tr>\n",
       "      <th>2020-01-24</th>\n",
       "      <td>0.844169</td>\n",
       "      <td>0.928479</td>\n",
       "      <td>0.840419</td>\n",
       "      <td>0.079163</td>\n",
       "      <td>0.490483</td>\n",
       "      <td>0.643092</td>\n",
       "      <td>0.248571</td>\n",
       "    </tr>\n",
       "    <tr>\n",
       "      <th>2020-01-26</th>\n",
       "      <td>0.525736</td>\n",
       "      <td>0.632959</td>\n",
       "      <td>0.409448</td>\n",
       "      <td>0.340481</td>\n",
       "      <td>0.125307</td>\n",
       "      <td>0.372567</td>\n",
       "      <td>0.575594</td>\n",
       "    </tr>\n",
       "  </tbody>\n",
       "</table>\n",
       "</div>"
      ],
      "text/plain": [
       "                  c1        c2        c3        c4        c5        c6  \\\n",
       "2020-01-20  0.768011  0.307343  0.482144  0.119334  0.684902  0.685252   \n",
       "2020-01-24  0.844169  0.928479  0.840419  0.079163  0.490483  0.643092   \n",
       "2020-01-26  0.525736  0.632959  0.409448  0.340481  0.125307  0.372567   \n",
       "\n",
       "                  c7  \n",
       "2020-01-20  0.701769  \n",
       "2020-01-24  0.248571  \n",
       "2020-01-26  0.575594  "
      ]
     },
     "execution_count": 168,
     "metadata": {},
     "output_type": "execute_result"
    }
   ],
   "source": [
    "# Data selection based on Condition\n",
    "dframe[dframe['c1']>0.5]"
   ]
  },
  {
   "cell_type": "code",
   "execution_count": 170,
   "id": "6ffb0be7-64f4-4364-954c-b57b5574c483",
   "metadata": {},
   "outputs": [
    {
     "data": {
      "text/html": [
       "<div>\n",
       "<style scoped>\n",
       "    .dataframe tbody tr th:only-of-type {\n",
       "        vertical-align: middle;\n",
       "    }\n",
       "\n",
       "    .dataframe tbody tr th {\n",
       "        vertical-align: top;\n",
       "    }\n",
       "\n",
       "    .dataframe thead th {\n",
       "        text-align: right;\n",
       "    }\n",
       "</style>\n",
       "<table border=\"1\" class=\"dataframe\">\n",
       "  <thead>\n",
       "    <tr style=\"text-align: right;\">\n",
       "      <th></th>\n",
       "      <th>c1</th>\n",
       "      <th>c2</th>\n",
       "      <th>c3</th>\n",
       "      <th>c4</th>\n",
       "      <th>c5</th>\n",
       "      <th>c6</th>\n",
       "      <th>c7</th>\n",
       "    </tr>\n",
       "  </thead>\n",
       "  <tbody>\n",
       "  </tbody>\n",
       "</table>\n",
       "</div>"
      ],
      "text/plain": [
       "Empty DataFrame\n",
       "Columns: [c1, c2, c3, c4, c5, c6, c7]\n",
       "Index: []"
      ]
     },
     "execution_count": 170,
     "metadata": {},
     "output_type": "execute_result"
    }
   ],
   "source": [
    "# Data selection based on Condition\n",
    "dframe[(dframe['c1']>0.5) & (dframe['c4']>0.5)]"
   ]
  },
  {
   "cell_type": "code",
   "execution_count": 173,
   "id": "ec5dc7f8-dc52-46df-86cd-8d8c59776a4c",
   "metadata": {},
   "outputs": [
    {
     "data": {
      "text/html": [
       "<div>\n",
       "<style scoped>\n",
       "    .dataframe tbody tr th:only-of-type {\n",
       "        vertical-align: middle;\n",
       "    }\n",
       "\n",
       "    .dataframe tbody tr th {\n",
       "        vertical-align: top;\n",
       "    }\n",
       "\n",
       "    .dataframe thead th {\n",
       "        text-align: right;\n",
       "    }\n",
       "</style>\n",
       "<table border=\"1\" class=\"dataframe\">\n",
       "  <thead>\n",
       "    <tr style=\"text-align: right;\">\n",
       "      <th></th>\n",
       "      <th>c1</th>\n",
       "      <th>c2</th>\n",
       "      <th>c3</th>\n",
       "      <th>c4</th>\n",
       "      <th>c5</th>\n",
       "      <th>c6</th>\n",
       "      <th>c7</th>\n",
       "    </tr>\n",
       "  </thead>\n",
       "  <tbody>\n",
       "  </tbody>\n",
       "</table>\n",
       "</div>"
      ],
      "text/plain": [
       "Empty DataFrame\n",
       "Columns: [c1, c2, c3, c4, c5, c6, c7]\n",
       "Index: []"
      ]
     },
     "execution_count": 173,
     "metadata": {},
     "output_type": "execute_result"
    }
   ],
   "source": [
    "dframe[(dframe['c1'] > 0.5) & (dframe['c4']>0.5)]"
   ]
  },
  {
   "cell_type": "code",
   "execution_count": 175,
   "id": "cd2673c5-ca99-451d-a44f-6e969b4e80a0",
   "metadata": {},
   "outputs": [
    {
     "name": "stderr",
     "output_type": "stream",
     "text": [
      "C:\\Users\\ICON\\AppData\\Local\\Temp\\ipykernel_5580\\4155087322.py:2: FutureWarning: Series.__getitem__ treating keys as positions is deprecated. In a future version, integer keys will always be treated as labels (consistent with DataFrame behavior). To access a value by position, use `ser.iloc[pos]`\n",
      "  dframe.iloc[0][0]\n"
     ]
    },
    {
     "data": {
      "text/plain": [
       "0.7680108798248911"
      ]
     },
     "execution_count": 175,
     "metadata": {},
     "output_type": "execute_result"
    }
   ],
   "source": [
    "# Data selection using position (Integer Index based)\n",
    "dframe.iloc[0][0]"
   ]
  },
  {
   "cell_type": "code",
   "execution_count": 177,
   "id": "51dda7d7-29f3-4924-97a1-0209f9385d83",
   "metadata": {},
   "outputs": [
    {
     "data": {
      "text/html": [
       "<div>\n",
       "<style scoped>\n",
       "    .dataframe tbody tr th:only-of-type {\n",
       "        vertical-align: middle;\n",
       "    }\n",
       "\n",
       "    .dataframe tbody tr th {\n",
       "        vertical-align: top;\n",
       "    }\n",
       "\n",
       "    .dataframe thead th {\n",
       "        text-align: right;\n",
       "    }\n",
       "</style>\n",
       "<table border=\"1\" class=\"dataframe\">\n",
       "  <thead>\n",
       "    <tr style=\"text-align: right;\">\n",
       "      <th></th>\n",
       "      <th>c1</th>\n",
       "      <th>c2</th>\n",
       "      <th>c3</th>\n",
       "    </tr>\n",
       "  </thead>\n",
       "  <tbody>\n",
       "    <tr>\n",
       "      <th>2020-01-20</th>\n",
       "      <td>0.768011</td>\n",
       "      <td>0.307343</td>\n",
       "      <td>0.482144</td>\n",
       "    </tr>\n",
       "    <tr>\n",
       "      <th>2020-01-21</th>\n",
       "      <td>0.121306</td>\n",
       "      <td>0.262949</td>\n",
       "      <td>0.471929</td>\n",
       "    </tr>\n",
       "    <tr>\n",
       "      <th>2020-01-22</th>\n",
       "      <td>0.217886</td>\n",
       "      <td>0.546386</td>\n",
       "      <td>0.014836</td>\n",
       "    </tr>\n",
       "    <tr>\n",
       "      <th>2020-01-23</th>\n",
       "      <td>0.292866</td>\n",
       "      <td>0.026175</td>\n",
       "      <td>0.955067</td>\n",
       "    </tr>\n",
       "    <tr>\n",
       "      <th>2020-01-24</th>\n",
       "      <td>0.844169</td>\n",
       "      <td>0.928479</td>\n",
       "      <td>0.840419</td>\n",
       "    </tr>\n",
       "    <tr>\n",
       "      <th>2020-01-25</th>\n",
       "      <td>0.377634</td>\n",
       "      <td>0.811897</td>\n",
       "      <td>0.784042</td>\n",
       "    </tr>\n",
       "    <tr>\n",
       "      <th>2020-01-26</th>\n",
       "      <td>0.525736</td>\n",
       "      <td>0.632959</td>\n",
       "      <td>0.409448</td>\n",
       "    </tr>\n",
       "  </tbody>\n",
       "</table>\n",
       "</div>"
      ],
      "text/plain": [
       "                  c1        c2        c3\n",
       "2020-01-20  0.768011  0.307343  0.482144\n",
       "2020-01-21  0.121306  0.262949  0.471929\n",
       "2020-01-22  0.217886  0.546386  0.014836\n",
       "2020-01-23  0.292866  0.026175  0.955067\n",
       "2020-01-24  0.844169  0.928479  0.840419\n",
       "2020-01-25  0.377634  0.811897  0.784042\n",
       "2020-01-26  0.525736  0.632959  0.409448"
      ]
     },
     "execution_count": 177,
     "metadata": {},
     "output_type": "execute_result"
    }
   ],
   "source": [
    "# Select all rows & first three columns\n",
    "dframe.iloc[:,0:3]"
   ]
  },
  {
   "cell_type": "code",
   "execution_count": 185,
   "id": "219bffa2-124e-491c-b857-f2aeb261980b",
   "metadata": {},
   "outputs": [],
   "source": [
    "dframe.iloc[0,0] = 10"
   ]
  },
  {
   "cell_type": "code",
   "execution_count": 186,
   "id": "6d76e25e-bcdc-4d3f-82ba-ba564c5ae3dd",
   "metadata": {},
   "outputs": [
    {
     "data": {
      "text/html": [
       "<div>\n",
       "<style scoped>\n",
       "    .dataframe tbody tr th:only-of-type {\n",
       "        vertical-align: middle;\n",
       "    }\n",
       "\n",
       "    .dataframe tbody tr th {\n",
       "        vertical-align: top;\n",
       "    }\n",
       "\n",
       "    .dataframe thead th {\n",
       "        text-align: right;\n",
       "    }\n",
       "</style>\n",
       "<table border=\"1\" class=\"dataframe\">\n",
       "  <thead>\n",
       "    <tr style=\"text-align: right;\">\n",
       "      <th></th>\n",
       "      <th>c1</th>\n",
       "      <th>c2</th>\n",
       "      <th>c3</th>\n",
       "      <th>c4</th>\n",
       "      <th>c5</th>\n",
       "      <th>c6</th>\n",
       "      <th>c7</th>\n",
       "      <th>(0, 0)</th>\n",
       "    </tr>\n",
       "  </thead>\n",
       "  <tbody>\n",
       "    <tr>\n",
       "      <th>2020-01-20</th>\n",
       "      <td>10.000000</td>\n",
       "      <td>0.307343</td>\n",
       "      <td>0.482144</td>\n",
       "      <td>0.119334</td>\n",
       "      <td>0.684902</td>\n",
       "      <td>0.685252</td>\n",
       "      <td>0.701769</td>\n",
       "      <td>10</td>\n",
       "    </tr>\n",
       "    <tr>\n",
       "      <th>2020-01-21</th>\n",
       "      <td>0.121306</td>\n",
       "      <td>0.262949</td>\n",
       "      <td>0.471929</td>\n",
       "      <td>0.180925</td>\n",
       "      <td>0.028225</td>\n",
       "      <td>0.123553</td>\n",
       "      <td>0.402014</td>\n",
       "      <td>10</td>\n",
       "    </tr>\n",
       "    <tr>\n",
       "      <th>2020-01-22</th>\n",
       "      <td>0.217886</td>\n",
       "      <td>0.546386</td>\n",
       "      <td>0.014836</td>\n",
       "      <td>0.183047</td>\n",
       "      <td>0.710178</td>\n",
       "      <td>0.426291</td>\n",
       "      <td>0.913270</td>\n",
       "      <td>10</td>\n",
       "    </tr>\n",
       "    <tr>\n",
       "      <th>2020-01-23</th>\n",
       "      <td>0.292866</td>\n",
       "      <td>0.026175</td>\n",
       "      <td>0.955067</td>\n",
       "      <td>0.919412</td>\n",
       "      <td>0.028074</td>\n",
       "      <td>0.207691</td>\n",
       "      <td>0.498286</td>\n",
       "      <td>10</td>\n",
       "    </tr>\n",
       "    <tr>\n",
       "      <th>2020-01-24</th>\n",
       "      <td>0.844169</td>\n",
       "      <td>0.928479</td>\n",
       "      <td>0.840419</td>\n",
       "      <td>0.079163</td>\n",
       "      <td>0.490483</td>\n",
       "      <td>0.643092</td>\n",
       "      <td>0.248571</td>\n",
       "      <td>10</td>\n",
       "    </tr>\n",
       "    <tr>\n",
       "      <th>2020-01-25</th>\n",
       "      <td>0.377634</td>\n",
       "      <td>0.811897</td>\n",
       "      <td>0.784042</td>\n",
       "      <td>0.326084</td>\n",
       "      <td>0.369907</td>\n",
       "      <td>0.458585</td>\n",
       "      <td>0.719425</td>\n",
       "      <td>10</td>\n",
       "    </tr>\n",
       "    <tr>\n",
       "      <th>2020-01-26</th>\n",
       "      <td>0.525736</td>\n",
       "      <td>0.632959</td>\n",
       "      <td>0.409448</td>\n",
       "      <td>0.340481</td>\n",
       "      <td>0.125307</td>\n",
       "      <td>0.372567</td>\n",
       "      <td>0.575594</td>\n",
       "      <td>10</td>\n",
       "    </tr>\n",
       "  </tbody>\n",
       "</table>\n",
       "</div>"
      ],
      "text/plain": [
       "                   c1        c2        c3        c4        c5        c6  \\\n",
       "2020-01-20  10.000000  0.307343  0.482144  0.119334  0.684902  0.685252   \n",
       "2020-01-21   0.121306  0.262949  0.471929  0.180925  0.028225  0.123553   \n",
       "2020-01-22   0.217886  0.546386  0.014836  0.183047  0.710178  0.426291   \n",
       "2020-01-23   0.292866  0.026175  0.955067  0.919412  0.028074  0.207691   \n",
       "2020-01-24   0.844169  0.928479  0.840419  0.079163  0.490483  0.643092   \n",
       "2020-01-25   0.377634  0.811897  0.784042  0.326084  0.369907  0.458585   \n",
       "2020-01-26   0.525736  0.632959  0.409448  0.340481  0.125307  0.372567   \n",
       "\n",
       "                  c7  (0, 0)  \n",
       "2020-01-20  0.701769      10  \n",
       "2020-01-21  0.402014      10  \n",
       "2020-01-22  0.913270      10  \n",
       "2020-01-23  0.498286      10  \n",
       "2020-01-24  0.248571      10  \n",
       "2020-01-25  0.719425      10  \n",
       "2020-01-26  0.575594      10  "
      ]
     },
     "execution_count": 186,
     "metadata": {},
     "output_type": "execute_result"
    }
   ],
   "source": [
    "dframe"
   ]
  },
  {
   "cell_type": "code",
   "execution_count": 188,
   "id": "be128223-36a1-4d9c-a7ad-cdf200e20d82",
   "metadata": {},
   "outputs": [],
   "source": [
    "del dframe[0,0]"
   ]
  },
  {
   "cell_type": "code",
   "execution_count": 189,
   "id": "0e32da3a-b649-4a73-b25e-ba0f317f5974",
   "metadata": {},
   "outputs": [
    {
     "data": {
      "text/html": [
       "<div>\n",
       "<style scoped>\n",
       "    .dataframe tbody tr th:only-of-type {\n",
       "        vertical-align: middle;\n",
       "    }\n",
       "\n",
       "    .dataframe tbody tr th {\n",
       "        vertical-align: top;\n",
       "    }\n",
       "\n",
       "    .dataframe thead th {\n",
       "        text-align: right;\n",
       "    }\n",
       "</style>\n",
       "<table border=\"1\" class=\"dataframe\">\n",
       "  <thead>\n",
       "    <tr style=\"text-align: right;\">\n",
       "      <th></th>\n",
       "      <th>c1</th>\n",
       "      <th>c2</th>\n",
       "      <th>c3</th>\n",
       "      <th>c4</th>\n",
       "      <th>c5</th>\n",
       "      <th>c6</th>\n",
       "      <th>c7</th>\n",
       "    </tr>\n",
       "  </thead>\n",
       "  <tbody>\n",
       "    <tr>\n",
       "      <th>2020-01-20</th>\n",
       "      <td>10.000000</td>\n",
       "      <td>0.307343</td>\n",
       "      <td>0.482144</td>\n",
       "      <td>0.119334</td>\n",
       "      <td>0.684902</td>\n",
       "      <td>0.685252</td>\n",
       "      <td>0.701769</td>\n",
       "    </tr>\n",
       "    <tr>\n",
       "      <th>2020-01-21</th>\n",
       "      <td>0.121306</td>\n",
       "      <td>0.262949</td>\n",
       "      <td>0.471929</td>\n",
       "      <td>0.180925</td>\n",
       "      <td>0.028225</td>\n",
       "      <td>0.123553</td>\n",
       "      <td>0.402014</td>\n",
       "    </tr>\n",
       "    <tr>\n",
       "      <th>2020-01-22</th>\n",
       "      <td>0.217886</td>\n",
       "      <td>0.546386</td>\n",
       "      <td>0.014836</td>\n",
       "      <td>0.183047</td>\n",
       "      <td>0.710178</td>\n",
       "      <td>0.426291</td>\n",
       "      <td>0.913270</td>\n",
       "    </tr>\n",
       "    <tr>\n",
       "      <th>2020-01-23</th>\n",
       "      <td>0.292866</td>\n",
       "      <td>0.026175</td>\n",
       "      <td>0.955067</td>\n",
       "      <td>0.919412</td>\n",
       "      <td>0.028074</td>\n",
       "      <td>0.207691</td>\n",
       "      <td>0.498286</td>\n",
       "    </tr>\n",
       "    <tr>\n",
       "      <th>2020-01-24</th>\n",
       "      <td>0.844169</td>\n",
       "      <td>0.928479</td>\n",
       "      <td>0.840419</td>\n",
       "      <td>0.079163</td>\n",
       "      <td>0.490483</td>\n",
       "      <td>0.643092</td>\n",
       "      <td>0.248571</td>\n",
       "    </tr>\n",
       "    <tr>\n",
       "      <th>2020-01-25</th>\n",
       "      <td>0.377634</td>\n",
       "      <td>0.811897</td>\n",
       "      <td>0.784042</td>\n",
       "      <td>0.326084</td>\n",
       "      <td>0.369907</td>\n",
       "      <td>0.458585</td>\n",
       "      <td>0.719425</td>\n",
       "    </tr>\n",
       "    <tr>\n",
       "      <th>2020-01-26</th>\n",
       "      <td>0.525736</td>\n",
       "      <td>0.632959</td>\n",
       "      <td>0.409448</td>\n",
       "      <td>0.340481</td>\n",
       "      <td>0.125307</td>\n",
       "      <td>0.372567</td>\n",
       "      <td>0.575594</td>\n",
       "    </tr>\n",
       "  </tbody>\n",
       "</table>\n",
       "</div>"
      ],
      "text/plain": [
       "                   c1        c2        c3        c4        c5        c6  \\\n",
       "2020-01-20  10.000000  0.307343  0.482144  0.119334  0.684902  0.685252   \n",
       "2020-01-21   0.121306  0.262949  0.471929  0.180925  0.028225  0.123553   \n",
       "2020-01-22   0.217886  0.546386  0.014836  0.183047  0.710178  0.426291   \n",
       "2020-01-23   0.292866  0.026175  0.955067  0.919412  0.028074  0.207691   \n",
       "2020-01-24   0.844169  0.928479  0.840419  0.079163  0.490483  0.643092   \n",
       "2020-01-25   0.377634  0.811897  0.784042  0.326084  0.369907  0.458585   \n",
       "2020-01-26   0.525736  0.632959  0.409448  0.340481  0.125307  0.372567   \n",
       "\n",
       "                  c7  \n",
       "2020-01-20  0.701769  \n",
       "2020-01-21  0.402014  \n",
       "2020-01-22  0.913270  \n",
       "2020-01-23  0.498286  \n",
       "2020-01-24  0.248571  \n",
       "2020-01-25  0.719425  \n",
       "2020-01-26  0.575594  "
      ]
     },
     "execution_count": 189,
     "metadata": {},
     "output_type": "execute_result"
    }
   ],
   "source": [
    "dframe"
   ]
  },
  {
   "cell_type": "code",
   "execution_count": 190,
   "id": "3401f353-3967-45ff-9f79-435f9bdcd021",
   "metadata": {},
   "outputs": [
    {
     "data": {
      "text/html": [
       "<div>\n",
       "<style scoped>\n",
       "    .dataframe tbody tr th:only-of-type {\n",
       "        vertical-align: middle;\n",
       "    }\n",
       "\n",
       "    .dataframe tbody tr th {\n",
       "        vertical-align: top;\n",
       "    }\n",
       "\n",
       "    .dataframe thead th {\n",
       "        text-align: right;\n",
       "    }\n",
       "</style>\n",
       "<table border=\"1\" class=\"dataframe\">\n",
       "  <thead>\n",
       "    <tr style=\"text-align: right;\">\n",
       "      <th></th>\n",
       "      <th>c1</th>\n",
       "      <th>c2</th>\n",
       "      <th>c3</th>\n",
       "      <th>c4</th>\n",
       "      <th>c5</th>\n",
       "      <th>c6</th>\n",
       "      <th>c7</th>\n",
       "    </tr>\n",
       "  </thead>\n",
       "  <tbody>\n",
       "    <tr>\n",
       "      <th>2020-01-20</th>\n",
       "      <td>10.0</td>\n",
       "      <td>0.307343</td>\n",
       "      <td>0.482144</td>\n",
       "      <td>0.119334</td>\n",
       "      <td>0.684902</td>\n",
       "      <td>0.685252</td>\n",
       "      <td>0.701769</td>\n",
       "    </tr>\n",
       "  </tbody>\n",
       "</table>\n",
       "</div>"
      ],
      "text/plain": [
       "              c1        c2        c3        c4        c5        c6        c7\n",
       "2020-01-20  10.0  0.307343  0.482144  0.119334  0.684902  0.685252  0.701769"
      ]
     },
     "execution_count": 190,
     "metadata": {},
     "output_type": "execute_result"
    }
   ],
   "source": [
    "# Display all rows where C1 has value of 10 or 20\n",
    "dframe[dframe['c1'].isin([10,20])]"
   ]
  },
  {
   "cell_type": "markdown",
   "id": "0c67734a-0203-4233-817d-a4fb6fb14a81",
   "metadata": {},
   "source": [
    "2.5 SET VALUE"
   ]
  },
  {
   "cell_type": "code",
   "execution_count": 191,
   "id": "57ab29ea-f861-445a-9eaa-f17acd123058",
   "metadata": {},
   "outputs": [
    {
     "data": {
      "text/html": [
       "<div>\n",
       "<style scoped>\n",
       "    .dataframe tbody tr th:only-of-type {\n",
       "        vertical-align: middle;\n",
       "    }\n",
       "\n",
       "    .dataframe tbody tr th {\n",
       "        vertical-align: top;\n",
       "    }\n",
       "\n",
       "    .dataframe thead th {\n",
       "        text-align: right;\n",
       "    }\n",
       "</style>\n",
       "<table border=\"1\" class=\"dataframe\">\n",
       "  <thead>\n",
       "    <tr style=\"text-align: right;\">\n",
       "      <th></th>\n",
       "      <th>c1</th>\n",
       "      <th>c2</th>\n",
       "      <th>c3</th>\n",
       "      <th>c4</th>\n",
       "      <th>c5</th>\n",
       "      <th>c6</th>\n",
       "      <th>c7</th>\n",
       "    </tr>\n",
       "  </thead>\n",
       "  <tbody>\n",
       "    <tr>\n",
       "      <th>2020-01-20</th>\n",
       "      <td>888</td>\n",
       "      <td>0.307343</td>\n",
       "      <td>0.482144</td>\n",
       "      <td>0.119334</td>\n",
       "      <td>0.684902</td>\n",
       "      <td>0.685252</td>\n",
       "      <td>0.701769</td>\n",
       "    </tr>\n",
       "    <tr>\n",
       "      <th>2020-01-21</th>\n",
       "      <td>888</td>\n",
       "      <td>0.262949</td>\n",
       "      <td>0.471929</td>\n",
       "      <td>0.180925</td>\n",
       "      <td>0.028225</td>\n",
       "      <td>0.123553</td>\n",
       "      <td>0.402014</td>\n",
       "    </tr>\n",
       "    <tr>\n",
       "      <th>2020-01-22</th>\n",
       "      <td>888</td>\n",
       "      <td>0.546386</td>\n",
       "      <td>0.014836</td>\n",
       "      <td>0.183047</td>\n",
       "      <td>0.710178</td>\n",
       "      <td>0.426291</td>\n",
       "      <td>0.913270</td>\n",
       "    </tr>\n",
       "    <tr>\n",
       "      <th>2020-01-23</th>\n",
       "      <td>888</td>\n",
       "      <td>0.026175</td>\n",
       "      <td>0.955067</td>\n",
       "      <td>0.919412</td>\n",
       "      <td>0.028074</td>\n",
       "      <td>0.207691</td>\n",
       "      <td>0.498286</td>\n",
       "    </tr>\n",
       "    <tr>\n",
       "      <th>2020-01-24</th>\n",
       "      <td>888</td>\n",
       "      <td>0.928479</td>\n",
       "      <td>0.840419</td>\n",
       "      <td>0.079163</td>\n",
       "      <td>0.490483</td>\n",
       "      <td>0.643092</td>\n",
       "      <td>0.248571</td>\n",
       "    </tr>\n",
       "    <tr>\n",
       "      <th>2020-01-25</th>\n",
       "      <td>888</td>\n",
       "      <td>0.811897</td>\n",
       "      <td>0.784042</td>\n",
       "      <td>0.326084</td>\n",
       "      <td>0.369907</td>\n",
       "      <td>0.458585</td>\n",
       "      <td>0.719425</td>\n",
       "    </tr>\n",
       "    <tr>\n",
       "      <th>2020-01-26</th>\n",
       "      <td>888</td>\n",
       "      <td>0.632959</td>\n",
       "      <td>0.409448</td>\n",
       "      <td>0.340481</td>\n",
       "      <td>0.125307</td>\n",
       "      <td>0.372567</td>\n",
       "      <td>0.575594</td>\n",
       "    </tr>\n",
       "  </tbody>\n",
       "</table>\n",
       "</div>"
      ],
      "text/plain": [
       "             c1        c2        c3        c4        c5        c6        c7\n",
       "2020-01-20  888  0.307343  0.482144  0.119334  0.684902  0.685252  0.701769\n",
       "2020-01-21  888  0.262949  0.471929  0.180925  0.028225  0.123553  0.402014\n",
       "2020-01-22  888  0.546386  0.014836  0.183047  0.710178  0.426291  0.913270\n",
       "2020-01-23  888  0.026175  0.955067  0.919412  0.028074  0.207691  0.498286\n",
       "2020-01-24  888  0.928479  0.840419  0.079163  0.490483  0.643092  0.248571\n",
       "2020-01-25  888  0.811897  0.784042  0.326084  0.369907  0.458585  0.719425\n",
       "2020-01-26  888  0.632959  0.409448  0.340481  0.125307  0.372567  0.575594"
      ]
     },
     "execution_count": 191,
     "metadata": {},
     "output_type": "execute_result"
    }
   ],
   "source": [
    "# Set value of 888 for all elements in column 'C1'\n",
    "dframe['c1'] = 888\n",
    "dframe"
   ]
  },
  {
   "cell_type": "code",
   "execution_count": 197,
   "id": "9c97e840-17d3-40e8-abdc-c91acd091cb7",
   "metadata": {},
   "outputs": [
    {
     "ename": "TypeError",
     "evalue": "Cannot index by location index with a non-integer key",
     "output_type": "error",
     "traceback": [
      "\u001b[1;31m---------------------------------------------------------------------------\u001b[0m",
      "\u001b[1;31mTypeError\u001b[0m                                 Traceback (most recent call last)",
      "Cell \u001b[1;32mIn[197], line 2\u001b[0m\n\u001b[0;32m      1\u001b[0m \u001b[38;5;66;03m# Set value of 777 for first three rows in Column 'C6'\u001b[39;00m\n\u001b[1;32m----> 2\u001b[0m dframe\u001b[38;5;241m.\u001b[39miloc[\u001b[38;5;241m0\u001b[39m:\u001b[38;5;241m3\u001b[39m,\u001b[38;5;124m'\u001b[39m\u001b[38;5;124mc6\u001b[39m\u001b[38;5;124m'\u001b[39m]\u001b[38;5;241m=\u001b[39m\u001b[38;5;241m777\u001b[39m\n\u001b[0;32m      3\u001b[0m dframe\n",
      "File \u001b[1;32m~\\anaconda3\\Lib\\site-packages\\pandas\\core\\indexing.py:911\u001b[0m, in \u001b[0;36m_LocationIndexer.__setitem__\u001b[1;34m(self, key, value)\u001b[0m\n\u001b[0;32m    908\u001b[0m \u001b[38;5;28mself\u001b[39m\u001b[38;5;241m.\u001b[39m_has_valid_setitem_indexer(key)\n\u001b[0;32m    910\u001b[0m iloc \u001b[38;5;241m=\u001b[39m \u001b[38;5;28mself\u001b[39m \u001b[38;5;28;01mif\u001b[39;00m \u001b[38;5;28mself\u001b[39m\u001b[38;5;241m.\u001b[39mname \u001b[38;5;241m==\u001b[39m \u001b[38;5;124m\"\u001b[39m\u001b[38;5;124miloc\u001b[39m\u001b[38;5;124m\"\u001b[39m \u001b[38;5;28;01melse\u001b[39;00m \u001b[38;5;28mself\u001b[39m\u001b[38;5;241m.\u001b[39mobj\u001b[38;5;241m.\u001b[39miloc\n\u001b[1;32m--> 911\u001b[0m iloc\u001b[38;5;241m.\u001b[39m_setitem_with_indexer(indexer, value, \u001b[38;5;28mself\u001b[39m\u001b[38;5;241m.\u001b[39mname)\n",
      "File \u001b[1;32m~\\anaconda3\\Lib\\site-packages\\pandas\\core\\indexing.py:1942\u001b[0m, in \u001b[0;36m_iLocIndexer._setitem_with_indexer\u001b[1;34m(self, indexer, value, name)\u001b[0m\n\u001b[0;32m   1939\u001b[0m \u001b[38;5;66;03m# align and set the values\u001b[39;00m\n\u001b[0;32m   1940\u001b[0m \u001b[38;5;28;01mif\u001b[39;00m take_split_path:\n\u001b[0;32m   1941\u001b[0m     \u001b[38;5;66;03m# We have to operate column-wise\u001b[39;00m\n\u001b[1;32m-> 1942\u001b[0m     \u001b[38;5;28mself\u001b[39m\u001b[38;5;241m.\u001b[39m_setitem_with_indexer_split_path(indexer, value, name)\n\u001b[0;32m   1943\u001b[0m \u001b[38;5;28;01melse\u001b[39;00m:\n\u001b[0;32m   1944\u001b[0m     \u001b[38;5;28mself\u001b[39m\u001b[38;5;241m.\u001b[39m_setitem_single_block(indexer, value, name)\n",
      "File \u001b[1;32m~\\anaconda3\\Lib\\site-packages\\pandas\\core\\indexing.py:2035\u001b[0m, in \u001b[0;36m_iLocIndexer._setitem_with_indexer_split_path\u001b[1;34m(self, indexer, value, name)\u001b[0m\n\u001b[0;32m   2032\u001b[0m \u001b[38;5;28;01melse\u001b[39;00m:\n\u001b[0;32m   2033\u001b[0m     \u001b[38;5;66;03m# scalar value\u001b[39;00m\n\u001b[0;32m   2034\u001b[0m     \u001b[38;5;28;01mfor\u001b[39;00m loc \u001b[38;5;129;01min\u001b[39;00m ilocs:\n\u001b[1;32m-> 2035\u001b[0m         \u001b[38;5;28mself\u001b[39m\u001b[38;5;241m.\u001b[39m_setitem_single_column(loc, value, pi)\n",
      "File \u001b[1;32m~\\anaconda3\\Lib\\site-packages\\pandas\\core\\indexing.py:2164\u001b[0m, in \u001b[0;36m_iLocIndexer._setitem_single_column\u001b[1;34m(self, loc, value, plane_indexer)\u001b[0m\n\u001b[0;32m   2160\u001b[0m         \u001b[38;5;28mself\u001b[39m\u001b[38;5;241m.\u001b[39mobj\u001b[38;5;241m.\u001b[39misetitem(loc, value)\n\u001b[0;32m   2161\u001b[0m \u001b[38;5;28;01melse\u001b[39;00m:\n\u001b[0;32m   2162\u001b[0m     \u001b[38;5;66;03m# set value into the column (first attempting to operate inplace, then\u001b[39;00m\n\u001b[0;32m   2163\u001b[0m     \u001b[38;5;66;03m#  falling back to casting if necessary)\u001b[39;00m\n\u001b[1;32m-> 2164\u001b[0m     dtype \u001b[38;5;241m=\u001b[39m \u001b[38;5;28mself\u001b[39m\u001b[38;5;241m.\u001b[39mobj\u001b[38;5;241m.\u001b[39mdtypes\u001b[38;5;241m.\u001b[39miloc[loc]\n\u001b[0;32m   2165\u001b[0m     \u001b[38;5;28;01mif\u001b[39;00m dtype \u001b[38;5;241m==\u001b[39m np\u001b[38;5;241m.\u001b[39mvoid:\n\u001b[0;32m   2166\u001b[0m         \u001b[38;5;66;03m# This means we're expanding, with multiple columns, e.g.\u001b[39;00m\n\u001b[0;32m   2167\u001b[0m         \u001b[38;5;66;03m#     df = pd.DataFrame({'A': [1,2,3], 'B': [4,5,6]})\u001b[39;00m\n\u001b[1;32m   (...)\u001b[0m\n\u001b[0;32m   2170\u001b[0m         \u001b[38;5;66;03m# Here, we replace those temporary `np.void` columns with\u001b[39;00m\n\u001b[0;32m   2171\u001b[0m         \u001b[38;5;66;03m# columns of the appropriate dtype, based on `value`.\u001b[39;00m\n\u001b[0;32m   2172\u001b[0m         \u001b[38;5;28mself\u001b[39m\u001b[38;5;241m.\u001b[39mobj\u001b[38;5;241m.\u001b[39miloc[:, loc] \u001b[38;5;241m=\u001b[39m construct_1d_array_from_inferred_fill_value(\n\u001b[0;32m   2173\u001b[0m             value, \u001b[38;5;28mlen\u001b[39m(\u001b[38;5;28mself\u001b[39m\u001b[38;5;241m.\u001b[39mobj)\n\u001b[0;32m   2174\u001b[0m         )\n",
      "File \u001b[1;32m~\\anaconda3\\Lib\\site-packages\\pandas\\core\\indexing.py:1191\u001b[0m, in \u001b[0;36m_LocationIndexer.__getitem__\u001b[1;34m(self, key)\u001b[0m\n\u001b[0;32m   1189\u001b[0m maybe_callable \u001b[38;5;241m=\u001b[39m com\u001b[38;5;241m.\u001b[39mapply_if_callable(key, \u001b[38;5;28mself\u001b[39m\u001b[38;5;241m.\u001b[39mobj)\n\u001b[0;32m   1190\u001b[0m maybe_callable \u001b[38;5;241m=\u001b[39m \u001b[38;5;28mself\u001b[39m\u001b[38;5;241m.\u001b[39m_check_deprecated_callable_usage(key, maybe_callable)\n\u001b[1;32m-> 1191\u001b[0m \u001b[38;5;28;01mreturn\u001b[39;00m \u001b[38;5;28mself\u001b[39m\u001b[38;5;241m.\u001b[39m_getitem_axis(maybe_callable, axis\u001b[38;5;241m=\u001b[39maxis)\n",
      "File \u001b[1;32m~\\anaconda3\\Lib\\site-packages\\pandas\\core\\indexing.py:1749\u001b[0m, in \u001b[0;36m_iLocIndexer._getitem_axis\u001b[1;34m(self, key, axis)\u001b[0m\n\u001b[0;32m   1747\u001b[0m key \u001b[38;5;241m=\u001b[39m item_from_zerodim(key)\n\u001b[0;32m   1748\u001b[0m \u001b[38;5;28;01mif\u001b[39;00m \u001b[38;5;129;01mnot\u001b[39;00m is_integer(key):\n\u001b[1;32m-> 1749\u001b[0m     \u001b[38;5;28;01mraise\u001b[39;00m \u001b[38;5;167;01mTypeError\u001b[39;00m(\u001b[38;5;124m\"\u001b[39m\u001b[38;5;124mCannot index by location index with a non-integer key\u001b[39m\u001b[38;5;124m\"\u001b[39m)\n\u001b[0;32m   1751\u001b[0m \u001b[38;5;66;03m# validate the location\u001b[39;00m\n\u001b[0;32m   1752\u001b[0m \u001b[38;5;28mself\u001b[39m\u001b[38;5;241m.\u001b[39m_validate_integer(key, axis)\n",
      "\u001b[1;31mTypeError\u001b[0m: Cannot index by location index with a non-integer key"
     ]
    }
   ],
   "source": [
    "# Set value of 777 for first three rows in Column 'C6'\n",
    "dframe.iloc[0:3,'c6']=777\n",
    "dframe"
   ]
  },
  {
   "cell_type": "code",
   "execution_count": 198,
   "id": "fc9d35be-d0cd-4650-8340-863ccf34234c",
   "metadata": {},
   "outputs": [
    {
     "ename": "ValueError",
     "evalue": "iAt based indexing can only have integer indexers",
     "output_type": "error",
     "traceback": [
      "\u001b[1;31m---------------------------------------------------------------------------\u001b[0m",
      "\u001b[1;31mValueError\u001b[0m                                Traceback (most recent call last)",
      "Cell \u001b[1;32mIn[198], line 2\u001b[0m\n\u001b[0;32m      1\u001b[0m \u001b[38;5;66;03m# Set value of 333 in first row and third column\u001b[39;00m\n\u001b[1;32m----> 2\u001b[0m dframe\u001b[38;5;241m.\u001b[39miat[\u001b[38;5;241m0\u001b[39m:\u001b[38;5;241m2\u001b[39m] \u001b[38;5;241m=\u001b[39m \u001b[38;5;241m333\u001b[39m\n",
      "File \u001b[1;32m~\\anaconda3\\Lib\\site-packages\\pandas\\core\\indexing.py:2538\u001b[0m, in \u001b[0;36m_ScalarAccessIndexer.__setitem__\u001b[1;34m(self, key, value)\u001b[0m\n\u001b[0;32m   2536\u001b[0m \u001b[38;5;28;01mif\u001b[39;00m \u001b[38;5;129;01mnot\u001b[39;00m \u001b[38;5;28misinstance\u001b[39m(key, \u001b[38;5;28mtuple\u001b[39m):\n\u001b[0;32m   2537\u001b[0m     key \u001b[38;5;241m=\u001b[39m _tuplify(\u001b[38;5;28mself\u001b[39m\u001b[38;5;241m.\u001b[39mndim, key)\n\u001b[1;32m-> 2538\u001b[0m key \u001b[38;5;241m=\u001b[39m \u001b[38;5;28mlist\u001b[39m(\u001b[38;5;28mself\u001b[39m\u001b[38;5;241m.\u001b[39m_convert_key(key))\n\u001b[0;32m   2539\u001b[0m \u001b[38;5;28;01mif\u001b[39;00m \u001b[38;5;28mlen\u001b[39m(key) \u001b[38;5;241m!=\u001b[39m \u001b[38;5;28mself\u001b[39m\u001b[38;5;241m.\u001b[39mndim:\n\u001b[0;32m   2540\u001b[0m     \u001b[38;5;28;01mraise\u001b[39;00m \u001b[38;5;167;01mValueError\u001b[39;00m(\u001b[38;5;124m\"\u001b[39m\u001b[38;5;124mNot enough indexers for scalar access (setting)!\u001b[39m\u001b[38;5;124m\"\u001b[39m)\n",
      "File \u001b[1;32m~\\anaconda3\\Lib\\site-packages\\pandas\\core\\indexing.py:2599\u001b[0m, in \u001b[0;36m_iAtIndexer._convert_key\u001b[1;34m(self, key)\u001b[0m\n\u001b[0;32m   2597\u001b[0m \u001b[38;5;28;01mfor\u001b[39;00m i \u001b[38;5;129;01min\u001b[39;00m key:\n\u001b[0;32m   2598\u001b[0m     \u001b[38;5;28;01mif\u001b[39;00m \u001b[38;5;129;01mnot\u001b[39;00m is_integer(i):\n\u001b[1;32m-> 2599\u001b[0m         \u001b[38;5;28;01mraise\u001b[39;00m \u001b[38;5;167;01mValueError\u001b[39;00m(\u001b[38;5;124m\"\u001b[39m\u001b[38;5;124miAt based indexing can only have integer indexers\u001b[39m\u001b[38;5;124m\"\u001b[39m)\n\u001b[0;32m   2600\u001b[0m \u001b[38;5;28;01mreturn\u001b[39;00m key\n",
      "\u001b[1;31mValueError\u001b[0m: iAt based indexing can only have integer indexers"
     ]
    }
   ],
   "source": [
    "# Set value of 333 in first row and third column\n",
    "dframe.iat[0:2] = 333"
   ]
  },
  {
   "cell_type": "code",
   "execution_count": 201,
   "id": "ca93b1d4-3243-4128-b236-f1622be8cbad",
   "metadata": {},
   "outputs": [
    {
     "data": {
      "text/html": [
       "<div>\n",
       "<style scoped>\n",
       "    .dataframe tbody tr th:only-of-type {\n",
       "        vertical-align: middle;\n",
       "    }\n",
       "\n",
       "    .dataframe tbody tr th {\n",
       "        vertical-align: top;\n",
       "    }\n",
       "\n",
       "    .dataframe thead th {\n",
       "        text-align: right;\n",
       "    }\n",
       "</style>\n",
       "<table border=\"1\" class=\"dataframe\">\n",
       "  <thead>\n",
       "    <tr style=\"text-align: right;\">\n",
       "      <th></th>\n",
       "      <th>c1</th>\n",
       "      <th>c2</th>\n",
       "      <th>c3</th>\n",
       "      <th>c4</th>\n",
       "      <th>c5</th>\n",
       "      <th>c6</th>\n",
       "      <th>c7</th>\n",
       "    </tr>\n",
       "  </thead>\n",
       "  <tbody>\n",
       "    <tr>\n",
       "      <th>2020-01-20</th>\n",
       "      <td>888</td>\n",
       "      <td>0.307343</td>\n",
       "      <td>555.000000</td>\n",
       "      <td>0.119334</td>\n",
       "      <td>0.684902</td>\n",
       "      <td>0.685252</td>\n",
       "      <td>0.701769</td>\n",
       "    </tr>\n",
       "    <tr>\n",
       "      <th>2020-01-21</th>\n",
       "      <td>888</td>\n",
       "      <td>0.262949</td>\n",
       "      <td>0.471929</td>\n",
       "      <td>0.180925</td>\n",
       "      <td>0.028225</td>\n",
       "      <td>0.123553</td>\n",
       "      <td>0.402014</td>\n",
       "    </tr>\n",
       "    <tr>\n",
       "      <th>2020-01-22</th>\n",
       "      <td>888</td>\n",
       "      <td>0.546386</td>\n",
       "      <td>0.014836</td>\n",
       "      <td>0.183047</td>\n",
       "      <td>0.710178</td>\n",
       "      <td>0.426291</td>\n",
       "      <td>0.913270</td>\n",
       "    </tr>\n",
       "    <tr>\n",
       "      <th>2020-01-23</th>\n",
       "      <td>888</td>\n",
       "      <td>0.026175</td>\n",
       "      <td>0.955067</td>\n",
       "      <td>0.919412</td>\n",
       "      <td>0.028074</td>\n",
       "      <td>0.207691</td>\n",
       "      <td>0.498286</td>\n",
       "    </tr>\n",
       "    <tr>\n",
       "      <th>2020-01-24</th>\n",
       "      <td>888</td>\n",
       "      <td>0.928479</td>\n",
       "      <td>0.840419</td>\n",
       "      <td>0.079163</td>\n",
       "      <td>0.490483</td>\n",
       "      <td>0.643092</td>\n",
       "      <td>0.248571</td>\n",
       "    </tr>\n",
       "    <tr>\n",
       "      <th>2020-01-25</th>\n",
       "      <td>888</td>\n",
       "      <td>0.811897</td>\n",
       "      <td>0.784042</td>\n",
       "      <td>0.326084</td>\n",
       "      <td>0.369907</td>\n",
       "      <td>0.458585</td>\n",
       "      <td>0.719425</td>\n",
       "    </tr>\n",
       "    <tr>\n",
       "      <th>2020-01-26</th>\n",
       "      <td>888</td>\n",
       "      <td>0.632959</td>\n",
       "      <td>0.409448</td>\n",
       "      <td>0.340481</td>\n",
       "      <td>0.125307</td>\n",
       "      <td>0.372567</td>\n",
       "      <td>0.575594</td>\n",
       "    </tr>\n",
       "  </tbody>\n",
       "</table>\n",
       "</div>"
      ],
      "text/plain": [
       "             c1        c2          c3        c4        c5        c6        c7\n",
       "2020-01-20  888  0.307343  555.000000  0.119334  0.684902  0.685252  0.701769\n",
       "2020-01-21  888  0.262949    0.471929  0.180925  0.028225  0.123553  0.402014\n",
       "2020-01-22  888  0.546386    0.014836  0.183047  0.710178  0.426291  0.913270\n",
       "2020-01-23  888  0.026175    0.955067  0.919412  0.028074  0.207691  0.498286\n",
       "2020-01-24  888  0.928479    0.840419  0.079163  0.490483  0.643092  0.248571\n",
       "2020-01-25  888  0.811897    0.784042  0.326084  0.369907  0.458585  0.719425\n",
       "2020-01-26  888  0.632959    0.409448  0.340481  0.125307  0.372567  0.575594"
      ]
     },
     "execution_count": 201,
     "metadata": {},
     "output_type": "execute_result"
    }
   ],
   "source": [
    "dframe.iloc[0,2] = 555\n",
    "dframe"
   ]
  },
  {
   "cell_type": "code",
   "execution_count": 202,
   "id": "72026bad-df27-454d-b894-aead20c5c9b5",
   "metadata": {},
   "outputs": [],
   "source": [
    "# Create Copy of the calling objects data along with indices.\n",
    "# Modifications to the data or indices of the copy will not be reflected in the orignal\n",
    "dframe1 = dframe.copy(deep=True)"
   ]
  },
  {
   "cell_type": "code",
   "execution_count": 208,
   "id": "99422f0e-12fd-497b-bfda-20fee872bf2e",
   "metadata": {},
   "outputs": [
    {
     "data": {
      "text/html": [
       "<div>\n",
       "<style scoped>\n",
       "    .dataframe tbody tr th:only-of-type {\n",
       "        vertical-align: middle;\n",
       "    }\n",
       "\n",
       "    .dataframe tbody tr th {\n",
       "        vertical-align: top;\n",
       "    }\n",
       "\n",
       "    .dataframe thead th {\n",
       "        text-align: right;\n",
       "    }\n",
       "</style>\n",
       "<table border=\"1\" class=\"dataframe\">\n",
       "  <thead>\n",
       "    <tr style=\"text-align: right;\">\n",
       "      <th></th>\n",
       "      <th>c1</th>\n",
       "      <th>c2</th>\n",
       "      <th>c3</th>\n",
       "      <th>c4</th>\n",
       "      <th>c5</th>\n",
       "      <th>c6</th>\n",
       "      <th>c7</th>\n",
       "    </tr>\n",
       "  </thead>\n",
       "  <tbody>\n",
       "    <tr>\n",
       "      <th>2020-01-23</th>\n",
       "      <td>888</td>\n",
       "      <td>0.026175</td>\n",
       "      <td>0.955067</td>\n",
       "      <td>0.919412</td>\n",
       "      <td>0.028074</td>\n",
       "      <td>0.207691</td>\n",
       "      <td>0.498286</td>\n",
       "    </tr>\n",
       "  </tbody>\n",
       "</table>\n",
       "</div>"
      ],
      "text/plain": [
       "             c1        c2        c3        c4        c5        c6        c7\n",
       "2020-01-23  888  0.026175  0.955067  0.919412  0.028074  0.207691  0.498286"
      ]
     },
     "execution_count": 208,
     "metadata": {},
     "output_type": "execute_result"
    }
   ],
   "source": [
    "dframe1[(dframe1['c1']>0.5) & (dframe1['c4']>0.5)]"
   ]
  },
  {
   "cell_type": "code",
   "execution_count": 205,
   "id": "8516e8b5-7253-496d-8953-c341e0626bdd",
   "metadata": {},
   "outputs": [
    {
     "data": {
      "text/plain": [
       "2020-01-20    False\n",
       "2020-01-21    False\n",
       "2020-01-22    False\n",
       "2020-01-23    False\n",
       "2020-01-24    False\n",
       "2020-01-25    False\n",
       "2020-01-26    False\n",
       "Freq: D, Name: c1, dtype: bool"
      ]
     },
     "execution_count": 205,
     "metadata": {},
     "output_type": "execute_result"
    }
   ],
   "source": [
    "dframe1['c1'] == 0"
   ]
  },
  {
   "cell_type": "code",
   "execution_count": 209,
   "id": "c0f75a37-995c-46a1-922e-b191d8e6c6a1",
   "metadata": {},
   "outputs": [
    {
     "data": {
      "text/html": [
       "<div>\n",
       "<style scoped>\n",
       "    .dataframe tbody tr th:only-of-type {\n",
       "        vertical-align: middle;\n",
       "    }\n",
       "\n",
       "    .dataframe tbody tr th {\n",
       "        vertical-align: top;\n",
       "    }\n",
       "\n",
       "    .dataframe thead th {\n",
       "        text-align: right;\n",
       "    }\n",
       "</style>\n",
       "<table border=\"1\" class=\"dataframe\">\n",
       "  <thead>\n",
       "    <tr style=\"text-align: right;\">\n",
       "      <th></th>\n",
       "      <th>c1</th>\n",
       "      <th>c2</th>\n",
       "      <th>c3</th>\n",
       "      <th>c4</th>\n",
       "      <th>c5</th>\n",
       "      <th>c6</th>\n",
       "      <th>c7</th>\n",
       "    </tr>\n",
       "  </thead>\n",
       "  <tbody>\n",
       "  </tbody>\n",
       "</table>\n",
       "</div>"
      ],
      "text/plain": [
       "Empty DataFrame\n",
       "Columns: [c1, c2, c3, c4, c5, c6, c7]\n",
       "Index: []"
      ]
     },
     "execution_count": 209,
     "metadata": {},
     "output_type": "execute_result"
    }
   ],
   "source": [
    "dframe1[dframe1['c1']==0]"
   ]
  },
  {
   "cell_type": "code",
   "execution_count": 210,
   "id": "10ce4adb-47ea-45da-9daf-f7d39068d52a",
   "metadata": {},
   "outputs": [
    {
     "data": {
      "text/html": [
       "<div>\n",
       "<style scoped>\n",
       "    .dataframe tbody tr th:only-of-type {\n",
       "        vertical-align: middle;\n",
       "    }\n",
       "\n",
       "    .dataframe tbody tr th {\n",
       "        vertical-align: top;\n",
       "    }\n",
       "\n",
       "    .dataframe thead th {\n",
       "        text-align: right;\n",
       "    }\n",
       "</style>\n",
       "<table border=\"1\" class=\"dataframe\">\n",
       "  <thead>\n",
       "    <tr style=\"text-align: right;\">\n",
       "      <th></th>\n",
       "      <th>c1</th>\n",
       "      <th>c2</th>\n",
       "      <th>c3</th>\n",
       "      <th>c4</th>\n",
       "      <th>c5</th>\n",
       "      <th>c6</th>\n",
       "      <th>c7</th>\n",
       "    </tr>\n",
       "  </thead>\n",
       "  <tbody>\n",
       "    <tr>\n",
       "      <th>2020-01-20</th>\n",
       "      <td>888</td>\n",
       "      <td>0.307343</td>\n",
       "      <td>555.000000</td>\n",
       "      <td>0.119334</td>\n",
       "      <td>0.684902</td>\n",
       "      <td>0.685252</td>\n",
       "      <td>0.701769</td>\n",
       "    </tr>\n",
       "    <tr>\n",
       "      <th>2020-01-21</th>\n",
       "      <td>888</td>\n",
       "      <td>0.262949</td>\n",
       "      <td>0.471929</td>\n",
       "      <td>0.180925</td>\n",
       "      <td>0.028225</td>\n",
       "      <td>0.123553</td>\n",
       "      <td>0.402014</td>\n",
       "    </tr>\n",
       "    <tr>\n",
       "      <th>2020-01-22</th>\n",
       "      <td>888</td>\n",
       "      <td>0.546386</td>\n",
       "      <td>0.014836</td>\n",
       "      <td>0.183047</td>\n",
       "      <td>0.710178</td>\n",
       "      <td>0.426291</td>\n",
       "      <td>0.913270</td>\n",
       "    </tr>\n",
       "    <tr>\n",
       "      <th>2020-01-23</th>\n",
       "      <td>888</td>\n",
       "      <td>0.026175</td>\n",
       "      <td>0.955067</td>\n",
       "      <td>0.919412</td>\n",
       "      <td>0.028074</td>\n",
       "      <td>0.207691</td>\n",
       "      <td>0.498286</td>\n",
       "    </tr>\n",
       "    <tr>\n",
       "      <th>2020-01-24</th>\n",
       "      <td>888</td>\n",
       "      <td>0.928479</td>\n",
       "      <td>0.840419</td>\n",
       "      <td>0.079163</td>\n",
       "      <td>0.490483</td>\n",
       "      <td>0.643092</td>\n",
       "      <td>0.248571</td>\n",
       "    </tr>\n",
       "    <tr>\n",
       "      <th>2020-01-25</th>\n",
       "      <td>888</td>\n",
       "      <td>0.811897</td>\n",
       "      <td>0.784042</td>\n",
       "      <td>0.326084</td>\n",
       "      <td>0.369907</td>\n",
       "      <td>0.458585</td>\n",
       "      <td>0.719425</td>\n",
       "    </tr>\n",
       "    <tr>\n",
       "      <th>2020-01-26</th>\n",
       "      <td>888</td>\n",
       "      <td>0.632959</td>\n",
       "      <td>0.409448</td>\n",
       "      <td>0.340481</td>\n",
       "      <td>0.125307</td>\n",
       "      <td>0.372567</td>\n",
       "      <td>0.575594</td>\n",
       "    </tr>\n",
       "  </tbody>\n",
       "</table>\n",
       "</div>"
      ],
      "text/plain": [
       "             c1        c2          c3        c4        c5        c6        c7\n",
       "2020-01-20  888  0.307343  555.000000  0.119334  0.684902  0.685252  0.701769\n",
       "2020-01-21  888  0.262949    0.471929  0.180925  0.028225  0.123553  0.402014\n",
       "2020-01-22  888  0.546386    0.014836  0.183047  0.710178  0.426291  0.913270\n",
       "2020-01-23  888  0.026175    0.955067  0.919412  0.028074  0.207691  0.498286\n",
       "2020-01-24  888  0.928479    0.840419  0.079163  0.490483  0.643092  0.248571\n",
       "2020-01-25  888  0.811897    0.784042  0.326084  0.369907  0.458585  0.719425\n",
       "2020-01-26  888  0.632959    0.409448  0.340481  0.125307  0.372567  0.575594"
      ]
     },
     "execution_count": 210,
     "metadata": {},
     "output_type": "execute_result"
    }
   ],
   "source": [
    "dframe"
   ]
  },
  {
   "cell_type": "code",
   "execution_count": 211,
   "id": "e78f9873-2b25-4702-be1c-ccb91d79fad5",
   "metadata": {},
   "outputs": [
    {
     "data": {
      "text/html": [
       "<div>\n",
       "<style scoped>\n",
       "    .dataframe tbody tr th:only-of-type {\n",
       "        vertical-align: middle;\n",
       "    }\n",
       "\n",
       "    .dataframe tbody tr th {\n",
       "        vertical-align: top;\n",
       "    }\n",
       "\n",
       "    .dataframe thead th {\n",
       "        text-align: right;\n",
       "    }\n",
       "</style>\n",
       "<table border=\"1\" class=\"dataframe\">\n",
       "  <thead>\n",
       "    <tr style=\"text-align: right;\">\n",
       "      <th></th>\n",
       "      <th>c1</th>\n",
       "      <th>c2</th>\n",
       "      <th>c3</th>\n",
       "      <th>c4</th>\n",
       "      <th>c5</th>\n",
       "      <th>c6</th>\n",
       "      <th>c7</th>\n",
       "    </tr>\n",
       "  </thead>\n",
       "  <tbody>\n",
       "    <tr>\n",
       "      <th>2020-01-20</th>\n",
       "      <td>888</td>\n",
       "      <td>0.307343</td>\n",
       "      <td>555.000000</td>\n",
       "      <td>0.119334</td>\n",
       "      <td>0.684902</td>\n",
       "      <td>0.685252</td>\n",
       "      <td>0.701769</td>\n",
       "    </tr>\n",
       "    <tr>\n",
       "      <th>2020-01-21</th>\n",
       "      <td>888</td>\n",
       "      <td>0.262949</td>\n",
       "      <td>0.471929</td>\n",
       "      <td>0.180925</td>\n",
       "      <td>0.028225</td>\n",
       "      <td>0.123553</td>\n",
       "      <td>0.402014</td>\n",
       "    </tr>\n",
       "    <tr>\n",
       "      <th>2020-01-22</th>\n",
       "      <td>888</td>\n",
       "      <td>0.546386</td>\n",
       "      <td>0.014836</td>\n",
       "      <td>0.183047</td>\n",
       "      <td>0.710178</td>\n",
       "      <td>0.426291</td>\n",
       "      <td>0.913270</td>\n",
       "    </tr>\n",
       "    <tr>\n",
       "      <th>2020-01-23</th>\n",
       "      <td>888</td>\n",
       "      <td>0.026175</td>\n",
       "      <td>0.955067</td>\n",
       "      <td>0.919412</td>\n",
       "      <td>0.028074</td>\n",
       "      <td>0.207691</td>\n",
       "      <td>0.498286</td>\n",
       "    </tr>\n",
       "    <tr>\n",
       "      <th>2020-01-24</th>\n",
       "      <td>888</td>\n",
       "      <td>0.928479</td>\n",
       "      <td>0.840419</td>\n",
       "      <td>0.079163</td>\n",
       "      <td>0.490483</td>\n",
       "      <td>0.643092</td>\n",
       "      <td>0.248571</td>\n",
       "    </tr>\n",
       "    <tr>\n",
       "      <th>2020-01-25</th>\n",
       "      <td>888</td>\n",
       "      <td>0.811897</td>\n",
       "      <td>0.784042</td>\n",
       "      <td>0.326084</td>\n",
       "      <td>0.369907</td>\n",
       "      <td>0.458585</td>\n",
       "      <td>0.719425</td>\n",
       "    </tr>\n",
       "    <tr>\n",
       "      <th>2020-01-26</th>\n",
       "      <td>888</td>\n",
       "      <td>0.632959</td>\n",
       "      <td>0.409448</td>\n",
       "      <td>0.340481</td>\n",
       "      <td>0.125307</td>\n",
       "      <td>0.372567</td>\n",
       "      <td>0.575594</td>\n",
       "    </tr>\n",
       "  </tbody>\n",
       "</table>\n",
       "</div>"
      ],
      "text/plain": [
       "             c1        c2          c3        c4        c5        c6        c7\n",
       "2020-01-20  888  0.307343  555.000000  0.119334  0.684902  0.685252  0.701769\n",
       "2020-01-21  888  0.262949    0.471929  0.180925  0.028225  0.123553  0.402014\n",
       "2020-01-22  888  0.546386    0.014836  0.183047  0.710178  0.426291  0.913270\n",
       "2020-01-23  888  0.026175    0.955067  0.919412  0.028074  0.207691  0.498286\n",
       "2020-01-24  888  0.928479    0.840419  0.079163  0.490483  0.643092  0.248571\n",
       "2020-01-25  888  0.811897    0.784042  0.326084  0.369907  0.458585  0.719425\n",
       "2020-01-26  888  0.632959    0.409448  0.340481  0.125307  0.372567  0.575594"
      ]
     },
     "execution_count": 211,
     "metadata": {},
     "output_type": "execute_result"
    }
   ],
   "source": [
    "dframe1"
   ]
  },
  {
   "cell_type": "code",
   "execution_count": 214,
   "id": "0eeb7218-8272-464a-90d4-1a17c7b7b4fa",
   "metadata": {},
   "outputs": [],
   "source": [
    "dframe1[(dframe1['c1']>0.5) & (dframe1['c4']>0.5)]=0"
   ]
  },
  {
   "cell_type": "code",
   "execution_count": 215,
   "id": "cefa310e-43e6-4d28-ad05-52316e68dff8",
   "metadata": {},
   "outputs": [
    {
     "data": {
      "text/html": [
       "<div>\n",
       "<style scoped>\n",
       "    .dataframe tbody tr th:only-of-type {\n",
       "        vertical-align: middle;\n",
       "    }\n",
       "\n",
       "    .dataframe tbody tr th {\n",
       "        vertical-align: top;\n",
       "    }\n",
       "\n",
       "    .dataframe thead th {\n",
       "        text-align: right;\n",
       "    }\n",
       "</style>\n",
       "<table border=\"1\" class=\"dataframe\">\n",
       "  <thead>\n",
       "    <tr style=\"text-align: right;\">\n",
       "      <th></th>\n",
       "      <th>c1</th>\n",
       "      <th>c2</th>\n",
       "      <th>c3</th>\n",
       "      <th>c4</th>\n",
       "      <th>c5</th>\n",
       "      <th>c6</th>\n",
       "      <th>c7</th>\n",
       "    </tr>\n",
       "  </thead>\n",
       "  <tbody>\n",
       "  </tbody>\n",
       "</table>\n",
       "</div>"
      ],
      "text/plain": [
       "Empty DataFrame\n",
       "Columns: [c1, c2, c3, c4, c5, c6, c7]\n",
       "Index: []"
      ]
     },
     "execution_count": 215,
     "metadata": {},
     "output_type": "execute_result"
    }
   ],
   "source": [
    "dframe1[dframe['c1']==0]"
   ]
  },
  {
   "cell_type": "code",
   "execution_count": 217,
   "id": "2dbd74bf-5736-4ec6-8448-92ab47747be4",
   "metadata": {},
   "outputs": [
    {
     "data": {
      "text/html": [
       "<div>\n",
       "<style scoped>\n",
       "    .dataframe tbody tr th:only-of-type {\n",
       "        vertical-align: middle;\n",
       "    }\n",
       "\n",
       "    .dataframe tbody tr th {\n",
       "        vertical-align: top;\n",
       "    }\n",
       "\n",
       "    .dataframe thead th {\n",
       "        text-align: right;\n",
       "    }\n",
       "</style>\n",
       "<table border=\"1\" class=\"dataframe\">\n",
       "  <thead>\n",
       "    <tr style=\"text-align: right;\">\n",
       "      <th></th>\n",
       "      <th>c1</th>\n",
       "      <th>c2</th>\n",
       "      <th>c3</th>\n",
       "      <th>c4</th>\n",
       "      <th>c5</th>\n",
       "      <th>c6</th>\n",
       "      <th>c7</th>\n",
       "    </tr>\n",
       "  </thead>\n",
       "  <tbody>\n",
       "    <tr>\n",
       "      <th>2020-01-20</th>\n",
       "      <td>888</td>\n",
       "      <td>0.307343</td>\n",
       "      <td>555.000000</td>\n",
       "      <td>0.119334</td>\n",
       "      <td>0.684902</td>\n",
       "      <td>0.685252</td>\n",
       "      <td>0.701769</td>\n",
       "    </tr>\n",
       "    <tr>\n",
       "      <th>2020-01-21</th>\n",
       "      <td>888</td>\n",
       "      <td>0.262949</td>\n",
       "      <td>0.471929</td>\n",
       "      <td>0.180925</td>\n",
       "      <td>0.028225</td>\n",
       "      <td>0.123553</td>\n",
       "      <td>0.402014</td>\n",
       "    </tr>\n",
       "    <tr>\n",
       "      <th>2020-01-22</th>\n",
       "      <td>888</td>\n",
       "      <td>0.546386</td>\n",
       "      <td>0.014836</td>\n",
       "      <td>0.183047</td>\n",
       "      <td>0.710178</td>\n",
       "      <td>0.426291</td>\n",
       "      <td>0.913270</td>\n",
       "    </tr>\n",
       "    <tr>\n",
       "      <th>2020-01-23</th>\n",
       "      <td>99</td>\n",
       "      <td>99.000000</td>\n",
       "      <td>99.000000</td>\n",
       "      <td>99.000000</td>\n",
       "      <td>99.000000</td>\n",
       "      <td>99.000000</td>\n",
       "      <td>99.000000</td>\n",
       "    </tr>\n",
       "    <tr>\n",
       "      <th>2020-01-24</th>\n",
       "      <td>888</td>\n",
       "      <td>0.928479</td>\n",
       "      <td>0.840419</td>\n",
       "      <td>0.079163</td>\n",
       "      <td>0.490483</td>\n",
       "      <td>0.643092</td>\n",
       "      <td>0.248571</td>\n",
       "    </tr>\n",
       "    <tr>\n",
       "      <th>2020-01-25</th>\n",
       "      <td>888</td>\n",
       "      <td>0.811897</td>\n",
       "      <td>0.784042</td>\n",
       "      <td>0.326084</td>\n",
       "      <td>0.369907</td>\n",
       "      <td>0.458585</td>\n",
       "      <td>0.719425</td>\n",
       "    </tr>\n",
       "    <tr>\n",
       "      <th>2020-01-26</th>\n",
       "      <td>888</td>\n",
       "      <td>0.632959</td>\n",
       "      <td>0.409448</td>\n",
       "      <td>0.340481</td>\n",
       "      <td>0.125307</td>\n",
       "      <td>0.372567</td>\n",
       "      <td>0.575594</td>\n",
       "    </tr>\n",
       "  </tbody>\n",
       "</table>\n",
       "</div>"
      ],
      "text/plain": [
       "             c1         c2          c3         c4         c5         c6  \\\n",
       "2020-01-20  888   0.307343  555.000000   0.119334   0.684902   0.685252   \n",
       "2020-01-21  888   0.262949    0.471929   0.180925   0.028225   0.123553   \n",
       "2020-01-22  888   0.546386    0.014836   0.183047   0.710178   0.426291   \n",
       "2020-01-23   99  99.000000   99.000000  99.000000  99.000000  99.000000   \n",
       "2020-01-24  888   0.928479    0.840419   0.079163   0.490483   0.643092   \n",
       "2020-01-25  888   0.811897    0.784042   0.326084   0.369907   0.458585   \n",
       "2020-01-26  888   0.632959    0.409448   0.340481   0.125307   0.372567   \n",
       "\n",
       "                   c7  \n",
       "2020-01-20   0.701769  \n",
       "2020-01-21   0.402014  \n",
       "2020-01-22   0.913270  \n",
       "2020-01-23  99.000000  \n",
       "2020-01-24   0.248571  \n",
       "2020-01-25   0.719425  \n",
       "2020-01-26   0.575594  "
      ]
     },
     "execution_count": 217,
     "metadata": {},
     "output_type": "execute_result"
    }
   ],
   "source": [
    "# Replace zeros in Column C1 with 99\n",
    "dframe1[dframe1['c1'].isin([0])]=99\n",
    "dframe1"
   ]
  },
  {
   "cell_type": "code",
   "execution_count": 218,
   "id": "5dc6de33-fe5d-49f5-afce-30d83d533d0e",
   "metadata": {},
   "outputs": [
    {
     "data": {
      "text/html": [
       "<div>\n",
       "<style scoped>\n",
       "    .dataframe tbody tr th:only-of-type {\n",
       "        vertical-align: middle;\n",
       "    }\n",
       "\n",
       "    .dataframe tbody tr th {\n",
       "        vertical-align: top;\n",
       "    }\n",
       "\n",
       "    .dataframe thead th {\n",
       "        text-align: right;\n",
       "    }\n",
       "</style>\n",
       "<table border=\"1\" class=\"dataframe\">\n",
       "  <thead>\n",
       "    <tr style=\"text-align: right;\">\n",
       "      <th></th>\n",
       "      <th>c1</th>\n",
       "      <th>c2</th>\n",
       "      <th>c3</th>\n",
       "      <th>c4</th>\n",
       "      <th>c5</th>\n",
       "      <th>c6</th>\n",
       "      <th>c7</th>\n",
       "    </tr>\n",
       "  </thead>\n",
       "  <tbody>\n",
       "    <tr>\n",
       "      <th>2020-01-20</th>\n",
       "      <td>888</td>\n",
       "      <td>0.307343</td>\n",
       "      <td>555.000000</td>\n",
       "      <td>0.119334</td>\n",
       "      <td>0.684902</td>\n",
       "      <td>0.685252</td>\n",
       "      <td>0.701769</td>\n",
       "    </tr>\n",
       "    <tr>\n",
       "      <th>2020-01-21</th>\n",
       "      <td>888</td>\n",
       "      <td>0.262949</td>\n",
       "      <td>0.471929</td>\n",
       "      <td>0.180925</td>\n",
       "      <td>0.028225</td>\n",
       "      <td>0.123553</td>\n",
       "      <td>0.402014</td>\n",
       "    </tr>\n",
       "    <tr>\n",
       "      <th>2020-01-22</th>\n",
       "      <td>888</td>\n",
       "      <td>0.546386</td>\n",
       "      <td>0.014836</td>\n",
       "      <td>0.183047</td>\n",
       "      <td>0.710178</td>\n",
       "      <td>0.426291</td>\n",
       "      <td>0.913270</td>\n",
       "    </tr>\n",
       "    <tr>\n",
       "      <th>2020-01-23</th>\n",
       "      <td>888</td>\n",
       "      <td>0.026175</td>\n",
       "      <td>0.955067</td>\n",
       "      <td>0.919412</td>\n",
       "      <td>0.028074</td>\n",
       "      <td>0.207691</td>\n",
       "      <td>0.498286</td>\n",
       "    </tr>\n",
       "    <tr>\n",
       "      <th>2020-01-24</th>\n",
       "      <td>888</td>\n",
       "      <td>0.928479</td>\n",
       "      <td>0.840419</td>\n",
       "      <td>0.079163</td>\n",
       "      <td>0.490483</td>\n",
       "      <td>0.643092</td>\n",
       "      <td>0.248571</td>\n",
       "    </tr>\n",
       "    <tr>\n",
       "      <th>2020-01-25</th>\n",
       "      <td>888</td>\n",
       "      <td>0.811897</td>\n",
       "      <td>0.784042</td>\n",
       "      <td>0.326084</td>\n",
       "      <td>0.369907</td>\n",
       "      <td>0.458585</td>\n",
       "      <td>0.719425</td>\n",
       "    </tr>\n",
       "    <tr>\n",
       "      <th>2020-01-26</th>\n",
       "      <td>888</td>\n",
       "      <td>0.632959</td>\n",
       "      <td>0.409448</td>\n",
       "      <td>0.340481</td>\n",
       "      <td>0.125307</td>\n",
       "      <td>0.372567</td>\n",
       "      <td>0.575594</td>\n",
       "    </tr>\n",
       "  </tbody>\n",
       "</table>\n",
       "</div>"
      ],
      "text/plain": [
       "             c1        c2          c3        c4        c5        c6        c7\n",
       "2020-01-20  888  0.307343  555.000000  0.119334  0.684902  0.685252  0.701769\n",
       "2020-01-21  888  0.262949    0.471929  0.180925  0.028225  0.123553  0.402014\n",
       "2020-01-22  888  0.546386    0.014836  0.183047  0.710178  0.426291  0.913270\n",
       "2020-01-23  888  0.026175    0.955067  0.919412  0.028074  0.207691  0.498286\n",
       "2020-01-24  888  0.928479    0.840419  0.079163  0.490483  0.643092  0.248571\n",
       "2020-01-25  888  0.811897    0.784042  0.326084  0.369907  0.458585  0.719425\n",
       "2020-01-26  888  0.632959    0.409448  0.340481  0.125307  0.372567  0.575594"
      ]
     },
     "execution_count": 218,
     "metadata": {},
     "output_type": "execute_result"
    }
   ],
   "source": [
    "dframe"
   ]
  },
  {
   "cell_type": "code",
   "execution_count": 220,
   "id": "b1513f9c-053b-41ea-b2f7-404d6496d2d7",
   "metadata": {},
   "outputs": [
    {
     "data": {
      "text/html": [
       "<div>\n",
       "<style scoped>\n",
       "    .dataframe tbody tr th:only-of-type {\n",
       "        vertical-align: middle;\n",
       "    }\n",
       "\n",
       "    .dataframe tbody tr th {\n",
       "        vertical-align: top;\n",
       "    }\n",
       "\n",
       "    .dataframe thead th {\n",
       "        text-align: right;\n",
       "    }\n",
       "</style>\n",
       "<table border=\"1\" class=\"dataframe\">\n",
       "  <thead>\n",
       "    <tr style=\"text-align: right;\">\n",
       "      <th></th>\n",
       "      <th>c1</th>\n",
       "      <th>c2</th>\n",
       "      <th>c3</th>\n",
       "      <th>c4</th>\n",
       "      <th>c5</th>\n",
       "      <th>c6</th>\n",
       "      <th>c7</th>\n",
       "    </tr>\n",
       "  </thead>\n",
       "  <tbody>\n",
       "    <tr>\n",
       "      <th>2020-01-23</th>\n",
       "      <td>99</td>\n",
       "      <td>99.0</td>\n",
       "      <td>99.0</td>\n",
       "      <td>99.0</td>\n",
       "      <td>99.0</td>\n",
       "      <td>99.0</td>\n",
       "      <td>99.0</td>\n",
       "    </tr>\n",
       "  </tbody>\n",
       "</table>\n",
       "</div>"
      ],
      "text/plain": [
       "            c1    c2    c3    c4    c5    c6    c7\n",
       "2020-01-23  99  99.0  99.0  99.0  99.0  99.0  99.0"
      ]
     },
     "execution_count": 220,
     "metadata": {},
     "output_type": "execute_result"
    }
   ],
   "source": [
    "#Display all rows where value of C1 is 99\n",
    "dframe1[dframe1['c1']==99]"
   ]
  },
  {
   "cell_type": "markdown",
   "id": "ad2d0f51-f409-43a8-bc47-038b20500bbd",
   "metadata": {},
   "source": [
    "2.6 Dealing with NULL value"
   ]
  },
  {
   "cell_type": "code",
   "execution_count": 224,
   "id": "619c21ca-cc5e-4661-aa4d-14fa6a624b39",
   "metadata": {},
   "outputs": [
    {
     "ename": "TypeError",
     "evalue": "Slicing a positional slice with .loc is not allowed, Use .loc with labels or .iloc with positions instead.",
     "output_type": "error",
     "traceback": [
      "\u001b[1;31m---------------------------------------------------------------------------\u001b[0m",
      "\u001b[1;31mKeyError\u001b[0m                                  Traceback (most recent call last)",
      "File \u001b[1;32m~\\anaconda3\\Lib\\site-packages\\pandas\\core\\indexes\\base.py:3805\u001b[0m, in \u001b[0;36mIndex.get_loc\u001b[1;34m(self, key)\u001b[0m\n\u001b[0;32m   3804\u001b[0m \u001b[38;5;28;01mtry\u001b[39;00m:\n\u001b[1;32m-> 3805\u001b[0m     \u001b[38;5;28;01mreturn\u001b[39;00m \u001b[38;5;28mself\u001b[39m\u001b[38;5;241m.\u001b[39m_engine\u001b[38;5;241m.\u001b[39mget_loc(casted_key)\n\u001b[0;32m   3806\u001b[0m \u001b[38;5;28;01mexcept\u001b[39;00m \u001b[38;5;167;01mKeyError\u001b[39;00m \u001b[38;5;28;01mas\u001b[39;00m err:\n",
      "File \u001b[1;32mindex.pyx:167\u001b[0m, in \u001b[0;36mpandas._libs.index.IndexEngine.get_loc\u001b[1;34m()\u001b[0m\n",
      "File \u001b[1;32mindex.pyx:196\u001b[0m, in \u001b[0;36mpandas._libs.index.IndexEngine.get_loc\u001b[1;34m()\u001b[0m\n",
      "File \u001b[1;32mpandas\\\\_libs\\\\hashtable_class_helper.pxi:7081\u001b[0m, in \u001b[0;36mpandas._libs.hashtable.PyObjectHashTable.get_item\u001b[1;34m()\u001b[0m\n",
      "File \u001b[1;32mpandas\\\\_libs\\\\hashtable_class_helper.pxi:7089\u001b[0m, in \u001b[0;36mpandas._libs.hashtable.PyObjectHashTable.get_item\u001b[1;34m()\u001b[0m\n",
      "\u001b[1;31mKeyError\u001b[0m: 'C6'",
      "\nThe above exception was the direct cause of the following exception:\n",
      "\u001b[1;31mKeyError\u001b[0m                                  Traceback (most recent call last)",
      "File \u001b[1;32m~\\anaconda3\\Lib\\site-packages\\pandas\\core\\frame.py:4561\u001b[0m, in \u001b[0;36mDataFrame._set_value\u001b[1;34m(self, index, col, value, takeable)\u001b[0m\n\u001b[0;32m   4560\u001b[0m \u001b[38;5;28;01melse\u001b[39;00m:\n\u001b[1;32m-> 4561\u001b[0m     icol \u001b[38;5;241m=\u001b[39m \u001b[38;5;28mself\u001b[39m\u001b[38;5;241m.\u001b[39mcolumns\u001b[38;5;241m.\u001b[39mget_loc(col)\n\u001b[0;32m   4562\u001b[0m     iindex \u001b[38;5;241m=\u001b[39m \u001b[38;5;28mself\u001b[39m\u001b[38;5;241m.\u001b[39mindex\u001b[38;5;241m.\u001b[39mget_loc(index)\n",
      "File \u001b[1;32m~\\anaconda3\\Lib\\site-packages\\pandas\\core\\indexes\\base.py:3812\u001b[0m, in \u001b[0;36mIndex.get_loc\u001b[1;34m(self, key)\u001b[0m\n\u001b[0;32m   3811\u001b[0m         \u001b[38;5;28;01mraise\u001b[39;00m InvalidIndexError(key)\n\u001b[1;32m-> 3812\u001b[0m     \u001b[38;5;28;01mraise\u001b[39;00m \u001b[38;5;167;01mKeyError\u001b[39;00m(key) \u001b[38;5;28;01mfrom\u001b[39;00m \u001b[38;5;21;01merr\u001b[39;00m\n\u001b[0;32m   3813\u001b[0m \u001b[38;5;28;01mexcept\u001b[39;00m \u001b[38;5;167;01mTypeError\u001b[39;00m:\n\u001b[0;32m   3814\u001b[0m     \u001b[38;5;66;03m# If we have a listlike key, _check_indexing_error will raise\u001b[39;00m\n\u001b[0;32m   3815\u001b[0m     \u001b[38;5;66;03m#  InvalidIndexError. Otherwise we fall through and re-raise\u001b[39;00m\n\u001b[0;32m   3816\u001b[0m     \u001b[38;5;66;03m#  the TypeError.\u001b[39;00m\n",
      "\u001b[1;31mKeyError\u001b[0m: 'C6'",
      "\nDuring handling of the above exception, another exception occurred:\n",
      "\u001b[1;31mTypeError\u001b[0m                                 Traceback (most recent call last)",
      "Cell \u001b[1;32mIn[224], line 1\u001b[0m\n\u001b[1;32m----> 1\u001b[0m dframe\u001b[38;5;241m.\u001b[39mat[\u001b[38;5;241m0\u001b[39m:\u001b[38;5;241m2\u001b[39m,\u001b[38;5;124m'\u001b[39m\u001b[38;5;124mC6\u001b[39m\u001b[38;5;124m'\u001b[39m]\u001b[38;5;241m=\u001b[39mnp\u001b[38;5;241m.\u001b[39mNaN\n",
      "File \u001b[1;32m~\\anaconda3\\Lib\\site-packages\\pandas\\core\\indexing.py:2586\u001b[0m, in \u001b[0;36m_AtIndexer.__setitem__\u001b[1;34m(self, key, value)\u001b[0m\n\u001b[0;32m   2583\u001b[0m     \u001b[38;5;28mself\u001b[39m\u001b[38;5;241m.\u001b[39mobj\u001b[38;5;241m.\u001b[39mloc[key] \u001b[38;5;241m=\u001b[39m value\n\u001b[0;32m   2584\u001b[0m     \u001b[38;5;28;01mreturn\u001b[39;00m\n\u001b[1;32m-> 2586\u001b[0m \u001b[38;5;28;01mreturn\u001b[39;00m \u001b[38;5;28msuper\u001b[39m()\u001b[38;5;241m.\u001b[39m\u001b[38;5;21m__setitem__\u001b[39m(key, value)\n",
      "File \u001b[1;32m~\\anaconda3\\Lib\\site-packages\\pandas\\core\\indexing.py:2542\u001b[0m, in \u001b[0;36m_ScalarAccessIndexer.__setitem__\u001b[1;34m(self, key, value)\u001b[0m\n\u001b[0;32m   2539\u001b[0m \u001b[38;5;28;01mif\u001b[39;00m \u001b[38;5;28mlen\u001b[39m(key) \u001b[38;5;241m!=\u001b[39m \u001b[38;5;28mself\u001b[39m\u001b[38;5;241m.\u001b[39mndim:\n\u001b[0;32m   2540\u001b[0m     \u001b[38;5;28;01mraise\u001b[39;00m \u001b[38;5;167;01mValueError\u001b[39;00m(\u001b[38;5;124m\"\u001b[39m\u001b[38;5;124mNot enough indexers for scalar access (setting)!\u001b[39m\u001b[38;5;124m\"\u001b[39m)\n\u001b[1;32m-> 2542\u001b[0m \u001b[38;5;28mself\u001b[39m\u001b[38;5;241m.\u001b[39mobj\u001b[38;5;241m.\u001b[39m_set_value(\u001b[38;5;241m*\u001b[39mkey, value\u001b[38;5;241m=\u001b[39mvalue, takeable\u001b[38;5;241m=\u001b[39m\u001b[38;5;28mself\u001b[39m\u001b[38;5;241m.\u001b[39m_takeable)\n",
      "File \u001b[1;32m~\\anaconda3\\Lib\\site-packages\\pandas\\core\\frame.py:4575\u001b[0m, in \u001b[0;36mDataFrame._set_value\u001b[1;34m(self, index, col, value, takeable)\u001b[0m\n\u001b[0;32m   4573\u001b[0m         \u001b[38;5;28mself\u001b[39m\u001b[38;5;241m.\u001b[39miloc[index, col] \u001b[38;5;241m=\u001b[39m value\n\u001b[0;32m   4574\u001b[0m     \u001b[38;5;28;01melse\u001b[39;00m:\n\u001b[1;32m-> 4575\u001b[0m         \u001b[38;5;28mself\u001b[39m\u001b[38;5;241m.\u001b[39mloc[index, col] \u001b[38;5;241m=\u001b[39m value\n\u001b[0;32m   4576\u001b[0m     \u001b[38;5;28mself\u001b[39m\u001b[38;5;241m.\u001b[39m_item_cache\u001b[38;5;241m.\u001b[39mpop(col, \u001b[38;5;28;01mNone\u001b[39;00m)\n\u001b[0;32m   4578\u001b[0m \u001b[38;5;28;01mexcept\u001b[39;00m InvalidIndexError \u001b[38;5;28;01mas\u001b[39;00m ii_err:\n\u001b[0;32m   4579\u001b[0m     \u001b[38;5;66;03m# GH48729: Seems like you are trying to assign a value to a\u001b[39;00m\n\u001b[0;32m   4580\u001b[0m     \u001b[38;5;66;03m# row when only scalar options are permitted\u001b[39;00m\n",
      "File \u001b[1;32m~\\anaconda3\\Lib\\site-packages\\pandas\\core\\indexing.py:907\u001b[0m, in \u001b[0;36m_LocationIndexer.__setitem__\u001b[1;34m(self, key, value)\u001b[0m\n\u001b[0;32m    905\u001b[0m     maybe_callable \u001b[38;5;241m=\u001b[39m com\u001b[38;5;241m.\u001b[39mapply_if_callable(key, \u001b[38;5;28mself\u001b[39m\u001b[38;5;241m.\u001b[39mobj)\n\u001b[0;32m    906\u001b[0m     key \u001b[38;5;241m=\u001b[39m \u001b[38;5;28mself\u001b[39m\u001b[38;5;241m.\u001b[39m_check_deprecated_callable_usage(key, maybe_callable)\n\u001b[1;32m--> 907\u001b[0m indexer \u001b[38;5;241m=\u001b[39m \u001b[38;5;28mself\u001b[39m\u001b[38;5;241m.\u001b[39m_get_setitem_indexer(key)\n\u001b[0;32m    908\u001b[0m \u001b[38;5;28mself\u001b[39m\u001b[38;5;241m.\u001b[39m_has_valid_setitem_indexer(key)\n\u001b[0;32m    910\u001b[0m iloc \u001b[38;5;241m=\u001b[39m \u001b[38;5;28mself\u001b[39m \u001b[38;5;28;01mif\u001b[39;00m \u001b[38;5;28mself\u001b[39m\u001b[38;5;241m.\u001b[39mname \u001b[38;5;241m==\u001b[39m \u001b[38;5;124m\"\u001b[39m\u001b[38;5;124miloc\u001b[39m\u001b[38;5;124m\"\u001b[39m \u001b[38;5;28;01melse\u001b[39;00m \u001b[38;5;28mself\u001b[39m\u001b[38;5;241m.\u001b[39mobj\u001b[38;5;241m.\u001b[39miloc\n",
      "File \u001b[1;32m~\\anaconda3\\Lib\\site-packages\\pandas\\core\\indexing.py:774\u001b[0m, in \u001b[0;36m_LocationIndexer._get_setitem_indexer\u001b[1;34m(self, key)\u001b[0m\n\u001b[0;32m    771\u001b[0m \u001b[38;5;28;01mif\u001b[39;00m \u001b[38;5;28misinstance\u001b[39m(key, \u001b[38;5;28mtuple\u001b[39m):\n\u001b[0;32m    772\u001b[0m     \u001b[38;5;28;01mwith\u001b[39;00m suppress(IndexingError):\n\u001b[0;32m    773\u001b[0m         \u001b[38;5;66;03m# suppress \"Too many indexers\"\u001b[39;00m\n\u001b[1;32m--> 774\u001b[0m         \u001b[38;5;28;01mreturn\u001b[39;00m \u001b[38;5;28mself\u001b[39m\u001b[38;5;241m.\u001b[39m_convert_tuple(key)\n\u001b[0;32m    776\u001b[0m \u001b[38;5;28;01mif\u001b[39;00m \u001b[38;5;28misinstance\u001b[39m(key, \u001b[38;5;28mrange\u001b[39m):\n\u001b[0;32m    777\u001b[0m     \u001b[38;5;66;03m# GH#45479 test_loc_setitem_range_key\u001b[39;00m\n\u001b[0;32m    778\u001b[0m     key \u001b[38;5;241m=\u001b[39m \u001b[38;5;28mlist\u001b[39m(key)\n",
      "File \u001b[1;32m~\\anaconda3\\Lib\\site-packages\\pandas\\core\\indexing.py:989\u001b[0m, in \u001b[0;36m_LocationIndexer._convert_tuple\u001b[1;34m(self, key)\u001b[0m\n\u001b[0;32m    985\u001b[0m \u001b[38;5;129m@final\u001b[39m\n\u001b[0;32m    986\u001b[0m \u001b[38;5;28;01mdef\u001b[39;00m \u001b[38;5;21m_convert_tuple\u001b[39m(\u001b[38;5;28mself\u001b[39m, key: \u001b[38;5;28mtuple\u001b[39m) \u001b[38;5;241m-\u001b[39m\u001b[38;5;241m>\u001b[39m \u001b[38;5;28mtuple\u001b[39m:\n\u001b[0;32m    987\u001b[0m     \u001b[38;5;66;03m# Note: we assume _tupleize_axis_indexer has been called, if necessary.\u001b[39;00m\n\u001b[0;32m    988\u001b[0m     \u001b[38;5;28mself\u001b[39m\u001b[38;5;241m.\u001b[39m_validate_key_length(key)\n\u001b[1;32m--> 989\u001b[0m     keyidx \u001b[38;5;241m=\u001b[39m [\u001b[38;5;28mself\u001b[39m\u001b[38;5;241m.\u001b[39m_convert_to_indexer(k, axis\u001b[38;5;241m=\u001b[39mi) \u001b[38;5;28;01mfor\u001b[39;00m i, k \u001b[38;5;129;01min\u001b[39;00m \u001b[38;5;28menumerate\u001b[39m(key)]\n\u001b[0;32m    990\u001b[0m     \u001b[38;5;28;01mreturn\u001b[39;00m \u001b[38;5;28mtuple\u001b[39m(keyidx)\n",
      "File \u001b[1;32m~\\anaconda3\\Lib\\site-packages\\pandas\\core\\indexing.py:1470\u001b[0m, in \u001b[0;36m_LocIndexer._convert_to_indexer\u001b[1;34m(self, key, axis)\u001b[0m\n\u001b[0;32m   1467\u001b[0m labels \u001b[38;5;241m=\u001b[39m \u001b[38;5;28mself\u001b[39m\u001b[38;5;241m.\u001b[39mobj\u001b[38;5;241m.\u001b[39m_get_axis(axis)\n\u001b[0;32m   1469\u001b[0m \u001b[38;5;28;01mif\u001b[39;00m \u001b[38;5;28misinstance\u001b[39m(key, \u001b[38;5;28mslice\u001b[39m):\n\u001b[1;32m-> 1470\u001b[0m     \u001b[38;5;28;01mreturn\u001b[39;00m labels\u001b[38;5;241m.\u001b[39m_convert_slice_indexer(key, kind\u001b[38;5;241m=\u001b[39m\u001b[38;5;124m\"\u001b[39m\u001b[38;5;124mloc\u001b[39m\u001b[38;5;124m\"\u001b[39m)\n\u001b[0;32m   1472\u001b[0m \u001b[38;5;28;01mif\u001b[39;00m (\n\u001b[0;32m   1473\u001b[0m     \u001b[38;5;28misinstance\u001b[39m(key, \u001b[38;5;28mtuple\u001b[39m)\n\u001b[0;32m   1474\u001b[0m     \u001b[38;5;129;01mand\u001b[39;00m \u001b[38;5;129;01mnot\u001b[39;00m \u001b[38;5;28misinstance\u001b[39m(labels, MultiIndex)\n\u001b[0;32m   1475\u001b[0m     \u001b[38;5;129;01mand\u001b[39;00m \u001b[38;5;28mself\u001b[39m\u001b[38;5;241m.\u001b[39mndim \u001b[38;5;241m<\u001b[39m \u001b[38;5;241m2\u001b[39m\n\u001b[0;32m   1476\u001b[0m     \u001b[38;5;129;01mand\u001b[39;00m \u001b[38;5;28mlen\u001b[39m(key) \u001b[38;5;241m>\u001b[39m \u001b[38;5;241m1\u001b[39m\n\u001b[0;32m   1477\u001b[0m ):\n\u001b[0;32m   1478\u001b[0m     \u001b[38;5;28;01mraise\u001b[39;00m IndexingError(\u001b[38;5;124m\"\u001b[39m\u001b[38;5;124mToo many indexers\u001b[39m\u001b[38;5;124m\"\u001b[39m)\n",
      "File \u001b[1;32m~\\anaconda3\\Lib\\site-packages\\pandas\\core\\indexes\\base.py:4275\u001b[0m, in \u001b[0;36mIndex._convert_slice_indexer\u001b[1;34m(self, key, kind)\u001b[0m\n\u001b[0;32m   4272\u001b[0m \u001b[38;5;28;01melif\u001b[39;00m is_positional:\n\u001b[0;32m   4273\u001b[0m     \u001b[38;5;28;01mif\u001b[39;00m kind \u001b[38;5;241m==\u001b[39m \u001b[38;5;124m\"\u001b[39m\u001b[38;5;124mloc\u001b[39m\u001b[38;5;124m\"\u001b[39m:\n\u001b[0;32m   4274\u001b[0m         \u001b[38;5;66;03m# GH#16121, GH#24612, GH#31810\u001b[39;00m\n\u001b[1;32m-> 4275\u001b[0m         \u001b[38;5;28;01mraise\u001b[39;00m \u001b[38;5;167;01mTypeError\u001b[39;00m(\n\u001b[0;32m   4276\u001b[0m             \u001b[38;5;124m\"\u001b[39m\u001b[38;5;124mSlicing a positional slice with .loc is not allowed, \u001b[39m\u001b[38;5;124m\"\u001b[39m\n\u001b[0;32m   4277\u001b[0m             \u001b[38;5;124m\"\u001b[39m\u001b[38;5;124mUse .loc with labels or .iloc with positions instead.\u001b[39m\u001b[38;5;124m\"\u001b[39m,\n\u001b[0;32m   4278\u001b[0m         )\n\u001b[0;32m   4279\u001b[0m     indexer \u001b[38;5;241m=\u001b[39m key\n\u001b[0;32m   4280\u001b[0m \u001b[38;5;28;01melse\u001b[39;00m:\n",
      "\u001b[1;31mTypeError\u001b[0m: Slicing a positional slice with .loc is not allowed, Use .loc with labels or .iloc with positions instead."
     ]
    }
   ],
   "source": [
    "dframe.at[0:2,'C6']=np.NaN"
   ]
  },
  {
   "cell_type": "code",
   "execution_count": null,
   "id": "af57683d-9659-4b2f-a7d0-372ec087b014",
   "metadata": {},
   "outputs": [],
   "source": []
  }
 ],
 "metadata": {
  "kernelspec": {
   "display_name": "Python 3 (ipykernel)",
   "language": "python",
   "name": "python3"
  },
  "language_info": {
   "codemirror_mode": {
    "name": "ipython",
    "version": 3
   },
   "file_extension": ".py",
   "mimetype": "text/x-python",
   "name": "python",
   "nbconvert_exporter": "python",
   "pygments_lexer": "ipython3",
   "version": "3.12.4"
  }
 },
 "nbformat": 4,
 "nbformat_minor": 5
}
