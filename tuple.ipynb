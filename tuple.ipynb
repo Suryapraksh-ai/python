{
 "cells": [
  {
   "cell_type": "code",
   "execution_count": 1,
   "id": "e22f59dd-94f1-4451-91e9-07f27ea7cc45",
   "metadata": {},
   "outputs": [],
   "source": [
    "tup1=()"
   ]
  },
  {
   "cell_type": "code",
   "execution_count": 3,
   "id": "73c3f349-46c6-4c5b-8710-a103538443f7",
   "metadata": {},
   "outputs": [],
   "source": [
    "tup2=(10,20,30)"
   ]
  },
  {
   "cell_type": "code",
   "execution_count": 4,
   "id": "50138878-4713-4a50-82b3-aab9f9ebafae",
   "metadata": {},
   "outputs": [],
   "source": [
    "tup3=(10.77,30.66,60.89)"
   ]
  },
  {
   "cell_type": "code",
   "execution_count": 5,
   "id": "ceb2fd38-9120-440e-9cff-3f347ce8e2d0",
   "metadata": {},
   "outputs": [],
   "source": [
    "tup4=(\"one\",\"two\",\"three\")"
   ]
  },
  {
   "cell_type": "code",
   "execution_count": 8,
   "id": "6fddd01e-08e7-4ab9-9e35-ab0c54af241d",
   "metadata": {},
   "outputs": [],
   "source": [
    "tup5=(\"Asif\",25,(50,100),(150,90)) #nested tuples"
   ]
  },
  {
   "cell_type": "code",
   "execution_count": 9,
   "id": "a2ec7ae9-518e-41de-b7d9-0527a7ed8b7f",
   "metadata": {},
   "outputs": [],
   "source": [
    "tup6=(100,\"Asif\",17.765)"
   ]
  },
  {
   "cell_type": "code",
   "execution_count": 10,
   "id": "c238c83a-d5ed-429c-9d75-4bcaaf4a3fb6",
   "metadata": {},
   "outputs": [],
   "source": [
    "tup7=(\"Asif\",25,[50,100],[150,90],{'John','David'},(99,22,33))"
   ]
  },
  {
   "cell_type": "code",
   "execution_count": 12,
   "id": "fb393ef6-734c-4477-8a50-c1eaaf8ca135",
   "metadata": {},
   "outputs": [
    {
     "data": {
      "text/plain": [
       "6"
      ]
     },
     "execution_count": 12,
     "metadata": {},
     "output_type": "execute_result"
    }
   ],
   "source": [
    "len(tup7) #len of list"
   ]
  },
  {
   "cell_type": "markdown",
   "id": "cfe538f5-d0d8-47e5-a826-cd87c70955f0",
   "metadata": {},
   "source": [
    "Tuple indexing"
   ]
  },
  {
   "cell_type": "code",
   "execution_count": 13,
   "id": "5f113a7b-645a-4b39-b9dc-a4b619ce8513",
   "metadata": {},
   "outputs": [
    {
     "data": {
      "text/plain": [
       "10"
      ]
     },
     "execution_count": 13,
     "metadata": {},
     "output_type": "execute_result"
    }
   ],
   "source": [
    "tup2[0] #Retrive first element of tuple"
   ]
  },
  {
   "cell_type": "code",
   "execution_count": 14,
   "id": "49e9c3ea-0e45-4c22-9f5c-407ad4e9fe3e",
   "metadata": {},
   "outputs": [
    {
     "data": {
      "text/plain": [
       "'three'"
      ]
     },
     "execution_count": 14,
     "metadata": {},
     "output_type": "execute_result"
    }
   ],
   "source": [
    "tup4[-1]"
   ]
  },
  {
   "cell_type": "code",
   "execution_count": 15,
   "id": "a78b77a9-1503-4966-8a6e-84fa1dca3b90",
   "metadata": {},
   "outputs": [
    {
     "data": {
      "text/plain": [
       "(150, 90)"
      ]
     },
     "execution_count": 15,
     "metadata": {},
     "output_type": "execute_result"
    }
   ],
   "source": [
    "tup5[-1]"
   ]
  },
  {
   "cell_type": "code",
   "execution_count": 16,
   "id": "0e208e1c-c198-45ef-bf46-c5a8935a7c4b",
   "metadata": {},
   "outputs": [],
   "source": [
    "##tuple slicing"
   ]
  },
  {
   "cell_type": "code",
   "execution_count": 17,
   "id": "5ce09d68-42df-4867-b29a-f6289efb22a0",
   "metadata": {},
   "outputs": [],
   "source": [
    "mytuple = ('one','two','three','four','five','six','seven','eight') "
   ]
  },
  {
   "cell_type": "code",
   "execution_count": 18,
   "id": "f3103c62-d7ec-40c2-baf1-1827bc451a76",
   "metadata": {},
   "outputs": [
    {
     "data": {
      "text/plain": [
       "('one', 'two', 'three')"
      ]
     },
     "execution_count": 18,
     "metadata": {},
     "output_type": "execute_result"
    }
   ],
   "source": [
    "mytuple[0:3]"
   ]
  },
  {
   "cell_type": "code",
   "execution_count": 19,
   "id": "a6348b9e-b2c0-4f36-bdaf-7401dc823dbb",
   "metadata": {},
   "outputs": [
    {
     "data": {
      "text/plain": [
       "('three', 'four', 'five')"
      ]
     },
     "execution_count": 19,
     "metadata": {},
     "output_type": "execute_result"
    }
   ],
   "source": [
    "mytuple[2:5]"
   ]
  },
  {
   "cell_type": "code",
   "execution_count": 21,
   "id": "519cdb59-9d36-44fa-95b5-449e0fe1ba53",
   "metadata": {},
   "outputs": [
    {
     "data": {
      "text/plain": [
       "('one', 'two', 'three')"
      ]
     },
     "execution_count": 21,
     "metadata": {},
     "output_type": "execute_result"
    }
   ],
   "source": [
    "mytuple[:3] #return first three item"
   ]
  },
  {
   "cell_type": "code",
   "execution_count": 22,
   "id": "5619118b-9b60-45d8-bc27-1c1f35e3c331",
   "metadata": {},
   "outputs": [
    {
     "data": {
      "text/plain": [
       "('one', 'two')"
      ]
     },
     "execution_count": 22,
     "metadata": {},
     "output_type": "execute_result"
    }
   ],
   "source": [
    "mytuple[:2]"
   ]
  },
  {
   "cell_type": "code",
   "execution_count": null,
   "id": "1d2ac51e-05de-4b8b-8684-24d18310f4bc",
   "metadata": {},
   "outputs": [],
   "source": []
  },
  {
   "cell_type": "code",
   "execution_count": 30,
   "id": "09813415-644f-4fa2-931c-d8b49af17771",
   "metadata": {},
   "outputs": [
    {
     "data": {
      "text/plain": [
       "('six', 'seven', 'eight')"
      ]
     },
     "execution_count": 30,
     "metadata": {},
     "output_type": "execute_result"
    }
   ],
   "source": [
    "mytuple[-3:] #retuen last three item"
   ]
  },
  {
   "cell_type": "code",
   "execution_count": 29,
   "id": "1df6ef1d-625b-4257-8363-be15afe0f0af",
   "metadata": {},
   "outputs": [
    {
     "data": {
      "text/plain": [
       "('seven', 'eight')"
      ]
     },
     "execution_count": 29,
     "metadata": {},
     "output_type": "execute_result"
    }
   ],
   "source": [
    "mytuple[-2:]"
   ]
  },
  {
   "cell_type": "code",
   "execution_count": 31,
   "id": "e005d05f-972d-4f33-9326-2b89129906fd",
   "metadata": {},
   "outputs": [
    {
     "data": {
      "text/plain": [
       "('one', 'two', 'three', 'four', 'five', 'six', 'seven', 'eight')"
      ]
     },
     "execution_count": 31,
     "metadata": {},
     "output_type": "execute_result"
    }
   ],
   "source": [
    "mytuple[:]"
   ]
  },
  {
   "cell_type": "markdown",
   "id": "1a98e8ea-b592-49cb-bc96-c218e3f2f920",
   "metadata": {},
   "source": [
    "loop through tuple"
   ]
  },
  {
   "cell_type": "code",
   "execution_count": 32,
   "id": "57b6fb69-0678-499a-92ee-57aa44c63bd2",
   "metadata": {},
   "outputs": [
    {
     "data": {
      "text/plain": [
       "('one', 'two', 'three', 'four', 'five', 'six', 'seven', 'eight')"
      ]
     },
     "execution_count": 32,
     "metadata": {},
     "output_type": "execute_result"
    }
   ],
   "source": [
    "mytuple"
   ]
  },
  {
   "cell_type": "code",
   "execution_count": 33,
   "id": "a2929173-e954-4e19-96b4-3fcf72361e69",
   "metadata": {},
   "outputs": [
    {
     "name": "stdout",
     "output_type": "stream",
     "text": [
      "one\n",
      "two\n",
      "three\n",
      "four\n",
      "five\n",
      "six\n",
      "seven\n",
      "eight\n"
     ]
    }
   ],
   "source": [
    "for i in mytuple:\n",
    "      print(i)"
   ]
  },
  {
   "cell_type": "code",
   "execution_count": 35,
   "id": "fcee3755-eb5e-4c1d-b1a7-0d0f101a891f",
   "metadata": {},
   "outputs": [
    {
     "name": "stdout",
     "output_type": "stream",
     "text": [
      "(0, 'one')\n",
      "(1, 'two')\n",
      "(2, 'three')\n",
      "(3, 'four')\n",
      "(4, 'five')\n",
      "(5, 'six')\n",
      "(6, 'seven')\n",
      "(7, 'eight')\n"
     ]
    }
   ],
   "source": [
    "for i in enumerate(mytuple):\n",
    "     print(i)"
   ]
  },
  {
   "cell_type": "markdown",
   "id": "aee8e92e-89bb-4fe1-8601-573f3090b93d",
   "metadata": {},
   "source": [
    "count"
   ]
  },
  {
   "cell_type": "code",
   "execution_count": 37,
   "id": "650e04e6-834c-4830-b05e-fd5395695a3e",
   "metadata": {},
   "outputs": [],
   "source": [
    "mytuple1=('one','two','three','four','one','one','two','three')"
   ]
  },
  {
   "cell_type": "code",
   "execution_count": 38,
   "id": "16b420e9-f3e5-4273-ad7b-c3569a16943c",
   "metadata": {},
   "outputs": [
    {
     "data": {
      "text/plain": [
       "3"
      ]
     },
     "execution_count": 38,
     "metadata": {},
     "output_type": "execute_result"
    }
   ],
   "source": [
    "mytuple1.count('one')"
   ]
  },
  {
   "cell_type": "code",
   "execution_count": 40,
   "id": "bc7162fb-89d9-4402-a64e-4f706e238eb8",
   "metadata": {},
   "outputs": [
    {
     "data": {
      "text/plain": [
       "2"
      ]
     },
     "execution_count": 40,
     "metadata": {},
     "output_type": "execute_result"
    }
   ],
   "source": [
    "mytuple1.count('two')"
   ]
  },
  {
   "cell_type": "code",
   "execution_count": 41,
   "id": "55ead4c1-47f4-4322-bd64-2f5bc95f6a30",
   "metadata": {},
   "outputs": [
    {
     "data": {
      "text/plain": [
       "2"
      ]
     },
     "execution_count": 41,
     "metadata": {},
     "output_type": "execute_result"
    }
   ],
   "source": [
    "mytuple1.count('three')"
   ]
  },
  {
   "cell_type": "code",
   "execution_count": 42,
   "id": "16424522-5de1-4a7b-b87a-c581e2b49a10",
   "metadata": {},
   "outputs": [
    {
     "data": {
      "text/plain": [
       "1"
      ]
     },
     "execution_count": 42,
     "metadata": {},
     "output_type": "execute_result"
    }
   ],
   "source": [
    "mytuple.count('four')"
   ]
  },
  {
   "cell_type": "markdown",
   "id": "dd49a7d4-2960-4b9d-999d-05bab35e47b1",
   "metadata": {},
   "source": [
    "tuple Membership"
   ]
  },
  {
   "cell_type": "code",
   "execution_count": 4,
   "id": "8307e63e-af67-4bc7-a026-19edaa3d2333",
   "metadata": {},
   "outputs": [],
   "source": [
    "mytuple = ('one','two','three','four','five','six','seven','eight') "
   ]
  },
  {
   "cell_type": "code",
   "execution_count": 5,
   "id": "9570d3bd-8b78-4138-ae7c-a13a7f913ad4",
   "metadata": {},
   "outputs": [
    {
     "data": {
      "text/plain": [
       "('one', 'two', 'three', 'four', 'five', 'six', 'seven', 'eight')"
      ]
     },
     "execution_count": 5,
     "metadata": {},
     "output_type": "execute_result"
    }
   ],
   "source": [
    "mytuple"
   ]
  },
  {
   "cell_type": "code",
   "execution_count": 7,
   "id": "26d0d226-a8ad-4566-8655-c9a6d99a019b",
   "metadata": {},
   "outputs": [
    {
     "data": {
      "text/plain": [
       "True"
      ]
     },
     "execution_count": 7,
     "metadata": {},
     "output_type": "execute_result"
    }
   ],
   "source": [
    "'one' in mytuple"
   ]
  },
  {
   "cell_type": "code",
   "execution_count": 9,
   "id": "151a030c-34c9-46b4-9402-f39fe120b550",
   "metadata": {},
   "outputs": [
    {
     "data": {
      "text/plain": [
       "False"
      ]
     },
     "execution_count": 9,
     "metadata": {},
     "output_type": "execute_result"
    }
   ],
   "source": [
    "'ten' in mytuple"
   ]
  },
  {
   "cell_type": "code",
   "execution_count": 11,
   "id": "2b0519a1-cfaa-4e6f-a01e-9e80a741e6cc",
   "metadata": {},
   "outputs": [
    {
     "name": "stdout",
     "output_type": "stream",
     "text": [
      "this number is no my tuple\n"
     ]
    }
   ],
   "source": [
    "if 3 in mytuple:\n",
    "  print(\"this number in my tuple\")\n",
    "else:\n",
    "  print(\"this number is no my tuple\")"
   ]
  },
  {
   "cell_type": "markdown",
   "id": "a61b78fc-3627-4ed8-9531-56a708432f97",
   "metadata": {},
   "source": [
    "index postion"
   ]
  },
  {
   "cell_type": "code",
   "execution_count": 12,
   "id": "d3b119ff-f291-4695-b790-a5725cbf5505",
   "metadata": {},
   "outputs": [
    {
     "data": {
      "text/plain": [
       "('one', 'two', 'three', 'four', 'five', 'six', 'seven', 'eight')"
      ]
     },
     "execution_count": 12,
     "metadata": {},
     "output_type": "execute_result"
    }
   ],
   "source": [
    "mytuple"
   ]
  },
  {
   "cell_type": "code",
   "execution_count": 13,
   "id": "7dd8ae7b-c970-4093-a111-ef2e779f6b3d",
   "metadata": {},
   "outputs": [
    {
     "data": {
      "text/plain": [
       "0"
      ]
     },
     "execution_count": 13,
     "metadata": {},
     "output_type": "execute_result"
    }
   ],
   "source": [
    "mytuple.index(\"one\")"
   ]
  },
  {
   "cell_type": "code",
   "execution_count": 14,
   "id": "59581163-18de-4b20-88fa-f4adb5f440ad",
   "metadata": {},
   "outputs": [
    {
     "data": {
      "text/plain": [
       "1"
      ]
     },
     "execution_count": 14,
     "metadata": {},
     "output_type": "execute_result"
    }
   ],
   "source": [
    "mytuple.index(\"two\")"
   ]
  },
  {
   "cell_type": "code",
   "execution_count": 15,
   "id": "acd4e298-70e0-4bc8-b409-05395fef8efb",
   "metadata": {},
   "outputs": [
    {
     "data": {
      "text/plain": [
       "2"
      ]
     },
     "execution_count": 15,
     "metadata": {},
     "output_type": "execute_result"
    }
   ],
   "source": [
    "mytuple.index(\"three\")"
   ]
  },
  {
   "cell_type": "markdown",
   "id": "221cc95c-6ab1-4c49-9d3f-64fa93921cba",
   "metadata": {},
   "source": [
    "shorting"
   ]
  },
  {
   "cell_type": "code",
   "execution_count": 16,
   "id": "8568cd32-9a08-431f-81f8-9a7bd30b441c",
   "metadata": {},
   "outputs": [],
   "source": [
    "mytuple2=(43,67,99,12,6,90,67)"
   ]
  },
  {
   "cell_type": "code",
   "execution_count": 19,
   "id": "ef822632-118c-4887-8ee6-45a43b8f83f7",
   "metadata": {},
   "outputs": [
    {
     "data": {
      "text/plain": [
       "[6, 12, 43, 67, 67, 90, 99]"
      ]
     },
     "execution_count": 19,
     "metadata": {},
     "output_type": "execute_result"
    }
   ],
   "source": [
    "sorted(mytuple2) ##assending order"
   ]
  },
  {
   "cell_type": "code",
   "execution_count": 20,
   "id": "4a2af97e-eff9-4014-b57a-2d6e7d41d072",
   "metadata": {},
   "outputs": [
    {
     "data": {
      "text/plain": [
       "[99, 90, 67, 67, 43, 12, 6]"
      ]
     },
     "execution_count": 20,
     "metadata": {},
     "output_type": "execute_result"
    }
   ],
   "source": [
    "sorted(mytuple2, reverse=2) ##desending order"
   ]
  },
  {
   "cell_type": "code",
   "execution_count": null,
   "id": "1b443d83-b788-451e-a90e-f1901c6810bd",
   "metadata": {},
   "outputs": [],
   "source": []
  }
 ],
 "metadata": {
  "kernelspec": {
   "display_name": "Python 3 (ipykernel)",
   "language": "python",
   "name": "python3"
  },
  "language_info": {
   "codemirror_mode": {
    "name": "ipython",
    "version": 3
   },
   "file_extension": ".py",
   "mimetype": "text/x-python",
   "name": "python",
   "nbconvert_exporter": "python",
   "pygments_lexer": "ipython3",
   "version": "3.12.7"
  }
 },
 "nbformat": 4,
 "nbformat_minor": 5
}
