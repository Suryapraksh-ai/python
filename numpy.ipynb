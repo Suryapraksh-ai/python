{
 "cells": [
  {
   "cell_type": "code",
   "execution_count": 1,
   "id": "dff76e0d-52d0-474b-ab7f-ab3e05a0b579",
   "metadata": {},
   "outputs": [],
   "source": [
    "import numpy as np"
   ]
  },
  {
   "cell_type": "code",
   "execution_count": 2,
   "id": "51798c11-6c62-46be-942c-02cdd955c537",
   "metadata": {},
   "outputs": [],
   "source": [
    "list = [2,4,56,422,32,1]"
   ]
  },
  {
   "cell_type": "code",
   "execution_count": 3,
   "id": "4d7dd822-48a1-4f82-a095-71de364a8ced",
   "metadata": {},
   "outputs": [
    {
     "data": {
      "text/plain": [
       "[2, 4, 56, 422, 32, 1]"
      ]
     },
     "execution_count": 3,
     "metadata": {},
     "output_type": "execute_result"
    }
   ],
   "source": [
    "list"
   ]
  },
  {
   "cell_type": "code",
   "execution_count": 6,
   "id": "b19876c4-f6e7-4921-956a-bfa90e0a5100",
   "metadata": {},
   "outputs": [],
   "source": [
    "arr = np.array(list)"
   ]
  },
  {
   "cell_type": "code",
   "execution_count": 7,
   "id": "d74c85f6-943c-472f-9493-3d7967a01f7f",
   "metadata": {},
   "outputs": [
    {
     "data": {
      "text/plain": [
       "numpy.ndarray"
      ]
     },
     "execution_count": 7,
     "metadata": {},
     "output_type": "execute_result"
    }
   ],
   "source": [
    "type(arr)"
   ]
  },
  {
   "cell_type": "code",
   "execution_count": 8,
   "id": "b5c51d73-a974-4d0b-9d6a-17b4e17b98fc",
   "metadata": {},
   "outputs": [
    {
     "data": {
      "text/plain": [
       "array([  2,   4,  56, 422,  32,   1])"
      ]
     },
     "execution_count": 8,
     "metadata": {},
     "output_type": "execute_result"
    }
   ],
   "source": [
    "arr"
   ]
  },
  {
   "cell_type": "markdown",
   "id": "887a5bf7-5736-4ab9-a5af-81846428c22f",
   "metadata": {},
   "source": [
    "2D array (matrix)"
   ]
  },
  {
   "cell_type": "code",
   "execution_count": 9,
   "id": "286b6397-2f85-494a-b087-78d506eccc52",
   "metadata": {},
   "outputs": [],
   "source": [
    "new = np.array([[45,34,22,2],[24,55,3,22]])"
   ]
  },
  {
   "cell_type": "code",
   "execution_count": 10,
   "id": "7d442ca1-0f79-46b7-9aa4-7351ed521a2d",
   "metadata": {},
   "outputs": [
    {
     "name": "stdout",
     "output_type": "stream",
     "text": [
      "[[45 34 22  2]\n",
      " [24 55  3 22]]\n"
     ]
    }
   ],
   "source": [
    "print(new)"
   ]
  },
  {
   "cell_type": "code",
   "execution_count": 11,
   "id": "f35f26ce-b2b7-4f1a-bebc-2a6e0e79160e",
   "metadata": {},
   "outputs": [],
   "source": [
    "##3D array--------# Tensor"
   ]
  },
  {
   "cell_type": "code",
   "execution_count": 21,
   "id": "655fda2c-2872-47c1-a4af-f0fb5e5c4734",
   "metadata": {},
   "outputs": [
    {
     "data": {
      "text/plain": [
       "array([[  2,   3,  33,   4,  45],\n",
       "       [ 23,  45,  56,  66,   2],\n",
       "       [357, 523,  32,  24,   2],\n",
       "       [ 32,  32,  44,  33, 234]])"
      ]
     },
     "execution_count": 21,
     "metadata": {},
     "output_type": "execute_result"
    }
   ],
   "source": [
    "np.array([[2,3,33,4,45],[23,45,56,66,2],[357,523,32,24,2],[32,32,44,33,234]])"
   ]
  },
  {
   "cell_type": "code",
   "execution_count": 22,
   "id": "335f2b0b-4f6f-4ac5-8556-2d21d1e0a36b",
   "metadata": {},
   "outputs": [
    {
     "data": {
      "text/plain": [
       "array([11., 23., 44.])"
      ]
     },
     "execution_count": 22,
     "metadata": {},
     "output_type": "execute_result"
    }
   ],
   "source": [
    "np.array([11,23,44], dtype=float)"
   ]
  },
  {
   "cell_type": "code",
   "execution_count": 23,
   "id": "c941b8e6-29ef-499e-a988-baae5b9aabf6",
   "metadata": {},
   "outputs": [
    {
     "data": {
      "text/plain": [
       "array([11., 23., 44.])"
      ]
     },
     "execution_count": 23,
     "metadata": {},
     "output_type": "execute_result"
    }
   ],
   "source": [
    "np.array([11,23,44],dtype=float)"
   ]
  },
  {
   "cell_type": "code",
   "execution_count": 24,
   "id": "6586e14c-bed1-461b-924e-665203217c88",
   "metadata": {},
   "outputs": [
    {
     "data": {
      "text/plain": [
       "array([ True,  True,  True])"
      ]
     },
     "execution_count": 24,
     "metadata": {},
     "output_type": "execute_result"
    }
   ],
   "source": [
    "np.array([11,23,44],dtype=bool)"
   ]
  },
  {
   "cell_type": "code",
   "execution_count": 25,
   "id": "ddc015a3-6f46-417d-89bd-2382696105db",
   "metadata": {},
   "outputs": [
    {
     "data": {
      "text/plain": [
       "array([11.+0.j, 23.+0.j, 44.+0.j])"
      ]
     },
     "execution_count": 25,
     "metadata": {},
     "output_type": "execute_result"
    }
   ],
   "source": [
    "np.array([11,23,44],dtype=complex)"
   ]
  },
  {
   "cell_type": "markdown",
   "id": "de0ce08c-c37d-441b-bf1a-ca674ffac43d",
   "metadata": {},
   "source": [
    "arange \n",
    "arrange can be called with a varying number of positional argument"
   ]
  },
  {
   "cell_type": "code",
   "execution_count": 27,
   "id": "aeb92cc3-0ad3-4958-bacb-ee764c2f1a46",
   "metadata": {},
   "outputs": [
    {
     "data": {
      "text/plain": [
       "array([ 1,  2,  3,  4,  5,  6,  7,  8,  9, 10, 11, 12, 13, 14, 15, 16, 17,\n",
       "       18, 19, 20, 21, 22, 23, 24])"
      ]
     },
     "execution_count": 27,
     "metadata": {},
     "output_type": "execute_result"
    }
   ],
   "source": [
    "np.arange(1,25)"
   ]
  },
  {
   "cell_type": "code",
   "execution_count": 28,
   "id": "f03b979c-165d-4a24-a092-83e7eaef0126",
   "metadata": {},
   "outputs": [
    {
     "data": {
      "text/plain": [
       "array([ 1,  3,  5,  7,  9, 11, 13, 15, 17, 19, 21, 23])"
      ]
     },
     "execution_count": 28,
     "metadata": {},
     "output_type": "execute_result"
    }
   ],
   "source": [
    "np.arange(1,25,2 #strides ---> Alternate numbers"
   ]
  },
  {
   "cell_type": "markdown",
   "id": "fe6d1341-def9-4dc7-94f5-bd93039545bc",
   "metadata": {},
   "source": [
    "reshape:-\n",
    "both the number product should be equal to umber of items presnt inside the array"
   ]
  },
  {
   "cell_type": "code",
   "execution_count": 32,
   "id": "18445377-bf57-4cd3-95c5-29ec08674037",
   "metadata": {},
   "outputs": [
    {
     "data": {
      "text/plain": [
       "array([[ 1,  2],\n",
       "       [ 3,  4],\n",
       "       [ 5,  6],\n",
       "       [ 7,  8],\n",
       "       [ 9, 10]])"
      ]
     },
     "execution_count": 32,
     "metadata": {},
     "output_type": "execute_result"
    }
   ],
   "source": [
    "np.arange(1,11).reshape(5,2) #convert 5 row and 2 columns"
   ]
  },
  {
   "cell_type": "code",
   "execution_count": 33,
   "id": "a9c3ee10-2c1e-4461-b091-96fd0d9eb7e5",
   "metadata": {},
   "outputs": [
    {
     "data": {
      "text/plain": [
       "array([[ 1,  2,  3,  4,  5],\n",
       "       [ 6,  7,  8,  9, 10]])"
      ]
     },
     "execution_count": 33,
     "metadata": {},
     "output_type": "execute_result"
    }
   ],
   "source": [
    "np.arange(1,11).reshape(2,5) #convert 2 row and 5columns"
   ]
  },
  {
   "cell_type": "code",
   "execution_count": 35,
   "id": "33e69ab4-ae86-4315-9172-191d0c7daf4e",
   "metadata": {},
   "outputs": [
    {
     "data": {
      "text/plain": [
       "array([[ 1,  2,  3,  4],\n",
       "       [ 5,  6,  7,  8],\n",
       "       [ 9, 10, 11, 12]])"
      ]
     },
     "execution_count": 35,
     "metadata": {},
     "output_type": "execute_result"
    }
   ],
   "source": [
    "np.arange(1,13).reshape(3,4) #convert 3 row and 4 columns"
   ]
  },
  {
   "cell_type": "markdown",
   "id": "b17e3af7-9952-42a8-912a-f765a39d9502",
   "metadata": {},
   "source": [
    "one and zero"
   ]
  },
  {
   "cell_type": "code",
   "execution_count": 1,
   "id": "7157ea4b-3b3f-47f9-bc7b-1fa0cd7ddafe",
   "metadata": {},
   "outputs": [],
   "source": [
    "#np.once and #np.zero"
   ]
  },
  {
   "cell_type": "code",
   "execution_count": 7,
   "id": "1a87ad5c-3ace-456f-9cd6-ee7276a1f14b",
   "metadata": {},
   "outputs": [
    {
     "data": {
      "text/plain": [
       "array([[1., 1., 1., 1.],\n",
       "       [1., 1., 1., 1.],\n",
       "       [1., 1., 1., 1.]])"
      ]
     },
     "execution_count": 7,
     "metadata": {},
     "output_type": "execute_result"
    }
   ],
   "source": [
    "import numpy as np\n",
    "np.ones((3,4)) #we have to mention inside tuple"
   ]
  },
  {
   "cell_type": "code",
   "execution_count": 8,
   "id": "7c7a3bc3-d355-498b-85c1-5c912f9dd1fc",
   "metadata": {},
   "outputs": [
    {
     "data": {
      "text/plain": [
       "array([[0., 0., 0., 0.],\n",
       "       [0., 0., 0., 0.],\n",
       "       [0., 0., 0., 0.]])"
      ]
     },
     "execution_count": 8,
     "metadata": {},
     "output_type": "execute_result"
    }
   ],
   "source": [
    "np.zeros((3,4))"
   ]
  },
  {
   "cell_type": "code",
   "execution_count": 10,
   "id": "2b964af6-8f1e-48d4-9ac9-d6095ec034c9",
   "metadata": {},
   "outputs": [
    {
     "data": {
      "text/plain": [
       "array([[0.1923331 , 0.14958771, 0.90594661, 0.6162523 ],\n",
       "       [0.67873393, 0.46915509, 0.43465981, 0.58349946],\n",
       "       [0.27639471, 0.97988597, 0.54012599, 0.39326115]])"
      ]
     },
     "execution_count": 10,
     "metadata": {},
     "output_type": "execute_result"
    }
   ],
   "source": [
    "np.random.random((3,4))"
   ]
  },
  {
   "cell_type": "code",
   "execution_count": 15,
   "id": "d5cfdd2f-eb81-4185-bdd5-39a71f347e89",
   "metadata": {},
   "outputs": [
    {
     "data": {
      "text/plain": [
       "array([-10.        ,  -7.77777778,  -5.55555556,  -3.33333333,\n",
       "        -1.11111111,   1.11111111,   3.33333333,   5.55555556,\n",
       "         7.77777778,  10.        ])"
      ]
     },
     "execution_count": 15,
     "metadata": {},
     "output_type": "execute_result"
    }
   ],
   "source": [
    "#linspace:-It is also called as Linearly space , Linearly separable,in a given range at equal distance it creates points. \n",
    "np.linspace(-10,10,10)"
   ]
  },
  {
   "cell_type": "code",
   "execution_count": 16,
   "id": "8ad64b58-faa0-45ba-a0d6-d1c2159e4b3d",
   "metadata": {},
   "outputs": [
    {
     "data": {
      "text/plain": [
       "array([-2. ,  0.8,  3.6,  6.4,  9.2, 12. ])"
      ]
     },
     "execution_count": 16,
     "metadata": {},
     "output_type": "execute_result"
    }
   ],
   "source": [
    "np.linspace(-2,12,6)"
   ]
  },
  {
   "cell_type": "markdown",
   "id": "065d746a-1ed6-45cd-bca6-7c5505f33588",
   "metadata": {},
   "source": [
    "identity:-indentity matrix is that diagonal items will be ones and evrything will be zeros"
   ]
  },
  {
   "cell_type": "code",
   "execution_count": 17,
   "id": "25c89434-cd6e-4c71-95a8-dfa1b09f623f",
   "metadata": {},
   "outputs": [],
   "source": [
    "#create the identy metrix"
   ]
  },
  {
   "cell_type": "code",
   "execution_count": 18,
   "id": "625d45c0-6c7d-4e76-9575-9b2fd0c30c44",
   "metadata": {},
   "outputs": [
    {
     "data": {
      "text/plain": [
       "array([[1., 0., 0.],\n",
       "       [0., 1., 0.],\n",
       "       [0., 0., 1.]])"
      ]
     },
     "execution_count": 18,
     "metadata": {},
     "output_type": "execute_result"
    }
   ],
   "source": [
    "np.identity(3)"
   ]
  },
  {
   "cell_type": "code",
   "execution_count": 19,
   "id": "8c1682b6-8805-4ea7-96d8-2d7f711cdc04",
   "metadata": {},
   "outputs": [
    {
     "data": {
      "text/plain": [
       "array([[1., 0., 0., 0., 0., 0.],\n",
       "       [0., 1., 0., 0., 0., 0.],\n",
       "       [0., 0., 1., 0., 0., 0.],\n",
       "       [0., 0., 0., 1., 0., 0.],\n",
       "       [0., 0., 0., 0., 1., 0.],\n",
       "       [0., 0., 0., 0., 0., 1.]])"
      ]
     },
     "execution_count": 19,
     "metadata": {},
     "output_type": "execute_result"
    }
   ],
   "source": [
    "np.identity(6)"
   ]
  },
  {
   "cell_type": "markdown",
   "id": "2756f61f-03d7-4d2a-8817-434405b16126",
   "metadata": {},
   "source": [
    "Array attribute"
   ]
  },
  {
   "cell_type": "code",
   "execution_count": 20,
   "id": "ba6d0436-53b6-4307-92e6-5ea3696273b2",
   "metadata": {},
   "outputs": [],
   "source": [
    "a1= np.arange(10)"
   ]
  },
  {
   "cell_type": "code",
   "execution_count": 21,
   "id": "e796d616-0282-4b0e-b38d-c81f9cfb2eed",
   "metadata": {},
   "outputs": [
    {
     "data": {
      "text/plain": [
       "array([0, 1, 2, 3, 4, 5, 6, 7, 8, 9])"
      ]
     },
     "execution_count": 21,
     "metadata": {},
     "output_type": "execute_result"
    }
   ],
   "source": [
    "a1"
   ]
  },
  {
   "cell_type": "code",
   "execution_count": 22,
   "id": "f5d81c27-a1bb-4490-ae9a-597ec2fe4553",
   "metadata": {},
   "outputs": [
    {
     "data": {
      "text/plain": [
       "array([[ 0.,  1.,  2.,  3.],\n",
       "       [ 4.,  5.,  6.,  7.],\n",
       "       [ 8.,  9., 10., 11.]])"
      ]
     },
     "execution_count": 22,
     "metadata": {},
     "output_type": "execute_result"
    }
   ],
   "source": [
    "np.arange(12, dtype=float).reshape(3,4)"
   ]
  },
  {
   "cell_type": "code",
   "execution_count": 24,
   "id": "c61b8a76-e177-43fa-8eba-f06dc312f555",
   "metadata": {},
   "outputs": [
    {
     "data": {
      "text/plain": [
       "array([[[0, 1],\n",
       "        [2, 3]],\n",
       "\n",
       "       [[4, 5],\n",
       "        [6, 7]]])"
      ]
     },
     "execution_count": 24,
     "metadata": {},
     "output_type": "execute_result"
    }
   ],
   "source": [
    "np.arange(8).reshape(2,2,2)"
   ]
  },
  {
   "cell_type": "code",
   "execution_count": null,
   "id": "0735cfff-49f5-40b8-b47a-90c77a8a9358",
   "metadata": {},
   "outputs": [],
   "source": []
  }
 ],
 "metadata": {
  "kernelspec": {
   "display_name": "Python 3 (ipykernel)",
   "language": "python",
   "name": "python3"
  },
  "language_info": {
   "codemirror_mode": {
    "name": "ipython",
    "version": 3
   },
   "file_extension": ".py",
   "mimetype": "text/x-python",
   "name": "python",
   "nbconvert_exporter": "python",
   "pygments_lexer": "ipython3",
   "version": "3.12.4"
  }
 },
 "nbformat": 4,
 "nbformat_minor": 5
}
