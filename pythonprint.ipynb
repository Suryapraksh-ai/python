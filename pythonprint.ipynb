{
 "cells": [
  {
   "cell_type": "code",
   "execution_count": 1,
   "id": "cab7cc98-b225-45a0-8152-62c6a29d8936",
   "metadata": {},
   "outputs": [],
   "source": [
    "#print is use for answer"
   ]
  },
  {
   "cell_type": "code",
   "execution_count": 2,
   "id": "367126bd-643c-4582-9458-8b278facab0c",
   "metadata": {},
   "outputs": [
    {
     "data": {
      "text/plain": [
       "20"
      ]
     },
     "execution_count": 2,
     "metadata": {},
     "output_type": "execute_result"
    }
   ],
   "source": [
    "a=10\n",
    "b=20\n",
    "a\n",
    "b"
   ]
  },
  {
   "cell_type": "code",
   "execution_count": 3,
   "id": "746aafb6-d2e2-4cfe-b675-fd42e231277f",
   "metadata": {},
   "outputs": [
    {
     "name": "stdout",
     "output_type": "stream",
     "text": [
      "10\n"
     ]
    }
   ],
   "source": [
    "a=10\n",
    "b=20\n",
    "print(a)"
   ]
  },
  {
   "cell_type": "code",
   "execution_count": 4,
   "id": "01c51faf-59a6-436e-ac2f-689626ba871e",
   "metadata": {},
   "outputs": [
    {
     "name": "stdout",
     "output_type": "stream",
     "text": [
      "20\n"
     ]
    }
   ],
   "source": [
    "print(b)"
   ]
  },
  {
   "cell_type": "code",
   "execution_count": 5,
   "id": "9a7bd83e-7ceb-4ec2-8ab5-72dcd4af773d",
   "metadata": {},
   "outputs": [
    {
     "name": "stdout",
     "output_type": "stream",
     "text": [
      "30\n"
     ]
    }
   ],
   "source": [
    "num1=10\n",
    "num2=20\n",
    "add=num1+num2\n",
    "print(add)"
   ]
  },
  {
   "cell_type": "markdown",
   "id": "f0f449e3-a44c-479c-bb07-848a2aea2747",
   "metadata": {},
   "source": [
    "print result with string"
   ]
  },
  {
   "cell_type": "code",
   "execution_count": 8,
   "id": "c0576b0d-e42e-41aa-a567-ccfc78f2657e",
   "metadata": {},
   "outputs": [
    {
     "name": "stdout",
     "output_type": "stream",
     "text": [
      "the addition of 20 and 30 is= 50\n"
     ]
    }
   ],
   "source": [
    "num1=20\n",
    "num2=30\n",
    "add=num1+num2\n",
    "print('the addition of',num1,'and',num2,'is=',add)"
   ]
  },
  {
   "cell_type": "code",
   "execution_count": 9,
   "id": "3b265607-efea-4990-a10b-f9e702999f25",
   "metadata": {},
   "outputs": [],
   "source": [
    "name='python'\n",
    "age=20\n",
    "city='hyd'\n",
    "#hello my name is python and i m 10 year old from hyd\n"
   ]
  },
  {
   "cell_type": "code",
   "execution_count": 10,
   "id": "6f19e027-9533-44e6-81db-75f8f68e1ec3",
   "metadata": {},
   "outputs": [
    {
     "name": "stdout",
     "output_type": "stream",
     "text": [
      "hello my name is python and i m 20 year old from hyd\n"
     ]
    }
   ],
   "source": [
    "print('hello my name is',name, 'and i m', age, 'year old from',city,)  "
   ]
  },
  {
   "cell_type": "code",
   "execution_count": 11,
   "id": "35fe6521-ba63-4119-8cd4-6a420972fb46",
   "metadata": {},
   "outputs": [],
   "source": [
    "#print format mathod"
   ]
  },
  {
   "cell_type": "code",
   "execution_count": 13,
   "id": "86a4bbd4-39ff-4b0b-8cc1-a67cea0bbe73",
   "metadata": {},
   "outputs": [
    {
     "name": "stdout",
     "output_type": "stream",
     "text": [
      "the addition of 20 and 30 is =50\n"
     ]
    }
   ],
   "source": [
    "num1=20\n",
    "num2=30\n",
    "add=num1+num2\n",
    "print(\"the addition of {} and {} is ={}\".format(num1,num2,add))"
   ]
  },
  {
   "cell_type": "code",
   "execution_count": 14,
   "id": "5c929672-2804-409b-bb37-f30b47405353",
   "metadata": {},
   "outputs": [],
   "source": [
    "name='python'\n",
    "age=20\n",
    "city='hyd'\n",
    "#hello my name is python and i m 10 year old from hyd\n"
   ]
  },
  {
   "cell_type": "code",
   "execution_count": 15,
   "id": "f4435d2b-98e4-4561-83fa-4132bbae1521",
   "metadata": {},
   "outputs": [
    {
     "name": "stdout",
     "output_type": "stream",
     "text": [
      "hello my name is python,and i am20,year old from hyd\n"
     ]
    }
   ],
   "source": [
    "print(\"hello my name is {},and i am{},year old from {}.format(name,age,city\")"
   ]
  },
  {
   "cell_type": "code",
   "execution_count": 30,
   "id": "ba612f3d-4dff-4190-8f82-7d3373262f69",
   "metadata": {},
   "outputs": [
    {
     "name": "stdout",
     "output_type": "stream",
     "text": [
      "the avreage of 100,25,and 333is =152.66666666666666 or 152.67\n"
     ]
    }
   ],
   "source": [
    "num1=100\n",
    "num2=25\n",
    "num3=333\n",
    "avg=((num1+num2+num3)/3)\n",
    "avg1=round((num1+num2+num3)/3,2)\n",
    "print('the avreage of {},{},and {}is ={} or {}'.format(num1,num2,num3,avg,avg1))"
   ]
  },
  {
   "cell_type": "code",
   "execution_count": 31,
   "id": "16b096c1-e422-460d-adc6-135ce9f9d12a",
   "metadata": {},
   "outputs": [
    {
     "name": "stdout",
     "output_type": "stream",
     "text": [
      "the addition of 20 and 30 is= 50\n"
     ]
    }
   ],
   "source": [
    "num1=20\n",
    "num2=30\n",
    "add=num1+num2\n",
    "print(f'the addition of {num1} and {num2} is= {add}')"
   ]
  },
  {
   "cell_type": "code",
   "execution_count": null,
   "id": "b7d27372-4d7d-4b53-a3f7-f8bdb53c555a",
   "metadata": {},
   "outputs": [],
   "source": []
  }
 ],
 "metadata": {
  "kernelspec": {
   "display_name": "Python 3 (ipykernel)",
   "language": "python",
   "name": "python3"
  },
  "language_info": {
   "codemirror_mode": {
    "name": "ipython",
    "version": 3
   },
   "file_extension": ".py",
   "mimetype": "text/x-python",
   "name": "python",
   "nbconvert_exporter": "python",
   "pygments_lexer": "ipython3",
   "version": "3.12.7"
  }
 },
 "nbformat": 4,
 "nbformat_minor": 5
}
