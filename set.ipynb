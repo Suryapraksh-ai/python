{
 "cells": [
  {
   "cell_type": "markdown",
   "id": "ad54a14b-ad49-4a90-ac22-f5b6c18231ba",
   "metadata": {},
   "source": [
    "set creation"
   ]
  },
  {
   "cell_type": "code",
   "execution_count": 1,
   "id": "66d18725-134c-4296-a356-8c6644d053d3",
   "metadata": {},
   "outputs": [
    {
     "ename": "SyntaxError",
     "evalue": "invalid syntax (282184762.py, line 1)",
     "output_type": "error",
     "traceback": [
      "\u001b[1;36m  Cell \u001b[1;32mIn[1], line 1\u001b[1;36m\u001b[0m\n\u001b[1;33m    my set={1,2,3,4}\u001b[0m\n\u001b[1;37m       ^\u001b[0m\n\u001b[1;31mSyntaxError\u001b[0m\u001b[1;31m:\u001b[0m invalid syntax\n"
     ]
    }
   ],
   "source": [
    "my set={1,2,3,4}"
   ]
  },
  {
   "cell_type": "code",
   "execution_count": 6,
   "id": "aa0a7ff5-1331-47da-b92c-af91f65c8a94",
   "metadata": {},
   "outputs": [],
   "source": [
    "myset = {1,2,3,4,5} #number of set"
   ]
  },
  {
   "cell_type": "code",
   "execution_count": 7,
   "id": "1a101a34-58f3-4d0f-b79f-d93fe2036ae6",
   "metadata": {},
   "outputs": [
    {
     "data": {
      "text/plain": [
       "{1, 2, 3, 4, 5}"
      ]
     },
     "execution_count": 7,
     "metadata": {},
     "output_type": "execute_result"
    }
   ],
   "source": [
    "myset"
   ]
  },
  {
   "cell_type": "code",
   "execution_count": 9,
   "id": "34adf1b0-7425-412c-8ffe-cbcde4137f2f",
   "metadata": {},
   "outputs": [
    {
     "data": {
      "text/plain": [
       "5"
      ]
     },
     "execution_count": 9,
     "metadata": {},
     "output_type": "execute_result"
    }
   ],
   "source": [
    "len(myset) #len of my set"
   ]
  },
  {
   "cell_type": "code",
   "execution_count": 10,
   "id": "280edd92-b17f-4196-8a16-02aa0a7b6b98",
   "metadata": {},
   "outputs": [],
   "source": [
    "my_set ={1,1,1,2,2,3,3,4,5}"
   ]
  },
  {
   "cell_type": "code",
   "execution_count": 12,
   "id": "f017e18a-2468-4afd-bb6c-696ab889193b",
   "metadata": {},
   "outputs": [
    {
     "data": {
      "text/plain": [
       "{1, 2, 3, 4, 5}"
      ]
     },
     "execution_count": 12,
     "metadata": {},
     "output_type": "execute_result"
    }
   ],
   "source": [
    "my_set #duplicate not allowed"
   ]
  },
  {
   "cell_type": "code",
   "execution_count": 13,
   "id": "06dabd54-44ec-447a-82b0-fdab82359ed2",
   "metadata": {},
   "outputs": [],
   "source": [
    "my_set1={1.79,2.08,3.99,4.56,5.45} # Set of float number"
   ]
  },
  {
   "cell_type": "code",
   "execution_count": 27,
   "id": "0ddcd601-6ea6-4337-b095-9d7d05943a4e",
   "metadata": {},
   "outputs": [
    {
     "data": {
      "text/plain": [
       "{1.79, 2.08, 3.99, 4.56, 5.45}"
      ]
     },
     "execution_count": 27,
     "metadata": {},
     "output_type": "execute_result"
    }
   ],
   "source": [
    "my_set1"
   ]
  },
  {
   "cell_type": "code",
   "execution_count": 16,
   "id": "f58a2987-69b9-48ee-8aa4-dc10bbdb94ec",
   "metadata": {},
   "outputs": [],
   "source": [
    "my_set2={\"Asif\",\"John\",\"tyrion\"} #set of string\n"
   ]
  },
  {
   "cell_type": "code",
   "execution_count": 17,
   "id": "7f41f02f-2fea-4cf0-9a83-1aaf1b03e6f0",
   "metadata": {},
   "outputs": [
    {
     "data": {
      "text/plain": [
       "{'Asif', 'John', 'tyrion'}"
      ]
     },
     "execution_count": 17,
     "metadata": {},
     "output_type": "execute_result"
    }
   ],
   "source": [
    "my_set2"
   ]
  },
  {
   "cell_type": "code",
   "execution_count": 18,
   "id": "2dd99033-e7fb-4cc9-833f-54ad4e14c104",
   "metadata": {},
   "outputs": [],
   "source": [
    "my_set3 = {10,20, \"Hola\", (11, 22, 32)} # Mixed datatypes"
   ]
  },
  {
   "cell_type": "code",
   "execution_count": 19,
   "id": "d7e71aba-7ed9-4b06-80eb-041a3df022bf",
   "metadata": {},
   "outputs": [
    {
     "data": {
      "text/plain": [
       "{(11, 22, 32), 10, 20, 'Hola'}"
      ]
     },
     "execution_count": 19,
     "metadata": {},
     "output_type": "execute_result"
    }
   ],
   "source": [
    "my_set3"
   ]
  },
  {
   "cell_type": "code",
   "execution_count": 20,
   "id": "ffae6916-648f-4fd4-a984-2235f229a024",
   "metadata": {},
   "outputs": [
    {
     "ename": "TypeError",
     "evalue": "unhashable type: 'list'",
     "output_type": "error",
     "traceback": [
      "\u001b[1;31m---------------------------------------------------------------------------\u001b[0m",
      "\u001b[1;31mTypeError\u001b[0m                                 Traceback (most recent call last)",
      "Cell \u001b[1;32mIn[20], line 1\u001b[0m\n\u001b[1;32m----> 1\u001b[0m myset3 \u001b[38;5;241m=\u001b[39m {\u001b[38;5;241m10\u001b[39m,\u001b[38;5;241m20\u001b[39m, \u001b[38;5;124m\"\u001b[39m\u001b[38;5;124mHola\u001b[39m\u001b[38;5;124m\"\u001b[39m, [\u001b[38;5;241m11\u001b[39m, \u001b[38;5;241m22\u001b[39m, \u001b[38;5;241m32\u001b[39m]}\n",
      "\u001b[1;31mTypeError\u001b[0m: unhashable type: 'list'"
     ]
    }
   ],
   "source": [
    "myset3 = {10,20, \"Hola\", [11, 22, 32]} # set doesn't allow mutable items like lt"
   ]
  },
  {
   "cell_type": "code",
   "execution_count": 24,
   "id": "cecf275c-0005-4cfb-b001-6b13843ee245",
   "metadata": {},
   "outputs": [],
   "source": [
    "myset4= set() #create a empty set"
   ]
  },
  {
   "cell_type": "code",
   "execution_count": 26,
   "id": "1a73aa79-5b93-4e1a-90f7-1cacf73ae42b",
   "metadata": {},
   "outputs": [
    {
     "name": "stdout",
     "output_type": "stream",
     "text": [
      "<class 'set'>\n"
     ]
    }
   ],
   "source": [
    "print(type(myset4)) #chek the type of set"
   ]
  },
  {
   "cell_type": "code",
   "execution_count": 3,
   "id": "a6ca02e2-ad6a-4f7a-bbdb-d60a803765d2",
   "metadata": {},
   "outputs": [],
   "source": [
    "myset1 =set((\"one\",\"two\",\"three\",\"four\"))"
   ]
  },
  {
   "cell_type": "code",
   "execution_count": 4,
   "id": "a443924b-9efe-4b1b-b5ba-e730a5a62255",
   "metadata": {},
   "outputs": [
    {
     "data": {
      "text/plain": [
       "{'four', 'one', 'three', 'two'}"
      ]
     },
     "execution_count": 4,
     "metadata": {},
     "output_type": "execute_result"
    }
   ],
   "source": [
    "myset1"
   ]
  },
  {
   "cell_type": "code",
   "execution_count": 5,
   "id": "78a8b1e6-7898-4812-bfd9-591e478bb968",
   "metadata": {},
   "outputs": [],
   "source": [
    "##loop through a set"
   ]
  },
  {
   "cell_type": "code",
   "execution_count": 6,
   "id": "09b402bc-ddb5-4645-ac1e-7a3514bd682c",
   "metadata": {},
   "outputs": [],
   "source": [
    "myset = {\"one\",\"two\",\"three\",\"four\",\"five\",\"six\",\"seven\",\"eight\"}"
   ]
  },
  {
   "cell_type": "code",
   "execution_count": 9,
   "id": "4578c249-67e6-49bd-9895-895ff8c3b572",
   "metadata": {},
   "outputs": [
    {
     "name": "stdout",
     "output_type": "stream",
     "text": [
      "three\n",
      "seven\n",
      "eight\n",
      "six\n",
      "five\n",
      "four\n",
      "one\n",
      "two\n"
     ]
    }
   ],
   "source": [
    "for i in myset:\n",
    "    print(i)"
   ]
  },
  {
   "cell_type": "code",
   "execution_count": 10,
   "id": "7546f62a-5fb6-44cf-86a8-fbf3949020ff",
   "metadata": {},
   "outputs": [
    {
     "name": "stdout",
     "output_type": "stream",
     "text": [
      "(0, 'three')\n",
      "(1, 'seven')\n",
      "(2, 'eight')\n",
      "(3, 'six')\n",
      "(4, 'five')\n",
      "(5, 'four')\n",
      "(6, 'one')\n",
      "(7, 'two')\n"
     ]
    }
   ],
   "source": [
    "for i in enumerate(myset):\n",
    "    print(i)"
   ]
  },
  {
   "cell_type": "code",
   "execution_count": 11,
   "id": "8fefa6e3-9b0c-4aa7-9f7a-9df4fea8f7f9",
   "metadata": {},
   "outputs": [],
   "source": [
    "##set membership"
   ]
  },
  {
   "cell_type": "code",
   "execution_count": 14,
   "id": "70e102d5-4eb4-4519-85a8-e8a83bb03f27",
   "metadata": {},
   "outputs": [
    {
     "data": {
      "text/plain": [
       "{'eight', 'five', 'four', 'one', 'seven', 'six', 'three', 'two'}"
      ]
     },
     "execution_count": 14,
     "metadata": {},
     "output_type": "execute_result"
    }
   ],
   "source": [
    "myset"
   ]
  },
  {
   "cell_type": "code",
   "execution_count": 15,
   "id": "8ae7d45e-24b7-46f8-b566-22155a96a1ac",
   "metadata": {},
   "outputs": [
    {
     "data": {
      "text/plain": [
       "True"
      ]
     },
     "execution_count": 15,
     "metadata": {},
     "output_type": "execute_result"
    }
   ],
   "source": [
    "\"one\" in myset"
   ]
  },
  {
   "cell_type": "code",
   "execution_count": 16,
   "id": "98ad991b-0a3f-4d76-bedb-96ddc8dd17d0",
   "metadata": {},
   "outputs": [
    {
     "data": {
      "text/plain": [
       "True"
      ]
     },
     "execution_count": 16,
     "metadata": {},
     "output_type": "execute_result"
    }
   ],
   "source": [
    "\"two\"in myset"
   ]
  },
  {
   "cell_type": "code",
   "execution_count": 20,
   "id": "ec8d5cc0-25f4-4ee6-af8a-5d4bed04da38",
   "metadata": {},
   "outputs": [
    {
     "data": {
      "text/plain": [
       "False"
      ]
     },
     "execution_count": 20,
     "metadata": {},
     "output_type": "execute_result"
    }
   ],
   "source": [
    "\"ten\" in myset"
   ]
  },
  {
   "cell_type": "markdown",
   "id": "85f23b74-5600-468b-bbcf-8a0589575857",
   "metadata": {},
   "source": [
    "#add or remove items"
   ]
  },
  {
   "cell_type": "code",
   "execution_count": 2,
   "id": "873d8d53-aafc-4e11-9334-a110e3d3db9c",
   "metadata": {},
   "outputs": [],
   "source": [
    "myset = {\"one\",\"two\",\"three\",\"four\",\"five\",\"six\",\"seven\",\"eight\"}"
   ]
  },
  {
   "cell_type": "code",
   "execution_count": 3,
   "id": "114f1547-b15e-4f0c-bc6f-ae2c00e9188e",
   "metadata": {},
   "outputs": [
    {
     "data": {
      "text/plain": [
       "{'eight', 'five', 'four', 'one', 'seven', 'six', 'three', 'two'}"
      ]
     },
     "execution_count": 3,
     "metadata": {},
     "output_type": "execute_result"
    }
   ],
   "source": [
    "myset"
   ]
  },
  {
   "cell_type": "code",
   "execution_count": 5,
   "id": "6493a38b-d3f0-4b03-b392-f08c9fd56b6e",
   "metadata": {},
   "outputs": [],
   "source": [
    "myset.add(\"nine\")"
   ]
  },
  {
   "cell_type": "code",
   "execution_count": 6,
   "id": "03d230a9-bc93-4ee6-a2a8-501cf3712a1d",
   "metadata": {},
   "outputs": [
    {
     "data": {
      "text/plain": [
       "{'eight', 'five', 'four', 'nine', 'one', 'seven', 'six', 'three', 'two'}"
      ]
     },
     "execution_count": 6,
     "metadata": {},
     "output_type": "execute_result"
    }
   ],
   "source": [
    "myset"
   ]
  },
  {
   "cell_type": "code",
   "execution_count": 7,
   "id": "c177d343-45e4-4699-8268-cfa714c2e0c8",
   "metadata": {},
   "outputs": [],
   "source": [
    "myset.add('nine')"
   ]
  },
  {
   "cell_type": "code",
   "execution_count": 8,
   "id": "6af3133c-2bdd-4ec8-a0d7-0cf4ac85fb48",
   "metadata": {},
   "outputs": [
    {
     "data": {
      "text/plain": [
       "{'eight', 'five', 'four', 'nine', 'one', 'seven', 'six', 'three', 'two'}"
      ]
     },
     "execution_count": 8,
     "metadata": {},
     "output_type": "execute_result"
    }
   ],
   "source": [
    "myset"
   ]
  },
  {
   "cell_type": "code",
   "execution_count": 9,
   "id": "68884c32-ee70-40a8-9143-7851f1c33544",
   "metadata": {},
   "outputs": [],
   "source": [
    "myset.add(\"ten\")"
   ]
  },
  {
   "cell_type": "code",
   "execution_count": 10,
   "id": "1ad48155-c8d6-4f4c-83d6-d4c9f9c3f01a",
   "metadata": {},
   "outputs": [
    {
     "data": {
      "text/plain": [
       "{'eight', 'five', 'four', 'nine', 'one', 'seven', 'six', 'ten', 'three', 'two'}"
      ]
     },
     "execution_count": 10,
     "metadata": {},
     "output_type": "execute_result"
    }
   ],
   "source": [
    "myset"
   ]
  },
  {
   "cell_type": "code",
   "execution_count": 1,
   "id": "215aeb97-cca3-4215-a364-e3a900eb6e6d",
   "metadata": {},
   "outputs": [],
   "source": [
    "myset = {'eight', 'five', 'four', 'nine', 'one', 'seven', 'six', 'ten', 'three', 'two'}\n"
   ]
  },
  {
   "cell_type": "code",
   "execution_count": 2,
   "id": "41e8e55d-8a88-4fdc-8036-984ce0098460",
   "metadata": {},
   "outputs": [
    {
     "data": {
      "text/plain": [
       "{'eight', 'five', 'four', 'nine', 'one', 'seven', 'six', 'ten', 'three', 'two'}"
      ]
     },
     "execution_count": 2,
     "metadata": {},
     "output_type": "execute_result"
    }
   ],
   "source": [
    "myset"
   ]
  },
  {
   "cell_type": "code",
   "execution_count": 3,
   "id": "0d0d086b-9e80-452b-a44c-92acae30e622",
   "metadata": {},
   "outputs": [],
   "source": [
    "myset.update(['ten','elevan','twelve'])"
   ]
  },
  {
   "cell_type": "code",
   "execution_count": 4,
   "id": "6a598c23-db2c-4bea-8aea-3473582f32f2",
   "metadata": {},
   "outputs": [
    {
     "data": {
      "text/plain": [
       "{'eight',\n",
       " 'elevan',\n",
       " 'five',\n",
       " 'four',\n",
       " 'nine',\n",
       " 'one',\n",
       " 'seven',\n",
       " 'six',\n",
       " 'ten',\n",
       " 'three',\n",
       " 'twelve',\n",
       " 'two'}"
      ]
     },
     "execution_count": 4,
     "metadata": {},
     "output_type": "execute_result"
    }
   ],
   "source": [
    "myset"
   ]
  },
  {
   "cell_type": "code",
   "execution_count": 5,
   "id": "d130b3cc-f64e-4bb4-b6b6-8783a4723fa7",
   "metadata": {},
   "outputs": [],
   "source": [
    "myset.remove('nine')"
   ]
  },
  {
   "cell_type": "code",
   "execution_count": 6,
   "id": "1f26f738-f4c6-4966-9bd9-658d58466be5",
   "metadata": {},
   "outputs": [
    {
     "data": {
      "text/plain": [
       "{'eight',\n",
       " 'elevan',\n",
       " 'five',\n",
       " 'four',\n",
       " 'one',\n",
       " 'seven',\n",
       " 'six',\n",
       " 'ten',\n",
       " 'three',\n",
       " 'twelve',\n",
       " 'two'}"
      ]
     },
     "execution_count": 6,
     "metadata": {},
     "output_type": "execute_result"
    }
   ],
   "source": [
    "myset"
   ]
  },
  {
   "cell_type": "code",
   "execution_count": 7,
   "id": "29df692a-40c4-4b9c-8112-29157e44a6ef",
   "metadata": {},
   "outputs": [],
   "source": [
    "myset.discard('ten')"
   ]
  },
  {
   "cell_type": "code",
   "execution_count": 8,
   "id": "663d3eb7-85dc-4451-a703-9b6c8606cdbb",
   "metadata": {},
   "outputs": [
    {
     "data": {
      "text/plain": [
       "{'eight',\n",
       " 'elevan',\n",
       " 'five',\n",
       " 'four',\n",
       " 'one',\n",
       " 'seven',\n",
       " 'six',\n",
       " 'three',\n",
       " 'twelve',\n",
       " 'two'}"
      ]
     },
     "execution_count": 8,
     "metadata": {},
     "output_type": "execute_result"
    }
   ],
   "source": [
    "myset"
   ]
  },
  {
   "cell_type": "code",
   "execution_count": 10,
   "id": "f7a077e7-f539-408a-9d18-70f4f31b6a32",
   "metadata": {},
   "outputs": [],
   "source": [
    "myset.clear()"
   ]
  },
  {
   "cell_type": "code",
   "execution_count": 11,
   "id": "55bfcc63-ddd4-475a-8d95-a52dfd9a0a23",
   "metadata": {},
   "outputs": [
    {
     "data": {
      "text/plain": [
       "set()"
      ]
     },
     "execution_count": 11,
     "metadata": {},
     "output_type": "execute_result"
    }
   ],
   "source": [
    "myset"
   ]
  },
  {
   "cell_type": "code",
   "execution_count": 12,
   "id": "5becccfa-5cd2-426b-aece-441dbbe1947f",
   "metadata": {},
   "outputs": [],
   "source": [
    "del myset"
   ]
  },
  {
   "cell_type": "code",
   "execution_count": 13,
   "id": "d8b9dcfe-3778-4abb-9c4c-b46f4ac72a4c",
   "metadata": {},
   "outputs": [
    {
     "ename": "NameError",
     "evalue": "name 'myset' is not defined",
     "output_type": "error",
     "traceback": [
      "\u001b[1;31m---------------------------------------------------------------------------\u001b[0m",
      "\u001b[1;31mNameError\u001b[0m                                 Traceback (most recent call last)",
      "Cell \u001b[1;32mIn[13], line 1\u001b[0m\n\u001b[1;32m----> 1\u001b[0m myset\n",
      "\u001b[1;31mNameError\u001b[0m: name 'myset' is not defined"
     ]
    }
   ],
   "source": [
    "myset"
   ]
  },
  {
   "cell_type": "markdown",
   "id": "8bae8e68-3772-42ed-9e4d-7b1dca59ffdb",
   "metadata": {},
   "source": [
    "copy set"
   ]
  },
  {
   "cell_type": "code",
   "execution_count": 14,
   "id": "3d4cc200-5dc1-4a26-96b9-d182b7c71c11",
   "metadata": {},
   "outputs": [],
   "source": [
    "myset = {'one', 'two', 'three', 'four', 'five', 'six', 'seven', 'eight'}"
   ]
  },
  {
   "cell_type": "code",
   "execution_count": 15,
   "id": "262e416c-bcb6-467c-aa09-ed5c182d3ebc",
   "metadata": {},
   "outputs": [
    {
     "data": {
      "text/plain": [
       "{'eight', 'five', 'four', 'one', 'seven', 'six', 'three', 'two'}"
      ]
     },
     "execution_count": 15,
     "metadata": {},
     "output_type": "execute_result"
    }
   ],
   "source": [
    "myset"
   ]
  },
  {
   "cell_type": "code",
   "execution_count": 17,
   "id": "bf09ef1c-c062-47f0-9961-7b57f61bccfb",
   "metadata": {},
   "outputs": [],
   "source": [
    "myset1=myset #create a new refrance of myset"
   ]
  },
  {
   "cell_type": "code",
   "execution_count": 18,
   "id": "5b1a7a27-6a7f-406b-8552-16e6828c9b2a",
   "metadata": {},
   "outputs": [
    {
     "data": {
      "text/plain": [
       "(2954459434560, 2954459434560)"
      ]
     },
     "execution_count": 18,
     "metadata": {},
     "output_type": "execute_result"
    }
   ],
   "source": [
    "id(myset),id(myset1)"
   ]
  },
  {
   "cell_type": "code",
   "execution_count": 21,
   "id": "933f0458-a250-41c7-ac66-333fcd5c68dd",
   "metadata": {},
   "outputs": [],
   "source": [
    "my_set = myset.copy() #CREATE A COPY OF LIST"
   ]
  },
  {
   "cell_type": "code",
   "execution_count": 22,
   "id": "bb5dfd10-1c08-4df3-ab6e-948b7c2b41f9",
   "metadata": {},
   "outputs": [
    {
     "data": {
      "text/plain": [
       "{'eight', 'five', 'four', 'one', 'seven', 'six', 'three', 'two'}"
      ]
     },
     "execution_count": 22,
     "metadata": {},
     "output_type": "execute_result"
    }
   ],
   "source": [
    "my_set"
   ]
  },
  {
   "cell_type": "code",
   "execution_count": 23,
   "id": "ab250210-a76f-4651-b54d-7dae163d94c9",
   "metadata": {},
   "outputs": [
    {
     "data": {
      "text/plain": [
       "2954459441728"
      ]
     },
     "execution_count": 23,
     "metadata": {},
     "output_type": "execute_result"
    }
   ],
   "source": [
    "id(my_set)"
   ]
  },
  {
   "cell_type": "code",
   "execution_count": 24,
   "id": "af457a82-7eed-46ce-a659-49d8c7de97bf",
   "metadata": {},
   "outputs": [],
   "source": [
    "myset.add('nine')"
   ]
  },
  {
   "cell_type": "code",
   "execution_count": 25,
   "id": "5e814fa8-3253-4f9e-bda6-601dcb66544a",
   "metadata": {},
   "outputs": [
    {
     "data": {
      "text/plain": [
       "{'eight', 'five', 'four', 'nine', 'one', 'seven', 'six', 'three', 'two'}"
      ]
     },
     "execution_count": 25,
     "metadata": {},
     "output_type": "execute_result"
    }
   ],
   "source": [
    "myset"
   ]
  },
  {
   "cell_type": "code",
   "execution_count": 26,
   "id": "e6df88e3-84a2-4a9d-927b-2372d0e5e2e0",
   "metadata": {},
   "outputs": [
    {
     "data": {
      "text/plain": [
       "{'eight', 'five', 'four', 'nine', 'one', 'seven', 'six', 'three', 'two'}"
      ]
     },
     "execution_count": 26,
     "metadata": {},
     "output_type": "execute_result"
    }
   ],
   "source": [
    "myset1 #change in orignal is also change "
   ]
  },
  {
   "cell_type": "code",
   "execution_count": 27,
   "id": "ebdfb537-9dfe-4ce8-9e59-7276b1b7750b",
   "metadata": {},
   "outputs": [
    {
     "data": {
      "text/plain": [
       "{'eight', 'five', 'four', 'one', 'seven', 'six', 'three', 'two'}"
      ]
     },
     "execution_count": 27,
     "metadata": {},
     "output_type": "execute_result"
    }
   ],
   "source": [
    "my_set #t won't be impacted due to changes made on the original "
   ]
  },
  {
   "cell_type": "code",
   "execution_count": 28,
   "id": "3d379970-41f1-405f-95ff-ec5db0f34c0d",
   "metadata": {},
   "outputs": [],
   "source": [
    "#set operation"
   ]
  },
  {
   "cell_type": "markdown",
   "id": "ce1d5053-3792-40f8-b961-27e011c39448",
   "metadata": {},
   "source": [
    "union\n"
   ]
  },
  {
   "cell_type": "code",
   "execution_count": 30,
   "id": "9f9cc365-95e2-4d64-b7fd-f56795eac3e5",
   "metadata": {},
   "outputs": [],
   "source": [
    "A = {1,2,3,4,5} \n",
    "B = {4,5,6,7,8} \n",
    "C = {8,9,10}"
   ]
  },
  {
   "cell_type": "code",
   "execution_count": 32,
   "id": "42b74c0a-6e47-474d-8810-6533393835a0",
   "metadata": {},
   "outputs": [
    {
     "data": {
      "text/plain": [
       "{1, 2, 3, 4, 5, 6, 7, 8}"
      ]
     },
     "execution_count": 32,
     "metadata": {},
     "output_type": "execute_result"
    }
   ],
   "source": [
    "A|B # Union of A and B (All elements from both sets. NO DUPLICATES"
   ]
  },
  {
   "cell_type": "code",
   "execution_count": 33,
   "id": "cc01034a-817b-428b-87ac-7e5a6e70cf60",
   "metadata": {},
   "outputs": [
    {
     "data": {
      "text/plain": [
       "{1, 2, 3, 4, 5, 6, 7, 8}"
      ]
     },
     "execution_count": 33,
     "metadata": {},
     "output_type": "execute_result"
    }
   ],
   "source": [
    "A.union(B)"
   ]
  },
  {
   "cell_type": "code",
   "execution_count": 34,
   "id": "7333a405-a2e2-4f02-a2b7-9b2e5bdbeca8",
   "metadata": {},
   "outputs": [
    {
     "data": {
      "text/plain": [
       "{1, 2, 3, 4, 5, 6, 7, 8, 9, 10}"
      ]
     },
     "execution_count": 34,
     "metadata": {},
     "output_type": "execute_result"
    }
   ],
   "source": [
    "A.union(B,C)"
   ]
  },
  {
   "cell_type": "code",
   "execution_count": 36,
   "id": "9c08f3e8-6205-4369-ad00-9bff0e6d684f",
   "metadata": {},
   "outputs": [
    {
     "data": {
      "text/plain": [
       "{1, 2, 3, 4, 5, 6, 7, 8, 9, 10}"
      ]
     },
     "execution_count": 36,
     "metadata": {},
     "output_type": "execute_result"
    }
   ],
   "source": [
    "\"\"\" Updates the set calling the update() method with union of A , B & C. \n",
    " \n",
    "For below example Set A will be updated with union of A,B & C. \"\"\"\n",
    "\n",
    "\n",
    "A.update(B,C)\n",
    "A"
   ]
  },
  {
   "cell_type": "markdown",
   "id": "90648721-1760-4d05-9265-a64f3e30f5d8",
   "metadata": {},
   "source": [
    "Intersection "
   ]
  },
  {
   "cell_type": "code",
   "execution_count": 37,
   "id": "476b40b1-bd11-4f80-bded-5003808dd642",
   "metadata": {},
   "outputs": [],
   "source": [
    "A = {1,2,3,4,5} \n",
    "B = {4,5,6,7,8}"
   ]
  },
  {
   "cell_type": "code",
   "execution_count": 38,
   "id": "a1183d89-8632-479d-99e5-5b915fbc0322",
   "metadata": {},
   "outputs": [
    {
     "data": {
      "text/plain": [
       "{4, 5}"
      ]
     },
     "execution_count": 38,
     "metadata": {},
     "output_type": "execute_result"
    }
   ],
   "source": [
    "A&B"
   ]
  },
  {
   "cell_type": "code",
   "execution_count": 40,
   "id": "84c27525-c01b-46c5-98a2-4c6d329e1984",
   "metadata": {},
   "outputs": [
    {
     "data": {
      "text/plain": [
       "{4, 5}"
      ]
     },
     "execution_count": 40,
     "metadata": {},
     "output_type": "execute_result"
    }
   ],
   "source": [
    "A.intersection(B)"
   ]
  },
  {
   "cell_type": "markdown",
   "id": "63a62a1e-06a0-4e2c-a47b-4cb0207829dc",
   "metadata": {},
   "source": [
    "Difference"
   ]
  },
  {
   "cell_type": "code",
   "execution_count": 41,
   "id": "618f1473-82f6-4c6f-91e1-a5bedc6afc3d",
   "metadata": {},
   "outputs": [],
   "source": [
    "A = {1,2,3,4,5} \n",
    "B = {4,5,6,7,8} "
   ]
  },
  {
   "cell_type": "code",
   "execution_count": 43,
   "id": "1431e832-f6b1-4d16-99f5-bdd7a4da02bf",
   "metadata": {},
   "outputs": [
    {
     "data": {
      "text/plain": [
       "{1, 2, 3}"
      ]
     },
     "execution_count": 43,
     "metadata": {},
     "output_type": "execute_result"
    }
   ],
   "source": [
    "A - B # set of elements that are only in A but not in B"
   ]
  },
  {
   "cell_type": "code",
   "execution_count": 44,
   "id": "5116bf8e-c88a-4165-9dba-e9478792b2ac",
   "metadata": {},
   "outputs": [
    {
     "data": {
      "text/plain": [
       "{1, 2, 3}"
      ]
     },
     "execution_count": 44,
     "metadata": {},
     "output_type": "execute_result"
    }
   ],
   "source": [
    "A.difference(B)"
   ]
  },
  {
   "cell_type": "code",
   "execution_count": 47,
   "id": "7e9ed284-ac4f-4de0-a6b3-f20ca2ecf722",
   "metadata": {},
   "outputs": [
    {
     "data": {
      "text/plain": [
       "{6, 7, 8}"
      ]
     },
     "execution_count": 47,
     "metadata": {},
     "output_type": "execute_result"
    }
   ],
   "source": [
    "B -A # set of elements that are only in A but not in B"
   ]
  },
  {
   "cell_type": "code",
   "execution_count": 46,
   "id": "1c861b1c-5cec-4979-a228-768d1b4d2b39",
   "metadata": {},
   "outputs": [
    {
     "data": {
      "text/plain": [
       "{6, 7, 8}"
      ]
     },
     "execution_count": 46,
     "metadata": {},
     "output_type": "execute_result"
    }
   ],
   "source": [
    "B.difference(A)"
   ]
  },
  {
   "cell_type": "markdown",
   "id": "c5d54ebf-fb2f-4417-a5ed-02d9a047a6e9",
   "metadata": {},
   "source": [
    "Symmetric Difference\n"
   ]
  },
  {
   "cell_type": "code",
   "execution_count": 48,
   "id": "50696e18-c279-48d5-a257-c165e370d6d6",
   "metadata": {},
   "outputs": [],
   "source": [
    "A = {1,2,3,4,5} \n",
    "B = {4,5,6,7,8} "
   ]
  },
  {
   "cell_type": "code",
   "execution_count": 49,
   "id": "10986ba1-7817-4eec-8f2a-351ef0f59bc6",
   "metadata": {},
   "outputs": [
    {
     "data": {
      "text/plain": [
       "{1, 2, 3, 6, 7, 8}"
      ]
     },
     "execution_count": 49,
     "metadata": {},
     "output_type": "execute_result"
    }
   ],
   "source": [
    "A ^ B # Symmetric difference (Set of elements in A and B but not in both)"
   ]
  },
  {
   "cell_type": "code",
   "execution_count": 51,
   "id": "c496fdfa-0929-4286-8f13-825243d60a1b",
   "metadata": {},
   "outputs": [
    {
     "data": {
      "text/plain": [
       "{1, 2, 3, 6, 7, 8}"
      ]
     },
     "execution_count": 51,
     "metadata": {},
     "output_type": "execute_result"
    }
   ],
   "source": [
    "A.symmetric_difference(B) # Symmetric difference of sets"
   ]
  },
  {
   "cell_type": "code",
   "execution_count": 52,
   "id": "187c65d6-a46b-4ac6-82a1-141d6feb9991",
   "metadata": {},
   "outputs": [
    {
     "data": {
      "text/plain": [
       "{1, 2, 3, 6, 7, 8}"
      ]
     },
     "execution_count": 52,
     "metadata": {},
     "output_type": "execute_result"
    }
   ],
   "source": [
    "\"\"\" Updates the set calling the symmetric_difference_update() method with the symmet \n",
    " \n",
    "For below example Set A will be updated with the symmetric difference of A & B. \"\"\" \n",
    " \n",
    "A.symmetric_difference_update(B)\n",
    "A "
   ]
  },
  {
   "cell_type": "code",
   "execution_count": 53,
   "id": "78884ab9-0921-4db2-963e-466696def046",
   "metadata": {},
   "outputs": [],
   "source": [
    "A = {1,2,3,4,5,6,7,8,9} \n",
    "B = {3,4,5,6,7,8} \n",
    "C = {10,20,30,40} "
   ]
  },
  {
   "cell_type": "code",
   "execution_count": 56,
   "id": "c2ce4cc0-15e3-4497-8d7c-f869bac0a199",
   "metadata": {},
   "outputs": [
    {
     "data": {
      "text/plain": [
       "True"
      ]
     },
     "execution_count": 56,
     "metadata": {},
     "output_type": "execute_result"
    }
   ],
   "source": [
    "B.issubset(A)  # Set B is said to be the subset of set A if all elements of B are"
   ]
  },
  {
   "cell_type": "code",
   "execution_count": 57,
   "id": "52ac34ac-6581-4338-a44f-e9748147aa1e",
   "metadata": {},
   "outputs": [
    {
     "data": {
      "text/plain": [
       "True"
      ]
     },
     "execution_count": 57,
     "metadata": {},
     "output_type": "execute_result"
    }
   ],
   "source": [
    "A.issuperset(B) # Set A is said to be the superset of set B if all elements of B "
   ]
  },
  {
   "cell_type": "code",
   "execution_count": 58,
   "id": "f25a3216-3c97-4a1f-837b-a5b62f7a1720",
   "metadata": {},
   "outputs": [
    {
     "data": {
      "text/plain": [
       "True"
      ]
     },
     "execution_count": 58,
     "metadata": {},
     "output_type": "execute_result"
    }
   ],
   "source": [
    "C.isdisjoint(A) # Two sets are said to be disjoint sets if they have no common "
   ]
  },
  {
   "cell_type": "code",
   "execution_count": 59,
   "id": "39ef6623-a6a8-4cb7-840f-aa8286c88138",
   "metadata": {},
   "outputs": [
    {
     "data": {
      "text/plain": [
       "False"
      ]
     },
     "execution_count": 59,
     "metadata": {},
     "output_type": "execute_result"
    }
   ],
   "source": [
    "B.isdisjoint(A) # Two sets are said to be disjoint sets if they have no common "
   ]
  },
  {
   "cell_type": "markdown",
   "id": "14ff2c7d-3f2e-45c6-9201-e3c4fc127487",
   "metadata": {},
   "source": [
    "Other Builtin functions \n"
   ]
  },
  {
   "cell_type": "code",
   "execution_count": 60,
   "id": "8c9542ce-3e5e-4f47-84f5-eaefb30859d8",
   "metadata": {},
   "outputs": [
    {
     "data": {
      "text/plain": [
       "{1, 2, 3, 4, 5, 6, 7, 8, 9}"
      ]
     },
     "execution_count": 60,
     "metadata": {},
     "output_type": "execute_result"
    }
   ],
   "source": [
    "A"
   ]
  },
  {
   "cell_type": "code",
   "execution_count": 61,
   "id": "b68c52dd-d576-4bf3-86f6-aaf641b3ae21",
   "metadata": {},
   "outputs": [
    {
     "data": {
      "text/plain": [
       "45"
      ]
     },
     "execution_count": 61,
     "metadata": {},
     "output_type": "execute_result"
    }
   ],
   "source": [
    "sum(A)"
   ]
  },
  {
   "cell_type": "code",
   "execution_count": 62,
   "id": "5a4f4e1b-bbc6-4d36-b58e-d3e25febe42d",
   "metadata": {},
   "outputs": [
    {
     "data": {
      "text/plain": [
       "9"
      ]
     },
     "execution_count": 62,
     "metadata": {},
     "output_type": "execute_result"
    }
   ],
   "source": [
    "max(A)"
   ]
  },
  {
   "cell_type": "code",
   "execution_count": 63,
   "id": "30f86506-ffe6-4d5f-b4ec-5a778161966d",
   "metadata": {},
   "outputs": [
    {
     "data": {
      "text/plain": [
       "1"
      ]
     },
     "execution_count": 63,
     "metadata": {},
     "output_type": "execute_result"
    }
   ],
   "source": [
    "min(A)"
   ]
  },
  {
   "cell_type": "code",
   "execution_count": 64,
   "id": "1f5254b5-11f0-4ba7-8a12-b20f44624c97",
   "metadata": {},
   "outputs": [
    {
     "data": {
      "text/plain": [
       "9"
      ]
     },
     "execution_count": 64,
     "metadata": {},
     "output_type": "execute_result"
    }
   ],
   "source": [
    "len(A)"
   ]
  },
  {
   "cell_type": "code",
   "execution_count": 65,
   "id": "470e0951-d79e-4468-8d53-4f7117421ce9",
   "metadata": {},
   "outputs": [
    {
     "data": {
      "text/plain": [
       "[(0, 1), (1, 2), (2, 3), (3, 4), (4, 5), (5, 6), (6, 7), (7, 8), (8, 9)]"
      ]
     },
     "execution_count": 65,
     "metadata": {},
     "output_type": "execute_result"
    }
   ],
   "source": [
    "list(enumerate(A))"
   ]
  },
  {
   "cell_type": "code",
   "execution_count": 66,
   "id": "3c3d048f-08c2-48f8-83b6-7ce543cbd51f",
   "metadata": {},
   "outputs": [],
   "source": [
    "D = sorted(A,reverse=True)"
   ]
  },
  {
   "cell_type": "code",
   "execution_count": 67,
   "id": "2a755fd0-8bce-4b78-8f3e-f89dfdd10c2d",
   "metadata": {},
   "outputs": [
    {
     "data": {
      "text/plain": [
       "[9, 8, 7, 6, 5, 4, 3, 2, 1]"
      ]
     },
     "execution_count": 67,
     "metadata": {},
     "output_type": "execute_result"
    }
   ],
   "source": [
    "D"
   ]
  },
  {
   "cell_type": "code",
   "execution_count": 68,
   "id": "b891d380-7d04-4dcb-8561-e77bd4439a33",
   "metadata": {},
   "outputs": [
    {
     "data": {
      "text/plain": [
       "[1, 2, 3, 4, 5, 6, 7, 8, 9]"
      ]
     },
     "execution_count": 68,
     "metadata": {},
     "output_type": "execute_result"
    }
   ],
   "source": [
    "sorted(D)"
   ]
  },
  {
   "cell_type": "code",
   "execution_count": null,
   "id": "7c2e5474-0d99-4404-825c-4de6efae7916",
   "metadata": {},
   "outputs": [],
   "source": []
  }
 ],
 "metadata": {
  "kernelspec": {
   "display_name": "Python 3 (ipykernel)",
   "language": "python",
   "name": "python3"
  },
  "language_info": {
   "codemirror_mode": {
    "name": "ipython",
    "version": 3
   },
   "file_extension": ".py",
   "mimetype": "text/x-python",
   "name": "python",
   "nbconvert_exporter": "python",
   "pygments_lexer": "ipython3",
   "version": "3.12.4"
  }
 },
 "nbformat": 4,
 "nbformat_minor": 5
}
