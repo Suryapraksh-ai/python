{
 "cells": [
  {
   "cell_type": "code",
   "execution_count": 1,
   "id": "1b1723d4-a9a7-41d4-950a-959d066710b7",
   "metadata": {},
   "outputs": [
    {
     "name": "stdout",
     "output_type": "stream",
     "text": [
      "hello\n"
     ]
    }
   ],
   "source": [
    "print(\"hello\")"
   ]
  },
  {
   "cell_type": "code",
   "execution_count": 3,
   "id": "96e6c157-c365-4d38-ba6a-3b993c4d62ad",
   "metadata": {},
   "outputs": [],
   "source": [
    "list=[]"
   ]
  },
  {
   "cell_type": "code",
   "execution_count": 4,
   "id": "fefdb11c-5ea2-4d82-bd63-bd26bd17ded7",
   "metadata": {},
   "outputs": [],
   "source": [
    "list.append(10)"
   ]
  },
  {
   "cell_type": "code",
   "execution_count": 5,
   "id": "5fd158a7-ead7-4c6d-8e40-91cbde604c89",
   "metadata": {},
   "outputs": [
    {
     "data": {
      "text/plain": [
       "[10]"
      ]
     },
     "execution_count": 5,
     "metadata": {},
     "output_type": "execute_result"
    }
   ],
   "source": [
    "list"
   ]
  },
  {
   "cell_type": "code",
   "execution_count": 6,
   "id": "9fc6e93b-613a-42af-96cc-743e732b16a3",
   "metadata": {},
   "outputs": [],
   "source": [
    "list.append(20)"
   ]
  },
  {
   "cell_type": "code",
   "execution_count": 7,
   "id": "117fe4cb-1764-4a9f-8a4f-af1d92d71d0d",
   "metadata": {},
   "outputs": [],
   "source": [
    "list.append(30)"
   ]
  },
  {
   "cell_type": "code",
   "execution_count": 8,
   "id": "46ad3d8c-324e-4a2f-ba51-d8cbdb22e70e",
   "metadata": {},
   "outputs": [],
   "source": [
    "list.append(40)"
   ]
  },
  {
   "cell_type": "code",
   "execution_count": 9,
   "id": "c229d19b-55b1-4054-a985-a7b91cddd6a0",
   "metadata": {},
   "outputs": [
    {
     "data": {
      "text/plain": [
       "[10, 20, 30, 40]"
      ]
     },
     "execution_count": 9,
     "metadata": {},
     "output_type": "execute_result"
    }
   ],
   "source": [
    "list"
   ]
  },
  {
   "cell_type": "code",
   "execution_count": 11,
   "id": "73726e52-dfba-4448-a654-efdadf2b89ba",
   "metadata": {},
   "outputs": [],
   "source": [
    "list.remove(20)"
   ]
  },
  {
   "cell_type": "code",
   "execution_count": 12,
   "id": "f5e09a44-36a1-451b-a6b4-c95c74aac2e4",
   "metadata": {},
   "outputs": [
    {
     "data": {
      "text/plain": [
       "[10, 30, 40]"
      ]
     },
     "execution_count": 12,
     "metadata": {},
     "output_type": "execute_result"
    }
   ],
   "source": [
    "list"
   ]
  },
  {
   "cell_type": "code",
   "execution_count": 14,
   "id": "08fc7f19-879c-4eb2-8b67-0029adbf70bc",
   "metadata": {},
   "outputs": [
    {
     "data": {
      "text/plain": [
       "30"
      ]
     },
     "execution_count": 14,
     "metadata": {},
     "output_type": "execute_result"
    }
   ],
   "source": [
    "list.pop(1)"
   ]
  },
  {
   "cell_type": "code",
   "execution_count": 15,
   "id": "4696f300-2d13-4b2d-b244-d688f136bcf8",
   "metadata": {},
   "outputs": [
    {
     "data": {
      "text/plain": [
       "[10, 40]"
      ]
     },
     "execution_count": 15,
     "metadata": {},
     "output_type": "execute_result"
    }
   ],
   "source": [
    "list"
   ]
  },
  {
   "cell_type": "code",
   "execution_count": 17,
   "id": "199c83e2-17cc-45c4-aa07-81ff157e9e86",
   "metadata": {},
   "outputs": [],
   "source": [
    "mylist = ['one' , 'two' , 'three' , 'four' , 'five' , 'six' , 'seven' , 'eight']"
   ]
  },
  {
   "cell_type": "code",
   "execution_count": 19,
   "id": "b3990d76-1b56-435c-a64b-defea40e99c6",
   "metadata": {},
   "outputs": [
    {
     "data": {
      "text/plain": [
       "['one', 'two', 'three']"
      ]
     },
     "execution_count": 19,
     "metadata": {},
     "output_type": "execute_result"
    }
   ],
   "source": [
    "mylist[0:3]"
   ]
  },
  {
   "cell_type": "code",
   "execution_count": 20,
   "id": "22de3623-80bb-45f4-8bdf-dc8089e90d50",
   "metadata": {},
   "outputs": [
    {
     "data": {
      "text/plain": [
       "['three', 'four', 'five']"
      ]
     },
     "execution_count": 20,
     "metadata": {},
     "output_type": "execute_result"
    }
   ],
   "source": [
    "mylist[2:5]"
   ]
  },
  {
   "cell_type": "code",
   "execution_count": 21,
   "id": "17671ecc-a16a-4d9d-ad08-bdecf6c505d9",
   "metadata": {},
   "outputs": [
    {
     "data": {
      "text/plain": [
       "['one', 'two', 'three']"
      ]
     },
     "execution_count": 21,
     "metadata": {},
     "output_type": "execute_result"
    }
   ],
   "source": [
    "mylist[:3]"
   ]
  },
  {
   "cell_type": "code",
   "execution_count": 22,
   "id": "105c5a2c-f785-4f18-a037-28afe07d4c37",
   "metadata": {},
   "outputs": [
    {
     "data": {
      "text/plain": [
       "['one', 'four', 'seven']"
      ]
     },
     "execution_count": 22,
     "metadata": {},
     "output_type": "execute_result"
    }
   ],
   "source": [
    "mylist[::3]"
   ]
  },
  {
   "cell_type": "code",
   "execution_count": 23,
   "id": "88a013f4-f4e4-4f0c-92d6-78da5f889d37",
   "metadata": {},
   "outputs": [
    {
     "data": {
      "text/plain": [
       "['one', 'two', 'three', 'four', 'five', 'six']"
      ]
     },
     "execution_count": 23,
     "metadata": {},
     "output_type": "execute_result"
    }
   ],
   "source": [
    "mylist[:-2]"
   ]
  },
  {
   "cell_type": "code",
   "execution_count": 24,
   "id": "2b26f989-e8bc-45a2-87d7-2dece5eb779a",
   "metadata": {},
   "outputs": [
    {
     "data": {
      "text/plain": [
       "['seven', 'eight']"
      ]
     },
     "execution_count": 24,
     "metadata": {},
     "output_type": "execute_result"
    }
   ],
   "source": [
    "mylist[-2:]"
   ]
  },
  {
   "cell_type": "code",
   "execution_count": 2,
   "id": "021e3bf1-fd24-425f-9f8d-42352212ec11",
   "metadata": {},
   "outputs": [],
   "source": [
    "mylist=['one', 'two', 'three', 'four', 'five', 'six', 'seven', 'eight']"
   ]
  },
  {
   "cell_type": "code",
   "execution_count": 3,
   "id": "aa44ba9f-d0a9-404c-b292-7e28a71058fd",
   "metadata": {},
   "outputs": [
    {
     "data": {
      "text/plain": [
       "['one', 'two', 'three', 'four', 'five', 'six', 'seven', 'eight']"
      ]
     },
     "execution_count": 3,
     "metadata": {},
     "output_type": "execute_result"
    }
   ],
   "source": [
    "mylist"
   ]
  },
  {
   "cell_type": "code",
   "execution_count": 4,
   "id": "e4ec9673-1cdf-4e4b-abdb-14b55924b02b",
   "metadata": {},
   "outputs": [],
   "source": [
    "mylist.insert(9,'Ten')"
   ]
  },
  {
   "cell_type": "code",
   "execution_count": 5,
   "id": "05c7d077-0ff3-4560-b616-3a50b0929421",
   "metadata": {},
   "outputs": [
    {
     "data": {
      "text/plain": [
       "['one', 'two', 'three', 'four', 'five', 'six', 'seven', 'eight', 'Ten']"
      ]
     },
     "execution_count": 5,
     "metadata": {},
     "output_type": "execute_result"
    }
   ],
   "source": [
    "mylist"
   ]
  },
  {
   "cell_type": "code",
   "execution_count": 7,
   "id": "89dce90f-1a11-4188-999d-e4cf4bc4fe91",
   "metadata": {},
   "outputs": [],
   "source": [
    "mylist.insert(10,'eleven')"
   ]
  },
  {
   "cell_type": "code",
   "execution_count": 8,
   "id": "e4391827-1eef-4f06-b29b-21d5b63d67ae",
   "metadata": {},
   "outputs": [
    {
     "data": {
      "text/plain": [
       "['one',\n",
       " 'two',\n",
       " 'three',\n",
       " 'four',\n",
       " 'five',\n",
       " 'six',\n",
       " 'seven',\n",
       " 'eight',\n",
       " 'Ten',\n",
       " 'eleven']"
      ]
     },
     "execution_count": 8,
     "metadata": {},
     "output_type": "execute_result"
    }
   ],
   "source": [
    "mylist"
   ]
  },
  {
   "cell_type": "code",
   "execution_count": 10,
   "id": "55058f3b-9822-4451-a6be-aa87df569c80",
   "metadata": {},
   "outputs": [],
   "source": [
    "mylist.remove('Ten')"
   ]
  },
  {
   "cell_type": "code",
   "execution_count": 11,
   "id": "e6d85e99-1a72-439a-a50c-e636bbf84bd9",
   "metadata": {},
   "outputs": [
    {
     "data": {
      "text/plain": [
       "['one', 'two', 'three', 'four', 'five', 'six', 'seven', 'eight', 'eleven']"
      ]
     },
     "execution_count": 11,
     "metadata": {},
     "output_type": "execute_result"
    }
   ],
   "source": [
    "mylist"
   ]
  },
  {
   "cell_type": "code",
   "execution_count": 13,
   "id": "1f49c3ef-f018-45b9-993a-6421d2c522c3",
   "metadata": {},
   "outputs": [
    {
     "data": {
      "text/plain": [
       "'eight'"
      ]
     },
     "execution_count": 13,
     "metadata": {},
     "output_type": "execute_result"
    }
   ],
   "source": [
    "mylist.pop() #remove the last element "
   ]
  },
  {
   "cell_type": "code",
   "execution_count": 15,
   "id": "43c0afd4-91e8-4aa5-a4d9-e60cb01aafa2",
   "metadata": {},
   "outputs": [
    {
     "data": {
      "text/plain": [
       "['one', 'two', 'three', 'four', 'five', 'six', 'seven']"
      ]
     },
     "execution_count": 15,
     "metadata": {},
     "output_type": "execute_result"
    }
   ],
   "source": [
    "mylist"
   ]
  },
  {
   "cell_type": "code",
   "execution_count": 16,
   "id": "54d9261b-a703-4d67-b11b-806c72970d6c",
   "metadata": {},
   "outputs": [],
   "source": [
    "mylist.append('eight')"
   ]
  },
  {
   "cell_type": "code",
   "execution_count": 17,
   "id": "a0271dab-c068-4cfe-b6ed-2b4370c7bfac",
   "metadata": {},
   "outputs": [
    {
     "data": {
      "text/plain": [
       "['one', 'two', 'three', 'four', 'five', 'six', 'seven', 'eight']"
      ]
     },
     "execution_count": 17,
     "metadata": {},
     "output_type": "execute_result"
    }
   ],
   "source": [
    "mylist"
   ]
  },
  {
   "cell_type": "code",
   "execution_count": 21,
   "id": "a203a79a-e048-49f9-90a6-464ba73d174e",
   "metadata": {},
   "outputs": [
    {
     "data": {
      "text/plain": [
       "'seven'"
      ]
     },
     "execution_count": 21,
     "metadata": {},
     "output_type": "execute_result"
    }
   ],
   "source": [
    "mylist.pop(6) #remove the item loaction at seven"
   ]
  },
  {
   "cell_type": "code",
   "execution_count": 22,
   "id": "18a251a2-ff7b-4d06-9b78-bdfafe26e772",
   "metadata": {},
   "outputs": [
    {
     "data": {
      "text/plain": [
       "['one', 'two', 'three', 'four', 'five', 'six']"
      ]
     },
     "execution_count": 22,
     "metadata": {},
     "output_type": "execute_result"
    }
   ],
   "source": [
    "mylist"
   ]
  },
  {
   "cell_type": "code",
   "execution_count": 25,
   "id": "cb6b4773-797b-4a06-856d-b99918910a30",
   "metadata": {},
   "outputs": [],
   "source": [
    "del mylist[5]"
   ]
  },
  {
   "cell_type": "code",
   "execution_count": 26,
   "id": "9aa6b98a-16f6-4598-8990-5bd4ce8f04b4",
   "metadata": {},
   "outputs": [
    {
     "data": {
      "text/plain": [
       "['one', 'two', 'three', 'four', 'five']"
      ]
     },
     "execution_count": 26,
     "metadata": {},
     "output_type": "execute_result"
    }
   ],
   "source": [
    "mylist"
   ]
  },
  {
   "cell_type": "code",
   "execution_count": 27,
   "id": "7bfec0aa-c0fc-414f-b05f-a9a5a1fcc9af",
   "metadata": {},
   "outputs": [],
   "source": [
    "mylist[0] = 1"
   ]
  },
  {
   "cell_type": "code",
   "execution_count": 28,
   "id": "71f68b1e-74e7-4cb3-8f9b-cd2bac9438af",
   "metadata": {},
   "outputs": [
    {
     "data": {
      "text/plain": [
       "[1, 'two', 'three', 'four', 'five']"
      ]
     },
     "execution_count": 28,
     "metadata": {},
     "output_type": "execute_result"
    }
   ],
   "source": [
    "mylist"
   ]
  },
  {
   "cell_type": "code",
   "execution_count": 29,
   "id": "0cafc65f-e624-4f8f-8884-229caca42788",
   "metadata": {},
   "outputs": [],
   "source": [
    "mylist[2] = 2"
   ]
  },
  {
   "cell_type": "code",
   "execution_count": 30,
   "id": "926c38a4-ee50-4d0f-949f-f5c4d155ccf9",
   "metadata": {},
   "outputs": [
    {
     "data": {
      "text/plain": [
       "[1, 'two', 2, 'four', 'five']"
      ]
     },
     "execution_count": 30,
     "metadata": {},
     "output_type": "execute_result"
    }
   ],
   "source": [
    "mylist"
   ]
  },
  {
   "cell_type": "code",
   "execution_count": 31,
   "id": "b7cab387-ea14-43a6-b19d-a691a11769dc",
   "metadata": {},
   "outputs": [],
   "source": [
    "mylist.clear()"
   ]
  },
  {
   "cell_type": "code",
   "execution_count": 32,
   "id": "9dc63837-6d82-4ae6-8a96-50eb0d79a6b2",
   "metadata": {},
   "outputs": [
    {
     "data": {
      "text/plain": [
       "[]"
      ]
     },
     "execution_count": 32,
     "metadata": {},
     "output_type": "execute_result"
    }
   ],
   "source": [
    "mylist"
   ]
  },
  {
   "cell_type": "code",
   "execution_count": 33,
   "id": "1dc2ce2b-eb77-4cdc-8609-70ab9bec0b7b",
   "metadata": {},
   "outputs": [],
   "source": [
    "del mylist"
   ]
  },
  {
   "cell_type": "code",
   "execution_count": 34,
   "id": "822d79a8-edad-4c4a-8791-ddf9e40e4a36",
   "metadata": {},
   "outputs": [
    {
     "ename": "NameError",
     "evalue": "name 'mylist' is not defined",
     "output_type": "error",
     "traceback": [
      "\u001b[1;31m---------------------------------------------------------------------------\u001b[0m",
      "\u001b[1;31mNameError\u001b[0m                                 Traceback (most recent call last)",
      "Cell \u001b[1;32mIn[34], line 1\u001b[0m\n\u001b[1;32m----> 1\u001b[0m mylist\n",
      "\u001b[1;31mNameError\u001b[0m: name 'mylist' is not defined"
     ]
    }
   ],
   "source": [
    "mylist"
   ]
  },
  {
   "cell_type": "code",
   "execution_count": 37,
   "id": "9aeaab8d-9cba-47d8-9cd8-89836cede09b",
   "metadata": {},
   "outputs": [],
   "source": [
    "## COPY LIST\n",
    "\n",
    "\n",
    "mylist = ['one', 'two', 'three', 'four', 'five', 'six', 'seven', 'eight', 'ninE']"
   ]
  },
  {
   "cell_type": "code",
   "execution_count": 39,
   "id": "84a3844d-96b3-4ea4-81a2-55245d46db36",
   "metadata": {},
   "outputs": [],
   "source": [
    "mylist1 = mylist"
   ]
  },
  {
   "cell_type": "code",
   "execution_count": 40,
   "id": "c1f7ae30-8546-4c3e-9cab-fa3763006e08",
   "metadata": {},
   "outputs": [
    {
     "data": {
      "text/plain": [
       "['one', 'two', 'three', 'four', 'five', 'six', 'seven', 'eight', 'ninE']"
      ]
     },
     "execution_count": 40,
     "metadata": {},
     "output_type": "execute_result"
    }
   ],
   "source": [
    "mylist1"
   ]
  },
  {
   "cell_type": "code",
   "execution_count": 42,
   "id": "e98c9513-264b-440b-8b59-6ee8ef7bfa44",
   "metadata": {},
   "outputs": [],
   "source": [
    "mylist2 = mylist.copy()"
   ]
  },
  {
   "cell_type": "code",
   "execution_count": 43,
   "id": "1555b6c3-756c-416a-9c66-45a4b483d959",
   "metadata": {},
   "outputs": [
    {
     "data": {
      "text/plain": [
       "(2063184910464, 2063184910464)"
      ]
     },
     "execution_count": 43,
     "metadata": {},
     "output_type": "execute_result"
    }
   ],
   "source": [
    "id(mylist), id(mylist1)"
   ]
  },
  {
   "cell_type": "code",
   "execution_count": 44,
   "id": "ec2ac2c8-f953-4016-8402-d6b27ee00ccd",
   "metadata": {},
   "outputs": [
    {
     "data": {
      "text/plain": [
       "['one', 'two', 'three', 'four', 'five', 'six', 'seven', 'eight', 'ninE']"
      ]
     },
     "execution_count": 44,
     "metadata": {},
     "output_type": "execute_result"
    }
   ],
   "source": [
    "mylist2"
   ]
  },
  {
   "cell_type": "code",
   "execution_count": 46,
   "id": "fa47ce17-2c1b-4f86-a272-fe98eddeb92a",
   "metadata": {},
   "outputs": [
    {
     "data": {
      "text/plain": [
       "2063196573504"
      ]
     },
     "execution_count": 46,
     "metadata": {},
     "output_type": "execute_result"
    }
   ],
   "source": [
    "id(mylist2)"
   ]
  },
  {
   "cell_type": "code",
   "execution_count": 49,
   "id": "f77c97cb-6b49-4615-bb6d-9da25645b6d8",
   "metadata": {},
   "outputs": [],
   "source": [
    "mylist[0] = 1"
   ]
  },
  {
   "cell_type": "code",
   "execution_count": 50,
   "id": "f71d551f-e0e4-4211-8707-a7b49a9a228a",
   "metadata": {},
   "outputs": [
    {
     "data": {
      "text/plain": [
       "[1, 'two', 'three', 'four', 'five', 'six', 'seven', 'eight', 'ninE']"
      ]
     },
     "execution_count": 50,
     "metadata": {},
     "output_type": "execute_result"
    }
   ],
   "source": [
    "mylist"
   ]
  },
  {
   "cell_type": "code",
   "execution_count": 51,
   "id": "7b3656f7-53d8-4e34-a792-12f7d9db8e9c",
   "metadata": {},
   "outputs": [
    {
     "data": {
      "text/plain": [
       "[1, 'two', 'three', 'four', 'five', 'six', 'seven', 'eight', 'ninE']"
      ]
     },
     "execution_count": 51,
     "metadata": {},
     "output_type": "execute_result"
    }
   ],
   "source": [
    "mylist1"
   ]
  },
  {
   "cell_type": "code",
   "execution_count": 53,
   "id": "1474ec47-e952-43cb-b192-7db46bfe16ab",
   "metadata": {},
   "outputs": [
    {
     "data": {
      "text/plain": [
       "['one', 'two', 'three', 'four', 'five', 'six', 'seven', 'eight', 'ninE']"
      ]
     },
     "execution_count": 53,
     "metadata": {},
     "output_type": "execute_result"
    }
   ],
   "source": [
    "mylist2"
   ]
  },
  {
   "cell_type": "code",
   "execution_count": 54,
   "id": "513d8954-ad50-4dc0-80e8-21a2d51cea2e",
   "metadata": {},
   "outputs": [],
   "source": [
    " ##join list"
   ]
  },
  {
   "cell_type": "code",
   "execution_count": 56,
   "id": "d44b7c46-635e-49f0-87f3-5dad62b7cdca",
   "metadata": {},
   "outputs": [],
   "source": [
    "list1 = ['one','two','three','four']\n",
    "list2 = ['five','six','seven','eight']"
   ]
  },
  {
   "cell_type": "code",
   "execution_count": 57,
   "id": "18651e46-1421-4ff1-8712-41dfc29632cb",
   "metadata": {},
   "outputs": [],
   "source": [
    "list3 = list1+list2"
   ]
  },
  {
   "cell_type": "code",
   "execution_count": 58,
   "id": "61ab28cd-1ad9-4712-b3b4-1cbf2496821d",
   "metadata": {},
   "outputs": [
    {
     "data": {
      "text/plain": [
       "['one', 'two', 'three', 'four', 'five', 'six', 'seven', 'eight']"
      ]
     },
     "execution_count": 58,
     "metadata": {},
     "output_type": "execute_result"
    }
   ],
   "source": [
    "list3"
   ]
  },
  {
   "cell_type": "code",
   "execution_count": 59,
   "id": "d9cacc1d-7f1e-4020-adcb-8f8cff25f03a",
   "metadata": {},
   "outputs": [],
   "source": [
    "list1.extend(list2)"
   ]
  },
  {
   "cell_type": "code",
   "execution_count": 60,
   "id": "5fb105fa-78c5-4ef1-b288-dba7c79e30f3",
   "metadata": {},
   "outputs": [
    {
     "data": {
      "text/plain": [
       "['one', 'two', 'three', 'four', 'five', 'six', 'seven', 'eight']"
      ]
     },
     "execution_count": 60,
     "metadata": {},
     "output_type": "execute_result"
    }
   ],
   "source": [
    "list1"
   ]
  },
  {
   "cell_type": "code",
   "execution_count": 62,
   "id": "530ca2d2-3f47-48e7-b305-0c6c197f5bba",
   "metadata": {},
   "outputs": [],
   "source": [
    "##reverse list\n"
   ]
  },
  {
   "cell_type": "code",
   "execution_count": 63,
   "id": "b44e6225-c602-49a1-be28-1854e53c8458",
   "metadata": {},
   "outputs": [
    {
     "data": {
      "text/plain": [
       "['one', 'two', 'three', 'four', 'five', 'six', 'seven', 'eight']"
      ]
     },
     "execution_count": 63,
     "metadata": {},
     "output_type": "execute_result"
    }
   ],
   "source": [
    "list1"
   ]
  },
  {
   "cell_type": "code",
   "execution_count": 66,
   "id": "0c6c1873-56a0-4b06-a9d3-6373fe81b746",
   "metadata": {},
   "outputs": [],
   "source": [
    "list1.reverse()"
   ]
  },
  {
   "cell_type": "code",
   "execution_count": 67,
   "id": "2bc8453a-d00e-456d-a333-e8e6f45ecbf1",
   "metadata": {},
   "outputs": [
    {
     "data": {
      "text/plain": [
       "['eight', 'seven', 'six', 'five', 'four', 'three', 'two', 'one']"
      ]
     },
     "execution_count": 67,
     "metadata": {},
     "output_type": "execute_result"
    }
   ],
   "source": [
    "list1"
   ]
  },
  {
   "cell_type": "code",
   "execution_count": 68,
   "id": "ba0d1829-4e1a-44a7-95e1-7a6527d9dd1b",
   "metadata": {},
   "outputs": [
    {
     "data": {
      "text/plain": [
       "['one', 'two', 'three', 'four', 'five', 'six', 'seven', 'eight']"
      ]
     },
     "execution_count": 68,
     "metadata": {},
     "output_type": "execute_result"
    }
   ],
   "source": [
    "list1[::-1]"
   ]
  },
  {
   "cell_type": "code",
   "execution_count": 2,
   "id": "fc235ae5-f8fd-4827-9728-af3f97203efb",
   "metadata": {},
   "outputs": [],
   "source": [
    "list1 =['one', 'two', 'three', 'four', 'five', 'six', 'seven', 'eight']"
   ]
  },
  {
   "cell_type": "code",
   "execution_count": 3,
   "id": "2ad1eec8-49e0-4c5f-bbcd-651693d3ce9b",
   "metadata": {},
   "outputs": [
    {
     "data": {
      "text/plain": [
       "['one', 'two', 'three', 'four', 'five', 'six', 'seven', 'eight']"
      ]
     },
     "execution_count": 3,
     "metadata": {},
     "output_type": "execute_result"
    }
   ],
   "source": [
    "list1"
   ]
  },
  {
   "cell_type": "code",
   "execution_count": 4,
   "id": "5cef6484-61bf-4717-871d-74b683047e17",
   "metadata": {},
   "outputs": [],
   "source": [
    "list1.reverse()"
   ]
  },
  {
   "cell_type": "code",
   "execution_count": 5,
   "id": "8b732508-519e-4a5d-b42c-8a9847171008",
   "metadata": {},
   "outputs": [
    {
     "data": {
      "text/plain": [
       "['eight', 'seven', 'six', 'five', 'four', 'three', 'two', 'one']"
      ]
     },
     "execution_count": 5,
     "metadata": {},
     "output_type": "execute_result"
    }
   ],
   "source": [
    "list1"
   ]
  },
  {
   "cell_type": "code",
   "execution_count": 6,
   "id": "e9cc99bb-660e-4c6e-84df-7be4576a3ce1",
   "metadata": {},
   "outputs": [
    {
     "data": {
      "text/plain": [
       "['one', 'two', 'three', 'four', 'five', 'six', 'seven', 'eight']"
      ]
     },
     "execution_count": 6,
     "metadata": {},
     "output_type": "execute_result"
    }
   ],
   "source": [
    "list1[::-1]"
   ]
  },
  {
   "cell_type": "code",
   "execution_count": 7,
   "id": "fb8dfb23-3c34-4c98-b05f-aacaf1aa03a1",
   "metadata": {},
   "outputs": [],
   "source": [
    "list3 = [9,5,2,99,12,88,34]"
   ]
  },
  {
   "cell_type": "code",
   "execution_count": 8,
   "id": "60634571-9b69-4f09-98cc-24cbb46585f5",
   "metadata": {},
   "outputs": [],
   "source": [
    "list3.sort()"
   ]
  },
  {
   "cell_type": "code",
   "execution_count": 9,
   "id": "317c441d-5d73-411a-8508-c8d2a4045733",
   "metadata": {},
   "outputs": [
    {
     "data": {
      "text/plain": [
       "[2, 5, 9, 12, 34, 88, 99]"
      ]
     },
     "execution_count": 9,
     "metadata": {},
     "output_type": "execute_result"
    }
   ],
   "source": [
    "list3"
   ]
  },
  {
   "cell_type": "code",
   "execution_count": 11,
   "id": "206737a4-1189-4d48-9ad1-56231dcf0ec8",
   "metadata": {},
   "outputs": [],
   "source": [
    "list3.sort(reverse=True)"
   ]
  },
  {
   "cell_type": "code",
   "execution_count": 12,
   "id": "8035f9fa-0652-4e18-bed1-3ed1d69da255",
   "metadata": {},
   "outputs": [
    {
     "data": {
      "text/plain": [
       "[99, 88, 34, 12, 9, 5, 2]"
      ]
     },
     "execution_count": 12,
     "metadata": {},
     "output_type": "execute_result"
    }
   ],
   "source": [
    "list3"
   ]
  },
  {
   "cell_type": "code",
   "execution_count": 13,
   "id": "df07b594-fc15-4b31-90c4-58eb8a2c4776",
   "metadata": {},
   "outputs": [],
   "source": [
    "list4 = [88,65,33,21,11,98] "
   ]
  },
  {
   "cell_type": "code",
   "execution_count": 14,
   "id": "7a7172e5-186b-46c6-8119-bcf976858dc0",
   "metadata": {},
   "outputs": [
    {
     "data": {
      "text/plain": [
       "[88, 65, 33, 21, 11, 98]"
      ]
     },
     "execution_count": 14,
     "metadata": {},
     "output_type": "execute_result"
    }
   ],
   "source": [
    "list4"
   ]
  },
  {
   "cell_type": "code",
   "execution_count": 17,
   "id": "7ecd0a55-ed40-4157-9128-13da2638ad47",
   "metadata": {},
   "outputs": [
    {
     "data": {
      "text/plain": [
       "[11, 21, 33, 65, 88, 98]"
      ]
     },
     "execution_count": 17,
     "metadata": {},
     "output_type": "execute_result"
    }
   ],
   "source": [
    "sorted(list4)  #Returns a new sorted list and doesn't change original"
   ]
  },
  {
   "cell_type": "code",
   "execution_count": 18,
   "id": "e0998238-bedc-4196-94fa-41a495fe584a",
   "metadata": {},
   "outputs": [
    {
     "data": {
      "text/plain": [
       "[88, 65, 33, 21, 11, 98]"
      ]
     },
     "execution_count": 18,
     "metadata": {},
     "output_type": "execute_result"
    }
   ],
   "source": [
    "list4"
   ]
  },
  {
   "cell_type": "markdown",
   "id": "d3b18958-b53f-49e9-986c-9c03037bebb6",
   "metadata": {},
   "source": [
    "Loop through in list"
   ]
  },
  {
   "cell_type": "code",
   "execution_count": 19,
   "id": "4266a199-5f67-4ed9-9eba-e1c29f9a1126",
   "metadata": {},
   "outputs": [
    {
     "data": {
      "text/plain": [
       "['eight', 'seven', 'six', 'five', 'four', 'three', 'two', 'one']"
      ]
     },
     "execution_count": 19,
     "metadata": {},
     "output_type": "execute_result"
    }
   ],
   "source": [
    "list1"
   ]
  },
  {
   "cell_type": "code",
   "execution_count": 24,
   "id": "601bbcf3-9fbe-499f-bde8-b4ed296b1634",
   "metadata": {},
   "outputs": [
    {
     "name": "stdout",
     "output_type": "stream",
     "text": [
      "eight\n",
      "seven\n",
      "six\n",
      "five\n",
      "four\n",
      "three\n",
      "two\n",
      "one\n"
     ]
    }
   ],
   "source": [
    "for i in list1:\n",
    "    print(i)"
   ]
  },
  {
   "cell_type": "code",
   "execution_count": 27,
   "id": "954dcdda-cc29-4c13-8ac8-9419a262129d",
   "metadata": {},
   "outputs": [
    {
     "name": "stdout",
     "output_type": "stream",
     "text": [
      "(0, 'eight')\n",
      "(1, 'seven')\n",
      "(2, 'six')\n",
      "(3, 'five')\n",
      "(4, 'four')\n",
      "(5, 'three')\n",
      "(6, 'two')\n",
      "(7, 'one')\n"
     ]
    }
   ],
   "source": [
    "for i in enumerate(list1):\n",
    "     print(i)"
   ]
  },
  {
   "cell_type": "markdown",
   "id": "faf32ed4-8886-4839-ad07-8712de85868c",
   "metadata": {},
   "source": [
    "COUNT"
   ]
  },
  {
   "cell_type": "code",
   "execution_count": 28,
   "id": "66aa65ba-2d17-453d-b956-314f3e5658b4",
   "metadata": {},
   "outputs": [],
   "source": [
    "list10 =['one', 'two', 'three', 'four', 'one', 'one', 'two', 'three']"
   ]
  },
  {
   "cell_type": "code",
   "execution_count": 31,
   "id": "3a22397d-4951-45b1-a59d-abb363c0bbe3",
   "metadata": {},
   "outputs": [
    {
     "data": {
      "text/plain": [
       "3"
      ]
     },
     "execution_count": 31,
     "metadata": {},
     "output_type": "execute_result"
    }
   ],
   "source": [
    "list10.count('one')"
   ]
  },
  {
   "cell_type": "code",
   "execution_count": 33,
   "id": "0ef4a42f-e099-425a-b72d-9cd6227ea1b6",
   "metadata": {},
   "outputs": [
    {
     "data": {
      "text/plain": [
       "2"
      ]
     },
     "execution_count": 33,
     "metadata": {},
     "output_type": "execute_result"
    }
   ],
   "source": [
    "list10.count('three')"
   ]
  },
  {
   "cell_type": "code",
   "execution_count": 36,
   "id": "69ad00e8-03cd-4495-b6d8-3ba55e441962",
   "metadata": {},
   "outputs": [
    {
     "data": {
      "text/plain": [
       "1"
      ]
     },
     "execution_count": 36,
     "metadata": {},
     "output_type": "execute_result"
    }
   ],
   "source": [
    "list10.count('four')"
   ]
  },
  {
   "cell_type": "markdown",
   "id": "8bc00e96-58da-4a51-bb36-5741c7c6ac51",
   "metadata": {},
   "source": [
    "All/ANY"
   ]
  },
  {
   "cell_type": "markdown",
   "id": "2a1b7205-f4aa-4b3a-b9c2-24ecbdaab95d",
   "metadata": {},
   "source": [
    "The all() method returns: \n",
    " \n",
    "True - If all elements in a list are true False - If any element in a list is false \n",
    " \n",
    "The any() function returns True if any element in the list is True. If not, any() returns False. "
   ]
  },
  {
   "cell_type": "code",
   "execution_count": 37,
   "id": "81f83ef3-e03c-441e-9175-d2c440540afc",
   "metadata": {},
   "outputs": [],
   "source": [
    "L1 = [1,2,3,4,0]"
   ]
  },
  {
   "cell_type": "code",
   "execution_count": 38,
   "id": "100465ed-c449-4df5-a2bc-be9d4a7e4bfe",
   "metadata": {},
   "outputs": [
    {
     "data": {
      "text/plain": [
       "False"
      ]
     },
     "execution_count": 38,
     "metadata": {},
     "output_type": "execute_result"
    }
   ],
   "source": [
    "all(L1)"
   ]
  },
  {
   "cell_type": "code",
   "execution_count": 39,
   "id": "79e5fef4-f115-4343-a5a3-0c4d745261ae",
   "metadata": {},
   "outputs": [
    {
     "data": {
      "text/plain": [
       "True"
      ]
     },
     "execution_count": 39,
     "metadata": {},
     "output_type": "execute_result"
    }
   ],
   "source": [
    "any(L1)"
   ]
  },
  {
   "cell_type": "code",
   "execution_count": 40,
   "id": "2cfe0c24-2d06-4bae-ac51-db7e9f123479",
   "metadata": {},
   "outputs": [],
   "source": [
    "L2 = [1,2,3,4,True,False] "
   ]
  },
  {
   "cell_type": "code",
   "execution_count": 41,
   "id": "59d26216-9194-4c62-9daf-a7b5f6c9ecde",
   "metadata": {},
   "outputs": [
    {
     "data": {
      "text/plain": [
       "False"
      ]
     },
     "execution_count": 41,
     "metadata": {},
     "output_type": "execute_result"
    }
   ],
   "source": [
    "all(L2)"
   ]
  },
  {
   "cell_type": "code",
   "execution_count": null,
   "id": "90a7512f-b0ad-4325-b0f9-c91a767e393d",
   "metadata": {},
   "outputs": [],
   "source": []
  }
 ],
 "metadata": {
  "kernelspec": {
   "display_name": "Python 3 (ipykernel)",
   "language": "python",
   "name": "python3"
  },
  "language_info": {
   "codemirror_mode": {
    "name": "ipython",
    "version": 3
   },
   "file_extension": ".py",
   "mimetype": "text/x-python",
   "name": "python",
   "nbconvert_exporter": "python",
   "pygments_lexer": "ipython3",
   "version": "3.12.4"
  }
 },
 "nbformat": 4,
 "nbformat_minor": 5
}
